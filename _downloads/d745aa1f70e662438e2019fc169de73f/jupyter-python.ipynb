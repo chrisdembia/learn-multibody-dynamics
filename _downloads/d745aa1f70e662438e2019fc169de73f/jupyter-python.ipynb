{
 "cells": [
  {
   "cell_type": "code",
   "execution_count": 1,
   "id": "62073b75",
   "metadata": {
    "execution": {
     "iopub.execute_input": "2022-06-10T14:17:51.652767Z",
     "iopub.status.busy": "2022-06-10T14:17:51.652175Z",
     "iopub.status.idle": "2022-06-10T14:17:51.664622Z",
     "shell.execute_reply": "2022-06-10T14:17:51.664070Z"
    }
   },
   "outputs": [
    {
     "data": {
      "application/json": {
       "cell": {
        "!": "OSMagics",
        "HTML": "Other",
        "SVG": "Other",
        "bash": "Other",
        "capture": "ExecutionMagics",
        "debug": "ExecutionMagics",
        "file": "Other",
        "html": "DisplayMagics",
        "javascript": "DisplayMagics",
        "js": "DisplayMagics",
        "latex": "DisplayMagics",
        "markdown": "DisplayMagics",
        "perl": "Other",
        "prun": "ExecutionMagics",
        "pypy": "Other",
        "python": "Other",
        "python2": "Other",
        "python3": "Other",
        "ruby": "Other",
        "script": "ScriptMagics",
        "sh": "Other",
        "svg": "DisplayMagics",
        "sx": "OSMagics",
        "system": "OSMagics",
        "time": "ExecutionMagics",
        "timeit": "ExecutionMagics",
        "writefile": "OSMagics"
       },
       "line": {
        "alias": "OSMagics",
        "alias_magic": "BasicMagics",
        "autoawait": "AsyncMagics",
        "autocall": "AutoMagics",
        "automagic": "AutoMagics",
        "autosave": "KernelMagics",
        "bookmark": "OSMagics",
        "cat": "Other",
        "cd": "OSMagics",
        "clear": "KernelMagics",
        "colors": "BasicMagics",
        "conda": "PackagingMagics",
        "config": "ConfigMagics",
        "connect_info": "KernelMagics",
        "cp": "Other",
        "debug": "ExecutionMagics",
        "dhist": "OSMagics",
        "dirs": "OSMagics",
        "doctest_mode": "BasicMagics",
        "ed": "Other",
        "edit": "KernelMagics",
        "env": "OSMagics",
        "gui": "BasicMagics",
        "hist": "Other",
        "history": "HistoryMagics",
        "killbgscripts": "ScriptMagics",
        "ldir": "Other",
        "less": "KernelMagics",
        "lf": "Other",
        "lk": "Other",
        "ll": "Other",
        "load": "CodeMagics",
        "load_ext": "ExtensionMagics",
        "loadpy": "CodeMagics",
        "logoff": "LoggingMagics",
        "logon": "LoggingMagics",
        "logstart": "LoggingMagics",
        "logstate": "LoggingMagics",
        "logstop": "LoggingMagics",
        "ls": "Other",
        "lsmagic": "BasicMagics",
        "lx": "Other",
        "macro": "ExecutionMagics",
        "magic": "BasicMagics",
        "man": "KernelMagics",
        "matplotlib": "PylabMagics",
        "mkdir": "Other",
        "more": "KernelMagics",
        "mv": "Other",
        "notebook": "BasicMagics",
        "page": "BasicMagics",
        "pastebin": "CodeMagics",
        "pdb": "ExecutionMagics",
        "pdef": "NamespaceMagics",
        "pdoc": "NamespaceMagics",
        "pfile": "NamespaceMagics",
        "pinfo": "NamespaceMagics",
        "pinfo2": "NamespaceMagics",
        "pip": "PackagingMagics",
        "popd": "OSMagics",
        "pprint": "BasicMagics",
        "precision": "BasicMagics",
        "prun": "ExecutionMagics",
        "psearch": "NamespaceMagics",
        "psource": "NamespaceMagics",
        "pushd": "OSMagics",
        "pwd": "OSMagics",
        "pycat": "OSMagics",
        "pylab": "PylabMagics",
        "qtconsole": "KernelMagics",
        "quickref": "BasicMagics",
        "recall": "HistoryMagics",
        "rehashx": "OSMagics",
        "reload_ext": "ExtensionMagics",
        "rep": "Other",
        "rerun": "HistoryMagics",
        "reset": "NamespaceMagics",
        "reset_selective": "NamespaceMagics",
        "rm": "Other",
        "rmdir": "Other",
        "run": "ExecutionMagics",
        "save": "CodeMagics",
        "sc": "OSMagics",
        "set_env": "OSMagics",
        "store": "StoreMagics",
        "sx": "OSMagics",
        "system": "OSMagics",
        "tb": "ExecutionMagics",
        "time": "ExecutionMagics",
        "timeit": "ExecutionMagics",
        "unalias": "OSMagics",
        "unload_ext": "ExtensionMagics",
        "who": "NamespaceMagics",
        "who_ls": "NamespaceMagics",
        "whos": "NamespaceMagics",
        "xdel": "NamespaceMagics",
        "xmode": "BasicMagics"
       }
      },
      "text/plain": [
       "Available line magics:\n",
       "%alias  %alias_magic  %autoawait  %autocall  %automagic  %autosave  %bookmark  %cat  %cd  %clear  %colors  %conda  %config  %connect_info  %cp  %debug  %dhist  %dirs  %doctest_mode  %ed  %edit  %env  %gui  %hist  %history  %killbgscripts  %ldir  %less  %lf  %lk  %ll  %load  %load_ext  %loadpy  %logoff  %logon  %logstart  %logstate  %logstop  %ls  %lsmagic  %lx  %macro  %magic  %man  %matplotlib  %mkdir  %more  %mv  %notebook  %page  %pastebin  %pdb  %pdef  %pdoc  %pfile  %pinfo  %pinfo2  %pip  %popd  %pprint  %precision  %prun  %psearch  %psource  %pushd  %pwd  %pycat  %pylab  %qtconsole  %quickref  %recall  %rehashx  %reload_ext  %rep  %rerun  %reset  %reset_selective  %rm  %rmdir  %run  %save  %sc  %set_env  %store  %sx  %system  %tb  %time  %timeit  %unalias  %unload_ext  %who  %who_ls  %whos  %xdel  %xmode\n",
       "\n",
       "Available cell magics:\n",
       "%%!  %%HTML  %%SVG  %%bash  %%capture  %%debug  %%file  %%html  %%javascript  %%js  %%latex  %%markdown  %%perl  %%prun  %%pypy  %%python  %%python2  %%python3  %%ruby  %%script  %%sh  %%svg  %%sx  %%system  %%time  %%timeit  %%writefile\n",
       "\n",
       "Automagic is ON, % prefix IS NOT needed for line magics."
      ]
     },
     "execution_count": 1,
     "metadata": {},
     "output_type": "execute_result"
    }
   ],
   "source": [
    "%lsmagic"
   ]
  },
  {
   "cell_type": "code",
   "execution_count": 2,
   "id": "bdb78b0f",
   "metadata": {
    "execution": {
     "iopub.execute_input": "2022-06-10T14:17:51.667608Z",
     "iopub.status.busy": "2022-06-10T14:17:51.667412Z",
     "iopub.status.idle": "2022-06-10T14:17:51.670736Z",
     "shell.execute_reply": "2022-06-10T14:17:51.670163Z"
    }
   },
   "outputs": [
    {
     "name": "stdout",
     "output_type": "stream",
     "text": [
      "Variable   Type    Data/Info\n",
      "----------------------------\n",
      "a          int     5\n"
     ]
    }
   ],
   "source": [
    "a = 5\n",
    "\n",
    "%whos"
   ]
  },
  {
   "cell_type": "code",
   "execution_count": 3,
   "id": "a9e4c6dc",
   "metadata": {
    "execution": {
     "iopub.execute_input": "2022-06-10T14:17:51.673846Z",
     "iopub.status.busy": "2022-06-10T14:17:51.673536Z",
     "iopub.status.idle": "2022-06-10T14:17:51.676501Z",
     "shell.execute_reply": "2022-06-10T14:17:51.675871Z"
    }
   },
   "outputs": [],
   "source": [
    "?"
   ]
  },
  {
   "cell_type": "code",
   "execution_count": 4,
   "id": "024395e6",
   "metadata": {
    "execution": {
     "iopub.execute_input": "2022-06-10T14:17:51.678854Z",
     "iopub.status.busy": "2022-06-10T14:17:51.678419Z",
     "iopub.status.idle": "2022-06-10T14:17:51.682488Z",
     "shell.execute_reply": "2022-06-10T14:17:51.681841Z"
    }
   },
   "outputs": [],
   "source": [
    "%quickref"
   ]
  },
  {
   "cell_type": "code",
   "execution_count": 5,
   "id": "ac3e729b",
   "metadata": {
    "execution": {
     "iopub.execute_input": "2022-06-10T14:17:51.684683Z",
     "iopub.status.busy": "2022-06-10T14:17:51.684340Z",
     "iopub.status.idle": "2022-06-10T14:17:51.720748Z",
     "shell.execute_reply": "2022-06-10T14:17:51.720219Z"
    }
   },
   "outputs": [],
   "source": [
    "round?"
   ]
  },
  {
   "cell_type": "code",
   "execution_count": 6,
   "id": "b5a0dc28",
   "metadata": {
    "execution": {
     "iopub.execute_input": "2022-06-10T14:17:51.723199Z",
     "iopub.status.busy": "2022-06-10T14:17:51.722892Z",
     "iopub.status.idle": "2022-06-10T14:17:51.727236Z",
     "shell.execute_reply": "2022-06-10T14:17:51.726834Z"
    }
   },
   "outputs": [
    {
     "data": {
      "text/plain": [
       "(int, float, float, str, str)"
      ]
     },
     "execution_count": 6,
     "metadata": {},
     "output_type": "execute_result"
    }
   ],
   "source": [
    "a = 5\n",
    "b = 5.0\n",
    "c = float(5)\n",
    "d = 'dee'\n",
    "e = 'e'\n",
    "\n",
    "type(a), type(b), type(c), type(d), type(e)"
   ]
  },
  {
   "cell_type": "code",
   "execution_count": 7,
   "id": "be9b7325",
   "metadata": {
    "execution": {
     "iopub.execute_input": "2022-06-10T14:17:51.729379Z",
     "iopub.status.busy": "2022-06-10T14:17:51.729048Z",
     "iopub.status.idle": "2022-06-10T14:17:51.732729Z",
     "shell.execute_reply": "2022-06-10T14:17:51.732200Z"
    }
   },
   "outputs": [],
   "source": [
    "empty_list = []\n",
    "\n",
    "string_list = ['lions', 'tigers', 'bears', 'sharks', 'hamsters']\n",
    "\n",
    "int_list = [0, 1, 2, 3, 4]\n",
    "\n",
    "int_list2 = list(range(5,10))\n",
    "\n",
    "list_from_variables = [a,b,c,d,e]\n",
    "\n",
    "list_of_lists = [empty_list,\n",
    "                 string_list,\n",
    "                 list_from_variables,\n",
    "                 int_list,\n",
    "                 int_list2]"
   ]
  },
  {
   "cell_type": "code",
   "execution_count": 8,
   "id": "aff7d470",
   "metadata": {
    "execution": {
     "iopub.execute_input": "2022-06-10T14:17:51.734762Z",
     "iopub.status.busy": "2022-06-10T14:17:51.734583Z",
     "iopub.status.idle": "2022-06-10T14:17:51.737863Z",
     "shell.execute_reply": "2022-06-10T14:17:51.737347Z"
    }
   },
   "outputs": [
    {
     "data": {
      "text/plain": [
       "[]"
      ]
     },
     "execution_count": 8,
     "metadata": {},
     "output_type": "execute_result"
    }
   ],
   "source": [
    "empty_list"
   ]
  },
  {
   "cell_type": "code",
   "execution_count": 9,
   "id": "a0a5a157",
   "metadata": {
    "execution": {
     "iopub.execute_input": "2022-06-10T14:17:51.740366Z",
     "iopub.status.busy": "2022-06-10T14:17:51.740187Z",
     "iopub.status.idle": "2022-06-10T14:17:51.743485Z",
     "shell.execute_reply": "2022-06-10T14:17:51.742969Z"
    }
   },
   "outputs": [
    {
     "data": {
      "text/plain": [
       "['lions', 'tigers', 'bears', 'sharks', 'hamsters']"
      ]
     },
     "execution_count": 9,
     "metadata": {},
     "output_type": "execute_result"
    }
   ],
   "source": [
    "string_list"
   ]
  },
  {
   "cell_type": "code",
   "execution_count": 10,
   "id": "09585587",
   "metadata": {
    "execution": {
     "iopub.execute_input": "2022-06-10T14:17:51.746103Z",
     "iopub.status.busy": "2022-06-10T14:17:51.745687Z",
     "iopub.status.idle": "2022-06-10T14:17:51.749146Z",
     "shell.execute_reply": "2022-06-10T14:17:51.748641Z"
    }
   },
   "outputs": [
    {
     "data": {
      "text/plain": [
       "[0, 1, 2, 3, 4]"
      ]
     },
     "execution_count": 10,
     "metadata": {},
     "output_type": "execute_result"
    }
   ],
   "source": [
    "int_list"
   ]
  },
  {
   "cell_type": "code",
   "execution_count": 11,
   "id": "b106cada",
   "metadata": {
    "execution": {
     "iopub.execute_input": "2022-06-10T14:17:51.751893Z",
     "iopub.status.busy": "2022-06-10T14:17:51.751469Z",
     "iopub.status.idle": "2022-06-10T14:17:51.754922Z",
     "shell.execute_reply": "2022-06-10T14:17:51.754407Z"
    }
   },
   "outputs": [
    {
     "data": {
      "text/plain": [
       "[5, 6, 7, 8, 9]"
      ]
     },
     "execution_count": 11,
     "metadata": {},
     "output_type": "execute_result"
    }
   ],
   "source": [
    "int_list2"
   ]
  },
  {
   "cell_type": "code",
   "execution_count": 12,
   "id": "f52b90dc",
   "metadata": {
    "execution": {
     "iopub.execute_input": "2022-06-10T14:17:51.757440Z",
     "iopub.status.busy": "2022-06-10T14:17:51.757158Z",
     "iopub.status.idle": "2022-06-10T14:17:51.760634Z",
     "shell.execute_reply": "2022-06-10T14:17:51.760110Z"
    }
   },
   "outputs": [
    {
     "data": {
      "text/plain": [
       "[5, 5.0, 5.0, 'dee', 'e']"
      ]
     },
     "execution_count": 12,
     "metadata": {},
     "output_type": "execute_result"
    }
   ],
   "source": [
    "list_from_variables"
   ]
  },
  {
   "cell_type": "code",
   "execution_count": 13,
   "id": "fe9bd316",
   "metadata": {
    "execution": {
     "iopub.execute_input": "2022-06-10T14:17:51.763171Z",
     "iopub.status.busy": "2022-06-10T14:17:51.762756Z",
     "iopub.status.idle": "2022-06-10T14:17:51.766408Z",
     "shell.execute_reply": "2022-06-10T14:17:51.765877Z"
    }
   },
   "outputs": [
    {
     "data": {
      "text/plain": [
       "[[],\n",
       " ['lions', 'tigers', 'bears', 'sharks', 'hamsters'],\n",
       " [5, 5.0, 5.0, 'dee', 'e'],\n",
       " [0, 1, 2, 3, 4],\n",
       " [5, 6, 7, 8, 9]]"
      ]
     },
     "execution_count": 13,
     "metadata": {},
     "output_type": "execute_result"
    }
   ],
   "source": [
    "list_of_lists"
   ]
  },
  {
   "cell_type": "code",
   "execution_count": 14,
   "id": "b93b3efb",
   "metadata": {
    "execution": {
     "iopub.execute_input": "2022-06-10T14:17:51.768898Z",
     "iopub.status.busy": "2022-06-10T14:17:51.768486Z",
     "iopub.status.idle": "2022-06-10T14:17:51.771886Z",
     "shell.execute_reply": "2022-06-10T14:17:51.771381Z"
    }
   },
   "outputs": [
    {
     "data": {
      "text/plain": [
       "'lions'"
      ]
     },
     "execution_count": 14,
     "metadata": {},
     "output_type": "execute_result"
    }
   ],
   "source": [
    "string_list[0]"
   ]
  },
  {
   "cell_type": "code",
   "execution_count": 15,
   "id": "d7ac7f83",
   "metadata": {
    "execution": {
     "iopub.execute_input": "2022-06-10T14:17:51.774405Z",
     "iopub.status.busy": "2022-06-10T14:17:51.773983Z",
     "iopub.status.idle": "2022-06-10T14:17:51.777487Z",
     "shell.execute_reply": "2022-06-10T14:17:51.776973Z"
    }
   },
   "outputs": [
    {
     "data": {
      "text/plain": [
       "['tigers', 'bears', 'sharks']"
      ]
     },
     "execution_count": 15,
     "metadata": {},
     "output_type": "execute_result"
    }
   ],
   "source": [
    "string_list[1:4]"
   ]
  },
  {
   "cell_type": "code",
   "execution_count": 16,
   "id": "4656a4a1",
   "metadata": {
    "execution": {
     "iopub.execute_input": "2022-06-10T14:17:51.780006Z",
     "iopub.status.busy": "2022-06-10T14:17:51.779589Z",
     "iopub.status.idle": "2022-06-10T14:17:51.783059Z",
     "shell.execute_reply": "2022-06-10T14:17:51.782543Z"
    }
   },
   "outputs": [
    {
     "data": {
      "text/plain": [
       "[0, 2, 4]"
      ]
     },
     "execution_count": 16,
     "metadata": {},
     "output_type": "execute_result"
    }
   ],
   "source": [
    "int_list[::2]"
   ]
  },
  {
   "cell_type": "code",
   "execution_count": 17,
   "id": "31649725",
   "metadata": {
    "execution": {
     "iopub.execute_input": "2022-06-10T14:17:51.785593Z",
     "iopub.status.busy": "2022-06-10T14:17:51.785177Z",
     "iopub.status.idle": "2022-06-10T14:17:51.788590Z",
     "shell.execute_reply": "2022-06-10T14:17:51.788079Z"
    }
   },
   "outputs": [
    {
     "data": {
      "text/plain": [
       "'hamsters'"
      ]
     },
     "execution_count": 17,
     "metadata": {},
     "output_type": "execute_result"
    }
   ],
   "source": [
    "list_of_lists[1][4]"
   ]
  },
  {
   "cell_type": "code",
   "execution_count": 18,
   "id": "865e5e52",
   "metadata": {
    "execution": {
     "iopub.execute_input": "2022-06-10T14:17:51.790954Z",
     "iopub.status.busy": "2022-06-10T14:17:51.790677Z",
     "iopub.status.idle": "2022-06-10T14:17:51.793518Z",
     "shell.execute_reply": "2022-06-10T14:17:51.792997Z"
    }
   },
   "outputs": [],
   "source": [
    "int_list[2] = 222\n",
    "\n",
    "int_list.append(5)\n",
    "\n",
    "string_list.remove('lions')\n",
    "\n",
    "list_from_variables.extend(int_list)"
   ]
  },
  {
   "cell_type": "code",
   "execution_count": 19,
   "id": "da94ebf3",
   "metadata": {
    "execution": {
     "iopub.execute_input": "2022-06-10T14:17:51.795709Z",
     "iopub.status.busy": "2022-06-10T14:17:51.795286Z",
     "iopub.status.idle": "2022-06-10T14:17:51.798686Z",
     "shell.execute_reply": "2022-06-10T14:17:51.798157Z"
    }
   },
   "outputs": [
    {
     "data": {
      "text/plain": [
       "[0, 1, 222, 3, 4, 5]"
      ]
     },
     "execution_count": 19,
     "metadata": {},
     "output_type": "execute_result"
    }
   ],
   "source": [
    "int_list"
   ]
  },
  {
   "cell_type": "code",
   "execution_count": 20,
   "id": "ef4f7a67",
   "metadata": {
    "execution": {
     "iopub.execute_input": "2022-06-10T14:17:51.801146Z",
     "iopub.status.busy": "2022-06-10T14:17:51.800738Z",
     "iopub.status.idle": "2022-06-10T14:17:51.804148Z",
     "shell.execute_reply": "2022-06-10T14:17:51.803621Z"
    }
   },
   "outputs": [
    {
     "data": {
      "text/plain": [
       "['tigers', 'bears', 'sharks', 'hamsters']"
      ]
     },
     "execution_count": 20,
     "metadata": {},
     "output_type": "execute_result"
    }
   ],
   "source": [
    "string_list"
   ]
  },
  {
   "cell_type": "code",
   "execution_count": 21,
   "id": "a6ecacef",
   "metadata": {
    "execution": {
     "iopub.execute_input": "2022-06-10T14:17:51.806720Z",
     "iopub.status.busy": "2022-06-10T14:17:51.806290Z",
     "iopub.status.idle": "2022-06-10T14:17:51.809752Z",
     "shell.execute_reply": "2022-06-10T14:17:51.809249Z"
    }
   },
   "outputs": [
    {
     "data": {
      "text/plain": [
       "[5, 5.0, 5.0, 'dee', 'e', 0, 1, 222, 3, 4, 5]"
      ]
     },
     "execution_count": 21,
     "metadata": {},
     "output_type": "execute_result"
    }
   ],
   "source": [
    "list_from_variables"
   ]
  },
  {
   "cell_type": "code",
   "execution_count": 22,
   "id": "4ce8c6d8",
   "metadata": {
    "execution": {
     "iopub.execute_input": "2022-06-10T14:17:51.812357Z",
     "iopub.status.busy": "2022-06-10T14:17:51.811946Z",
     "iopub.status.idle": "2022-06-10T14:17:51.815763Z",
     "shell.execute_reply": "2022-06-10T14:17:51.814986Z"
    }
   },
   "outputs": [
    {
     "data": {
      "text/plain": [
       "(32, 'tall', 'likes hats')"
      ]
     },
     "execution_count": 22,
     "metadata": {},
     "output_type": "execute_result"
    }
   ],
   "source": [
    "joe_blow = (32, 'tall', 'likes hats')\n",
    "joe_blow"
   ]
  },
  {
   "cell_type": "code",
   "execution_count": 23,
   "id": "459949d2",
   "metadata": {
    "execution": {
     "iopub.execute_input": "2022-06-10T14:17:51.818121Z",
     "iopub.status.busy": "2022-06-10T14:17:51.817645Z",
     "iopub.status.idle": "2022-06-10T14:17:51.821104Z",
     "shell.execute_reply": "2022-06-10T14:17:51.820597Z"
    }
   },
   "outputs": [
    {
     "data": {
      "text/plain": [
       "'tall'"
      ]
     },
     "execution_count": 23,
     "metadata": {},
     "output_type": "execute_result"
    }
   ],
   "source": [
    "joe_blow[1]"
   ]
  },
  {
   "cell_type": "code",
   "execution_count": 24,
   "id": "6cee0de1",
   "metadata": {
    "execution": {
     "iopub.execute_input": "2022-06-10T14:17:51.823232Z",
     "iopub.status.busy": "2022-06-10T14:17:51.822795Z",
     "iopub.status.idle": "2022-06-10T14:17:52.191034Z",
     "shell.execute_reply": "2022-06-10T14:17:52.190341Z"
    }
   },
   "outputs": [
    {
     "ename": "AttributeError",
     "evalue": "'tuple' object has no attribute 'append'",
     "output_type": "error",
     "traceback": [
      "\u001b[0;31m---------------------------------------------------------------------------\u001b[0m",
      "\u001b[0;31mAttributeError\u001b[0m                            Traceback (most recent call last)",
      "Input \u001b[0;32mIn [24]\u001b[0m, in \u001b[0;36m<cell line: 1>\u001b[0;34m()\u001b[0m\n\u001b[0;32m----> 1\u001b[0m \u001b[43mjoe_blow\u001b[49m\u001b[38;5;241;43m.\u001b[39;49m\u001b[43mappend\u001b[49m(\u001b[38;5;124m'\u001b[39m\u001b[38;5;124mmarried\u001b[39m\u001b[38;5;124m'\u001b[39m)\n",
      "\u001b[0;31mAttributeError\u001b[0m: 'tuple' object has no attribute 'append'"
     ]
    }
   ],
   "source": [
    "joe_blow.append('married')"
   ]
  },
  {
   "cell_type": "code",
   "execution_count": 25,
   "id": "bc297d37",
   "metadata": {
    "execution": {
     "iopub.execute_input": "2022-06-10T14:17:52.194224Z",
     "iopub.status.busy": "2022-06-10T14:17:52.193860Z",
     "iopub.status.idle": "2022-06-10T14:17:52.205533Z",
     "shell.execute_reply": "2022-06-10T14:17:52.204986Z"
    }
   },
   "outputs": [
    {
     "ename": "TypeError",
     "evalue": "'tuple' object does not support item assignment",
     "output_type": "error",
     "traceback": [
      "\u001b[0;31m---------------------------------------------------------------------------\u001b[0m",
      "\u001b[0;31mTypeError\u001b[0m                                 Traceback (most recent call last)",
      "Input \u001b[0;32mIn [25]\u001b[0m, in \u001b[0;36m<cell line: 1>\u001b[0;34m()\u001b[0m\n\u001b[0;32m----> 1\u001b[0m joe_blow[\u001b[38;5;241m2\u001b[39m] \u001b[38;5;241m=\u001b[39m \u001b[38;5;124m'\u001b[39m\u001b[38;5;124mnot really a fan of hats\u001b[39m\u001b[38;5;124m'\u001b[39m\n",
      "\u001b[0;31mTypeError\u001b[0m: 'tuple' object does not support item assignment"
     ]
    }
   ],
   "source": [
    "joe_blow[2] = 'not really a fan of hats'"
   ]
  },
  {
   "cell_type": "code",
   "execution_count": 26,
   "id": "42617f3f",
   "metadata": {
    "execution": {
     "iopub.execute_input": "2022-06-10T14:17:52.207990Z",
     "iopub.status.busy": "2022-06-10T14:17:52.207665Z",
     "iopub.status.idle": "2022-06-10T14:17:52.211827Z",
     "shell.execute_reply": "2022-06-10T14:17:52.211291Z"
    }
   },
   "outputs": [
    {
     "data": {
      "text/plain": [
       "'elephant'"
      ]
     },
     "execution_count": 26,
     "metadata": {},
     "output_type": "execute_result"
    }
   ],
   "source": [
    "pets = ('elephant', 'cow', 'rock')\n",
    "\n",
    "pet1, pet2, pet3 = pets\n",
    "\n",
    "pet1"
   ]
  },
  {
   "cell_type": "code",
   "execution_count": 27,
   "id": "fe7953a2",
   "metadata": {
    "execution": {
     "iopub.execute_input": "2022-06-10T14:17:52.214742Z",
     "iopub.status.busy": "2022-06-10T14:17:52.214438Z",
     "iopub.status.idle": "2022-06-10T14:17:52.218205Z",
     "shell.execute_reply": "2022-06-10T14:17:52.217677Z"
    }
   },
   "outputs": [
    {
     "data": {
      "text/plain": [
       "('elephant',)"
      ]
     },
     "execution_count": 27,
     "metadata": {},
     "output_type": "execute_result"
    }
   ],
   "source": [
    "tuple_with_one_item = pet1,\n",
    "\n",
    "tuple_with_one_item"
   ]
  },
  {
   "cell_type": "code",
   "execution_count": 28,
   "id": "8d60556b",
   "metadata": {
    "execution": {
     "iopub.execute_input": "2022-06-10T14:17:52.221030Z",
     "iopub.status.busy": "2022-06-10T14:17:52.220683Z",
     "iopub.status.idle": "2022-06-10T14:17:52.224563Z",
     "shell.execute_reply": "2022-06-10T14:17:52.224051Z"
    }
   },
   "outputs": [
    {
     "data": {
      "text/plain": [
       "{'key1': 'value1', 'key2': 'value2', 'key3': 'value3'}"
      ]
     },
     "execution_count": 28,
     "metadata": {},
     "output_type": "execute_result"
    }
   ],
   "source": [
    "dictionary0 = {'key1': 'value1', 'key2': 'value2', 'key3': 'value3'}\n",
    "dictionary0"
   ]
  },
  {
   "cell_type": "code",
   "execution_count": 29,
   "id": "3f8f11a5",
   "metadata": {
    "execution": {
     "iopub.execute_input": "2022-06-10T14:17:52.227495Z",
     "iopub.status.busy": "2022-06-10T14:17:52.227007Z",
     "iopub.status.idle": "2022-06-10T14:17:52.230854Z",
     "shell.execute_reply": "2022-06-10T14:17:52.230326Z"
    }
   },
   "outputs": [
    {
     "data": {
      "text/plain": [
       "{1: 'value1', 2: 'value2', 3: 'value3'}"
      ]
     },
     "execution_count": 29,
     "metadata": {},
     "output_type": "execute_result"
    }
   ],
   "source": [
    "dictionary1 = {1: 'value1', 2: 'value2', 3: 'value3'}\n",
    "dictionary1"
   ]
  },
  {
   "cell_type": "code",
   "execution_count": 30,
   "id": "19f1cc99",
   "metadata": {
    "execution": {
     "iopub.execute_input": "2022-06-10T14:17:52.233069Z",
     "iopub.status.busy": "2022-06-10T14:17:52.232646Z",
     "iopub.status.idle": "2022-06-10T14:17:52.236298Z",
     "shell.execute_reply": "2022-06-10T14:17:52.235784Z"
    }
   },
   "outputs": [
    {
     "data": {
      "text/plain": [
       "[1, 2, 3]"
      ]
     },
     "execution_count": 30,
     "metadata": {},
     "output_type": "execute_result"
    }
   ],
   "source": [
    "list(dictionary1.keys())"
   ]
  },
  {
   "cell_type": "code",
   "execution_count": 31,
   "id": "510af156",
   "metadata": {
    "execution": {
     "iopub.execute_input": "2022-06-10T14:17:52.239056Z",
     "iopub.status.busy": "2022-06-10T14:17:52.238772Z",
     "iopub.status.idle": "2022-06-10T14:17:52.242934Z",
     "shell.execute_reply": "2022-06-10T14:17:52.241949Z"
    }
   },
   "outputs": [
    {
     "data": {
      "text/plain": [
       "['value1', 'value2', 'value3']"
      ]
     },
     "execution_count": 31,
     "metadata": {},
     "output_type": "execute_result"
    }
   ],
   "source": [
    "list(dictionary1.values())"
   ]
  },
  {
   "cell_type": "code",
   "execution_count": 32,
   "id": "3995e0a2",
   "metadata": {
    "execution": {
     "iopub.execute_input": "2022-06-10T14:17:52.245202Z",
     "iopub.status.busy": "2022-06-10T14:17:52.244777Z",
     "iopub.status.idle": "2022-06-10T14:17:52.248510Z",
     "shell.execute_reply": "2022-06-10T14:17:52.247995Z"
    }
   },
   "outputs": [
    {
     "data": {
      "text/plain": [
       "50"
      ]
     },
     "execution_count": 32,
     "metadata": {},
     "output_type": "execute_result"
    }
   ],
   "source": [
    "cylinder = {'mass': 50, 'base': 10, 'height': 100}\n",
    "cylinder['mass']"
   ]
  },
  {
   "cell_type": "code",
   "execution_count": 33,
   "id": "210b1071",
   "metadata": {
    "execution": {
     "iopub.execute_input": "2022-06-10T14:17:52.251261Z",
     "iopub.status.busy": "2022-06-10T14:17:52.250830Z",
     "iopub.status.idle": "2022-06-10T14:17:52.254842Z",
     "shell.execute_reply": "2022-06-10T14:17:52.254316Z"
    }
   },
   "outputs": [
    {
     "data": {
      "text/plain": [
       "{'mass01': 10, 'inertia01': 1, 'mass02': 50, 'inertia02': 5}"
      ]
     },
     "execution_count": 33,
     "metadata": {},
     "output_type": "execute_result"
    }
   ],
   "source": [
    "keys = ['mass01', 'inertia01', 'mass02', 'inertia02']\n",
    "values = [10, 1, 50, 5]\n",
    "dict(zip(keys, values))"
   ]
  },
  {
   "cell_type": "code",
   "execution_count": 34,
   "id": "97738178",
   "metadata": {
    "execution": {
     "iopub.execute_input": "2022-06-10T14:17:52.257381Z",
     "iopub.status.busy": "2022-06-10T14:17:52.257100Z",
     "iopub.status.idle": "2022-06-10T14:17:52.260949Z",
     "shell.execute_reply": "2022-06-10T14:17:52.260438Z"
    }
   },
   "outputs": [
    {
     "data": {
      "text/plain": [
       "100"
      ]
     },
     "execution_count": 34,
     "metadata": {},
     "output_type": "execute_result"
    }
   ],
   "source": [
    "def abs_value(A):\n",
    "    if A < 0:\n",
    "        A = -A\n",
    "    return A\n",
    "\n",
    "abs_value(-100)"
   ]
  },
  {
   "cell_type": "code",
   "execution_count": 35,
   "id": "234762b8",
   "metadata": {
    "execution": {
     "iopub.execute_input": "2022-06-10T14:17:52.263672Z",
     "iopub.status.busy": "2022-06-10T14:17:52.263247Z",
     "iopub.status.idle": "2022-06-10T14:17:52.266680Z",
     "shell.execute_reply": "2022-06-10T14:17:52.266156Z"
    }
   },
   "outputs": [
    {
     "data": {
      "text/plain": [
       "123"
      ]
     },
     "execution_count": 35,
     "metadata": {},
     "output_type": "execute_result"
    }
   ],
   "source": [
    "abs_value(123)"
   ]
  },
  {
   "cell_type": "code",
   "execution_count": 36,
   "id": "4bcf85bf",
   "metadata": {
    "execution": {
     "iopub.execute_input": "2022-06-10T14:17:52.269263Z",
     "iopub.status.busy": "2022-06-10T14:17:52.268960Z",
     "iopub.status.idle": "2022-06-10T14:17:52.271825Z",
     "shell.execute_reply": "2022-06-10T14:17:52.271296Z"
    }
   },
   "outputs": [],
   "source": [
    "def long_div(dividend, divisor):\n",
    "    quotient = dividend // divisor  # // : floor division\n",
    "    remainder = dividend % divisor  # % : modulo\n",
    "    return quotient, remainder"
   ]
  },
  {
   "cell_type": "code",
   "execution_count": 37,
   "id": "92585937",
   "metadata": {
    "execution": {
     "iopub.execute_input": "2022-06-10T14:17:52.273959Z",
     "iopub.status.busy": "2022-06-10T14:17:52.273554Z",
     "iopub.status.idle": "2022-06-10T14:17:52.277273Z",
     "shell.execute_reply": "2022-06-10T14:17:52.276762Z"
    }
   },
   "outputs": [
    {
     "data": {
      "text/plain": [
       "(17, 5)"
      ]
     },
     "execution_count": 37,
     "metadata": {},
     "output_type": "execute_result"
    }
   ],
   "source": [
    "a = 430\n",
    "b = 25\n",
    "\n",
    "quo, rem = long_div(a, b)\n",
    "\n",
    "quo, rem"
   ]
  },
  {
   "cell_type": "code",
   "execution_count": 38,
   "id": "41802c8c",
   "metadata": {
    "execution": {
     "iopub.execute_input": "2022-06-10T14:17:52.279796Z",
     "iopub.status.busy": "2022-06-10T14:17:52.279388Z",
     "iopub.status.idle": "2022-06-10T14:17:52.282426Z",
     "shell.execute_reply": "2022-06-10T14:17:52.281878Z"
    }
   },
   "outputs": [
    {
     "name": "stdout",
     "output_type": "stream",
     "text": [
      "430 divided 25 is 17 remainder 5\n"
     ]
    }
   ],
   "source": [
    "msg = '{} divided {} is {} remainder {}'.format(a, b, quo, rem)\n",
    "print(msg)"
   ]
  },
  {
   "cell_type": "code",
   "execution_count": 39,
   "id": "6add15fc",
   "metadata": {
    "execution": {
     "iopub.execute_input": "2022-06-10T14:17:52.285273Z",
     "iopub.status.busy": "2022-06-10T14:17:52.284834Z",
     "iopub.status.idle": "2022-06-10T14:17:52.287766Z",
     "shell.execute_reply": "2022-06-10T14:17:52.287231Z"
    }
   },
   "outputs": [
    {
     "name": "stdout",
     "output_type": "stream",
     "text": [
      "3.9.13 | packaged by conda-forge | (main, May 27 2022, 16:56:21) \n",
      "[GCC 10.3.0]\n"
     ]
    }
   ],
   "source": [
    "import sys\n",
    "\n",
    "print(sys.version)"
   ]
  },
  {
   "cell_type": "code",
   "execution_count": 40,
   "id": "d3a7edf5",
   "metadata": {
    "execution": {
     "iopub.execute_input": "2022-06-10T14:17:52.290636Z",
     "iopub.status.busy": "2022-06-10T14:17:52.290204Z",
     "iopub.status.idle": "2022-06-10T14:17:52.293111Z",
     "shell.execute_reply": "2022-06-10T14:17:52.292593Z"
    }
   },
   "outputs": [
    {
     "name": "stdout",
     "output_type": "stream",
     "text": [
      "3.9.13 | packaged by conda-forge | (main, May 27 2022, 16:56:21) \n",
      "[GCC 10.3.0]\n"
     ]
    }
   ],
   "source": [
    "from sys import version\n",
    "\n",
    "print(version)"
   ]
  },
  {
   "cell_type": "code",
   "execution_count": 41,
   "id": "347e293e",
   "metadata": {
    "execution": {
     "iopub.execute_input": "2022-06-10T14:17:52.295812Z",
     "iopub.status.busy": "2022-06-10T14:17:52.295403Z",
     "iopub.status.idle": "2022-06-10T14:17:53.183461Z",
     "shell.execute_reply": "2022-06-10T14:17:53.182758Z"
    }
   },
   "outputs": [],
   "source": [
    "import sympy as sm\n",
    "import numpy as np\n",
    "import scipy as sp\n",
    "import matplotlib.pyplot as plt"
   ]
  },
  {
   "cell_type": "code",
   "execution_count": 42,
   "id": "d44ab50e",
   "metadata": {
    "execution": {
     "iopub.execute_input": "2022-06-10T14:17:53.187356Z",
     "iopub.status.busy": "2022-06-10T14:17:53.186911Z",
     "iopub.status.idle": "2022-06-10T14:17:53.194227Z",
     "shell.execute_reply": "2022-06-10T14:17:53.193744Z"
    }
   },
   "outputs": [
    {
     "data": {
      "text/latex": [
       "$\\displaystyle 0.843853958732492$"
      ],
      "text/plain": [
       "0.843853958732492"
      ]
     },
     "execution_count": 42,
     "metadata": {},
     "output_type": "execute_result"
    }
   ],
   "source": [
    "sm.cos(12.0)"
   ]
  },
  {
   "cell_type": "code",
   "execution_count": 43,
   "id": "6e92f3e7",
   "metadata": {
    "execution": {
     "iopub.execute_input": "2022-06-10T14:17:53.196958Z",
     "iopub.status.busy": "2022-06-10T14:17:53.196532Z",
     "iopub.status.idle": "2022-06-10T14:17:53.201919Z",
     "shell.execute_reply": "2022-06-10T14:17:53.201466Z"
    }
   },
   "outputs": [
    {
     "data": {
      "text/plain": [
       "0.8438539587324921"
      ]
     },
     "execution_count": 43,
     "metadata": {},
     "output_type": "execute_result"
    }
   ],
   "source": [
    "np.cos(12.0)"
   ]
  },
  {
   "cell_type": "code",
   "execution_count": 44,
   "id": "7932b3ef",
   "metadata": {
    "execution": {
     "iopub.execute_input": "2022-06-10T14:17:53.204274Z",
     "iopub.status.busy": "2022-06-10T14:17:53.203996Z",
     "iopub.status.idle": "2022-06-10T14:17:53.208357Z",
     "shell.execute_reply": "2022-06-10T14:17:53.207840Z"
    }
   },
   "outputs": [
    {
     "name": "stderr",
     "output_type": "stream",
     "text": [
      "/tmp/ipykernel_3554/3139199006.py:1: DeprecationWarning: scipy.cos is deprecated and will be removed in SciPy 2.0.0, use numpy.cos instead\n",
      "  sp.cos(12.0)\n"
     ]
    },
    {
     "data": {
      "text/plain": [
       "0.8438539587324921"
      ]
     },
     "execution_count": 44,
     "metadata": {},
     "output_type": "execute_result"
    }
   ],
   "source": [
    "sp.cos(12.0)"
   ]
  }
 ],
 "metadata": {
  "kernelspec": {
   "display_name": "Python 3 (ipykernel)",
   "language": "python",
   "name": "python3"
  },
  "language_info": {
   "codemirror_mode": {
    "name": "ipython",
    "version": 3
   },
   "file_extension": ".py",
   "mimetype": "text/x-python",
   "name": "python",
   "nbconvert_exporter": "python",
   "pygments_lexer": "ipython3",
   "version": "3.9.13"
  }
 },
 "nbformat": 4,
 "nbformat_minor": 5
}