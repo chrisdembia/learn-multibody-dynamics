{
 "cells": [
  {
   "cell_type": "code",
   "execution_count": 1,
   "id": "a5302153",
   "metadata": {
    "execution": {
     "iopub.execute_input": "2022-06-10T14:19:04.497355Z",
     "iopub.status.busy": "2022-06-10T14:19:04.497100Z",
     "iopub.status.idle": "2022-06-10T14:19:04.783539Z",
     "shell.execute_reply": "2022-06-10T14:19:04.782824Z"
    }
   },
   "outputs": [],
   "source": [
    "import sympy as sm"
   ]
  },
  {
   "cell_type": "code",
   "execution_count": 2,
   "id": "57fca07f",
   "metadata": {
    "execution": {
     "iopub.execute_input": "2022-06-10T14:19:04.787127Z",
     "iopub.status.busy": "2022-06-10T14:19:04.786841Z",
     "iopub.status.idle": "2022-06-10T14:19:04.793327Z",
     "shell.execute_reply": "2022-06-10T14:19:04.792769Z"
    }
   },
   "outputs": [],
   "source": [
    "sm.init_printing(use_latex='mathjax')"
   ]
  },
  {
   "cell_type": "code",
   "execution_count": 3,
   "id": "fad09517",
   "metadata": {
    "execution": {
     "iopub.execute_input": "2022-06-10T14:19:04.795696Z",
     "iopub.status.busy": "2022-06-10T14:19:04.795509Z",
     "iopub.status.idle": "2022-06-10T14:19:04.800950Z",
     "shell.execute_reply": "2022-06-10T14:19:04.800419Z"
    }
   },
   "outputs": [
    {
     "data": {
      "text/latex": [
       "$\\displaystyle a$"
      ],
      "text/plain": [
       "a"
      ]
     },
     "execution_count": 3,
     "metadata": {},
     "output_type": "execute_result"
    }
   ],
   "source": [
    "a = sm.symbols('a')\n",
    "a"
   ]
  },
  {
   "cell_type": "code",
   "execution_count": 4,
   "id": "70bb524f",
   "metadata": {
    "execution": {
     "iopub.execute_input": "2022-06-10T14:19:04.804395Z",
     "iopub.status.busy": "2022-06-10T14:19:04.804215Z",
     "iopub.status.idle": "2022-06-10T14:19:04.807695Z",
     "shell.execute_reply": "2022-06-10T14:19:04.807153Z"
    }
   },
   "outputs": [
    {
     "data": {
      "text/plain": [
       "sympy.core.symbol.Symbol"
      ]
     },
     "execution_count": 4,
     "metadata": {},
     "output_type": "execute_result"
    }
   ],
   "source": [
    "type(a)"
   ]
  },
  {
   "cell_type": "code",
   "execution_count": 5,
   "id": "ab969d63",
   "metadata": {
    "execution": {
     "iopub.execute_input": "2022-06-10T14:19:04.810679Z",
     "iopub.status.busy": "2022-06-10T14:19:04.810491Z",
     "iopub.status.idle": "2022-06-10T14:19:04.814576Z",
     "shell.execute_reply": "2022-06-10T14:19:04.813995Z"
    }
   },
   "outputs": [
    {
     "data": {
      "text/latex": [
       "$\\displaystyle \\left( b, \\  t, \\  \\omega\\right)$"
      ],
      "text/plain": [
       "(b, t, ω)"
      ]
     },
     "execution_count": 5,
     "metadata": {},
     "output_type": "execute_result"
    }
   ],
   "source": [
    "b, t, omega = sm.symbols('b, t, omega')\n",
    "b, t, omega"
   ]
  },
  {
   "cell_type": "code",
   "execution_count": 6,
   "id": "326595de",
   "metadata": {
    "execution": {
     "iopub.execute_input": "2022-06-10T14:19:04.817934Z",
     "iopub.status.busy": "2022-06-10T14:19:04.817747Z",
     "iopub.status.idle": "2022-06-10T14:19:04.822921Z",
     "shell.execute_reply": "2022-06-10T14:19:04.822374Z"
    }
   },
   "outputs": [
    {
     "data": {
      "text/latex": [
       "$\\displaystyle \\left( \\alpha_{1}, \\  \\omega_{2}\\right)$"
      ],
      "text/plain": [
       "(α₁, ω₂)"
      ]
     },
     "execution_count": 6,
     "metadata": {},
     "output_type": "execute_result"
    }
   ],
   "source": [
    "pivot_angle, w2 = sm.symbols('alpha1, omega2')\n",
    "pivot_angle, w2"
   ]
  },
  {
   "cell_type": "code",
   "execution_count": 7,
   "id": "5eed90c2",
   "metadata": {
    "execution": {
     "iopub.execute_input": "2022-06-10T14:19:04.826074Z",
     "iopub.status.busy": "2022-06-10T14:19:04.825886Z",
     "iopub.status.idle": "2022-06-10T14:19:04.829890Z",
     "shell.execute_reply": "2022-06-10T14:19:04.829335Z"
    }
   },
   "outputs": [
    {
     "data": {
      "text/plain": [
       "f"
      ]
     },
     "execution_count": 7,
     "metadata": {},
     "output_type": "execute_result"
    }
   ],
   "source": [
    "f = sm.Function('f')\n",
    "f"
   ]
  },
  {
   "cell_type": "code",
   "execution_count": 8,
   "id": "12956034",
   "metadata": {
    "execution": {
     "iopub.execute_input": "2022-06-10T14:19:04.832694Z",
     "iopub.status.busy": "2022-06-10T14:19:04.832510Z",
     "iopub.status.idle": "2022-06-10T14:19:04.838376Z",
     "shell.execute_reply": "2022-06-10T14:19:04.837721Z"
    }
   },
   "outputs": [
    {
     "data": {
      "text/plain": [
       "sympy.core.function.UndefinedFunction"
      ]
     },
     "execution_count": 8,
     "metadata": {},
     "output_type": "execute_result"
    }
   ],
   "source": [
    "type(f)"
   ]
  },
  {
   "cell_type": "code",
   "execution_count": 9,
   "id": "3719c4ac",
   "metadata": {
    "execution": {
     "iopub.execute_input": "2022-06-10T14:19:04.840730Z",
     "iopub.status.busy": "2022-06-10T14:19:04.840442Z",
     "iopub.status.idle": "2022-06-10T14:19:04.852387Z",
     "shell.execute_reply": "2022-06-10T14:19:04.847570Z"
    }
   },
   "outputs": [
    {
     "data": {
      "text/latex": [
       "$\\displaystyle f{\\left(t \\right)}$"
      ],
      "text/plain": [
       "f(t)"
      ]
     },
     "execution_count": 9,
     "metadata": {},
     "output_type": "execute_result"
    }
   ],
   "source": [
    "f(t)"
   ]
  },
  {
   "cell_type": "code",
   "execution_count": 10,
   "id": "55f38719",
   "metadata": {
    "execution": {
     "iopub.execute_input": "2022-06-10T14:19:04.858352Z",
     "iopub.status.busy": "2022-06-10T14:19:04.857779Z",
     "iopub.status.idle": "2022-06-10T14:19:04.862422Z",
     "shell.execute_reply": "2022-06-10T14:19:04.861849Z"
    }
   },
   "outputs": [
    {
     "data": {
      "text/plain": [
       "f"
      ]
     },
     "execution_count": 10,
     "metadata": {},
     "output_type": "execute_result"
    }
   ],
   "source": [
    "type(f(t))"
   ]
  },
  {
   "cell_type": "code",
   "execution_count": 11,
   "id": "8a277b6b",
   "metadata": {
    "execution": {
     "iopub.execute_input": "2022-06-10T14:19:04.864719Z",
     "iopub.status.busy": "2022-06-10T14:19:04.864436Z",
     "iopub.status.idle": "2022-06-10T14:19:04.870875Z",
     "shell.execute_reply": "2022-06-10T14:19:04.870377Z"
    }
   },
   "outputs": [
    {
     "data": {
      "text/latex": [
       "$\\displaystyle f{\\left(a,b,\\omega,t \\right)}$"
      ],
      "text/plain": [
       "f(a, b, ω, t)"
      ]
     },
     "execution_count": 11,
     "metadata": {},
     "output_type": "execute_result"
    }
   ],
   "source": [
    "f(a, b, omega, t)"
   ]
  },
  {
   "cell_type": "code",
   "execution_count": 12,
   "id": "1116f22b",
   "metadata": {
    "execution": {
     "iopub.execute_input": "2022-06-10T14:19:04.873175Z",
     "iopub.status.busy": "2022-06-10T14:19:04.872804Z",
     "iopub.status.idle": "2022-06-10T14:19:05.034311Z",
     "shell.execute_reply": "2022-06-10T14:19:05.033614Z"
    }
   },
   "outputs": [
    {
     "data": {
      "text/latex": [
       "$\\displaystyle a + \\frac{b}{\\omega^{2}}$"
      ],
      "text/plain": [
       "    b \n",
       "a + ──\n",
       "     2\n",
       "    ω "
      ]
     },
     "execution_count": 12,
     "metadata": {},
     "output_type": "execute_result"
    }
   ],
   "source": [
    "expr1 = a + b/omega**2\n",
    "expr1"
   ]
  },
  {
   "cell_type": "code",
   "execution_count": 13,
   "id": "841e5a17",
   "metadata": {
    "execution": {
     "iopub.execute_input": "2022-06-10T14:19:05.037496Z",
     "iopub.status.busy": "2022-06-10T14:19:05.037174Z",
     "iopub.status.idle": "2022-06-10T14:19:05.041516Z",
     "shell.execute_reply": "2022-06-10T14:19:05.040940Z"
    }
   },
   "outputs": [
    {
     "data": {
      "text/plain": [
       "sympy.core.add.Add"
      ]
     },
     "execution_count": 13,
     "metadata": {},
     "output_type": "execute_result"
    }
   ],
   "source": [
    "type(expr1)"
   ]
  },
  {
   "cell_type": "code",
   "execution_count": 14,
   "id": "c13e9b20",
   "metadata": {
    "execution": {
     "iopub.execute_input": "2022-06-10T14:19:05.044885Z",
     "iopub.status.busy": "2022-06-10T14:19:05.044392Z",
     "iopub.status.idle": "2022-06-10T14:19:05.049435Z",
     "shell.execute_reply": "2022-06-10T14:19:05.048828Z"
    }
   },
   "outputs": [
    {
     "data": {
      "text/plain": [
       "\"Add(Symbol('a'), Mul(Symbol('b'), Pow(Symbol('omega'), Integer(-2))))\""
      ]
     },
     "execution_count": 14,
     "metadata": {},
     "output_type": "execute_result"
    }
   ],
   "source": [
    "sm.srepr(expr1)"
   ]
  },
  {
   "cell_type": "code",
   "execution_count": 15,
   "id": "464cdf36",
   "metadata": {
    "execution": {
     "iopub.execute_input": "2022-06-10T14:19:05.052034Z",
     "iopub.status.busy": "2022-06-10T14:19:05.051556Z",
     "iopub.status.idle": "2022-06-10T14:19:05.056578Z",
     "shell.execute_reply": "2022-06-10T14:19:05.056060Z"
    }
   },
   "outputs": [
    {
     "data": {
      "text/latex": [
       "$\\displaystyle a \\omega + f{\\left(t \\right)}$"
      ],
      "text/plain": [
       "a⋅ω + f(t)"
      ]
     },
     "execution_count": 15,
     "metadata": {},
     "output_type": "execute_result"
    }
   ],
   "source": [
    "expr2 = f(t) + a*omega\n",
    "expr2"
   ]
  },
  {
   "cell_type": "code",
   "execution_count": 16,
   "id": "aca5e24e",
   "metadata": {
    "execution": {
     "iopub.execute_input": "2022-06-10T14:19:05.058719Z",
     "iopub.status.busy": "2022-06-10T14:19:05.058371Z",
     "iopub.status.idle": "2022-06-10T14:19:05.064856Z",
     "shell.execute_reply": "2022-06-10T14:19:05.064325Z"
    }
   },
   "outputs": [
    {
     "data": {
      "text/latex": [
       "$\\displaystyle a \\sin{\\left(\\omega \\right)} + \\frac{\\left|{f{\\left(t \\right)}}\\right|}{\\sqrt{b}}$"
      ],
      "text/plain": [
       "           │f(t)│\n",
       "a⋅sin(ω) + ──────\n",
       "             √b  "
      ]
     },
     "execution_count": 16,
     "metadata": {},
     "output_type": "execute_result"
    }
   ],
   "source": [
    "expr3 = a*sm.sin(omega) + sm.Abs(f(t))/sm.sqrt(b)\n",
    "expr3"
   ]
  },
  {
   "cell_type": "code",
   "execution_count": 17,
   "id": "53279dcb",
   "metadata": {
    "execution": {
     "iopub.execute_input": "2022-06-10T14:19:05.067469Z",
     "iopub.status.busy": "2022-06-10T14:19:05.066990Z",
     "iopub.status.idle": "2022-06-10T14:19:05.073294Z",
     "shell.execute_reply": "2022-06-10T14:19:05.072787Z"
    }
   },
   "outputs": [
    {
     "data": {
      "text/latex": [
       "$\\displaystyle 5 \\sin{\\left(12 \\right)} + 105.986768359379$"
      ],
      "text/plain": [
       "5⋅sin(12) + 105.986768359379"
      ]
     },
     "execution_count": 17,
     "metadata": {},
     "output_type": "execute_result"
    }
   ],
   "source": [
    "expr4 = 5*sm.sin(12) + sm.Abs(-1001)/sm.sqrt(89.2)\n",
    "expr4"
   ]
  },
  {
   "cell_type": "code",
   "execution_count": 18,
   "id": "af86d58d",
   "metadata": {
    "execution": {
     "iopub.execute_input": "2022-06-10T14:19:05.075467Z",
     "iopub.status.busy": "2022-06-10T14:19:05.075037Z",
     "iopub.status.idle": "2022-06-10T14:19:05.079361Z",
     "shell.execute_reply": "2022-06-10T14:19:05.078848Z"
    }
   },
   "outputs": [
    {
     "data": {
      "text/latex": [
       "$\\displaystyle 0.5 a$"
      ],
      "text/plain": [
       "0.5⋅a"
      ]
     },
     "execution_count": 18,
     "metadata": {},
     "output_type": "execute_result"
    }
   ],
   "source": [
    "1/2*a"
   ]
  },
  {
   "cell_type": "code",
   "execution_count": 19,
   "id": "a0d1211d",
   "metadata": {
    "execution": {
     "iopub.execute_input": "2022-06-10T14:19:05.081911Z",
     "iopub.status.busy": "2022-06-10T14:19:05.081496Z",
     "iopub.status.idle": "2022-06-10T14:19:05.085558Z",
     "shell.execute_reply": "2022-06-10T14:19:05.085035Z"
    }
   },
   "outputs": [
    {
     "data": {
      "text/latex": [
       "$\\displaystyle \\frac{a}{2}$"
      ],
      "text/plain": [
       "a\n",
       "─\n",
       "2"
      ]
     },
     "execution_count": 19,
     "metadata": {},
     "output_type": "execute_result"
    }
   ],
   "source": [
    "sm.S(1)/2*a"
   ]
  },
  {
   "cell_type": "code",
   "execution_count": 20,
   "id": "cdad9e15",
   "metadata": {
    "execution": {
     "iopub.execute_input": "2022-06-10T14:19:05.088089Z",
     "iopub.status.busy": "2022-06-10T14:19:05.087672Z",
     "iopub.status.idle": "2022-06-10T14:19:05.094367Z",
     "shell.execute_reply": "2022-06-10T14:19:05.093831Z"
    }
   },
   "outputs": [
    {
     "data": {
      "text/latex": [
       "$\\displaystyle t \\sin{\\left(\\omega f{\\left(t \\right)} \\right)} + \\frac{f{\\left(t \\right)}}{\\sqrt{t}}$"
      ],
      "text/plain": [
       "                f(t)\n",
       "t⋅sin(ω⋅f(t)) + ────\n",
       "                 √t "
      ]
     },
     "execution_count": 20,
     "metadata": {},
     "output_type": "execute_result"
    }
   ],
   "source": [
    "expr5 = t*sm.sin(omega*f(t)) + f(t)/sm.sqrt(t)\n",
    "expr5"
   ]
  },
  {
   "cell_type": "code",
   "execution_count": 21,
   "id": "9348785c",
   "metadata": {
    "execution": {
     "iopub.execute_input": "2022-06-10T14:19:05.096886Z",
     "iopub.status.busy": "2022-06-10T14:19:05.096473Z",
     "iopub.status.idle": "2022-06-10T14:19:05.100267Z",
     "shell.execute_reply": "2022-06-10T14:19:05.099759Z"
    }
   },
   "outputs": [
    {
     "data": {
      "text/plain": [
       "\"Add(Mul(Symbol('a'), sin(Symbol('omega'))), Mul(Pow(Symbol('b'), Rational(-1, 2)), Abs(Function('f')(Symbol('t')))))\""
      ]
     },
     "execution_count": 21,
     "metadata": {},
     "output_type": "execute_result"
    }
   ],
   "source": [
    "sm.srepr(expr3)"
   ]
  },
  {
   "cell_type": "code",
   "execution_count": 22,
   "id": "11c53cf7",
   "metadata": {
    "execution": {
     "iopub.execute_input": "2022-06-10T14:19:05.102645Z",
     "iopub.status.busy": "2022-06-10T14:19:05.102347Z",
     "iopub.status.idle": "2022-06-10T14:19:05.106261Z",
     "shell.execute_reply": "2022-06-10T14:19:05.105747Z"
    }
   },
   "outputs": [
    {
     "data": {
      "text/plain": [
       "'a*sin(omega) + Abs(f(t))/sqrt(b)'"
      ]
     },
     "execution_count": 22,
     "metadata": {},
     "output_type": "execute_result"
    }
   ],
   "source": [
    "repr(expr3)"
   ]
  },
  {
   "cell_type": "code",
   "execution_count": 23,
   "id": "60ffdbb6",
   "metadata": {
    "execution": {
     "iopub.execute_input": "2022-06-10T14:19:05.108799Z",
     "iopub.status.busy": "2022-06-10T14:19:05.108377Z",
     "iopub.status.idle": "2022-06-10T14:19:05.111801Z",
     "shell.execute_reply": "2022-06-10T14:19:05.111261Z"
    }
   },
   "outputs": [
    {
     "name": "stdout",
     "output_type": "stream",
     "text": [
      "a*sin(omega) + Abs(f(t))/sqrt(b)\n"
     ]
    }
   ],
   "source": [
    "print(expr3)"
   ]
  },
  {
   "cell_type": "code",
   "execution_count": 24,
   "id": "b0f50e62",
   "metadata": {
    "execution": {
     "iopub.execute_input": "2022-06-10T14:19:05.114455Z",
     "iopub.status.busy": "2022-06-10T14:19:05.114171Z",
     "iopub.status.idle": "2022-06-10T14:19:05.117661Z",
     "shell.execute_reply": "2022-06-10T14:19:05.117252Z"
    }
   },
   "outputs": [
    {
     "name": "stdout",
     "output_type": "stream",
     "text": [
      "           │f(t)│\n",
      "a⋅sin(ω) + ──────\n",
      "             √b  \n"
     ]
    }
   ],
   "source": [
    "sm.pprint(expr3)"
   ]
  },
  {
   "cell_type": "code",
   "execution_count": 25,
   "id": "38a0583e",
   "metadata": {
    "execution": {
     "iopub.execute_input": "2022-06-10T14:19:05.119674Z",
     "iopub.status.busy": "2022-06-10T14:19:05.119325Z",
     "iopub.status.idle": "2022-06-10T14:19:05.123308Z",
     "shell.execute_reply": "2022-06-10T14:19:05.122792Z"
    }
   },
   "outputs": [
    {
     "data": {
      "text/plain": [
       "'a \\\\sin{\\\\left(\\\\omega \\\\right)} + \\\\frac{\\\\left|{f{\\\\left(t \\\\right)}}\\\\right|}{\\\\sqrt{b}}'"
      ]
     },
     "execution_count": 25,
     "metadata": {},
     "output_type": "execute_result"
    }
   ],
   "source": [
    "sm.latex(expr3)"
   ]
  },
  {
   "cell_type": "code",
   "execution_count": 26,
   "id": "5818efd5",
   "metadata": {
    "execution": {
     "iopub.execute_input": "2022-06-10T14:19:05.125852Z",
     "iopub.status.busy": "2022-06-10T14:19:05.125430Z",
     "iopub.status.idle": "2022-06-10T14:19:05.128814Z",
     "shell.execute_reply": "2022-06-10T14:19:05.128269Z"
    }
   },
   "outputs": [
    {
     "name": "stdout",
     "output_type": "stream",
     "text": [
      "a \\sin{\\left(\\omega \\right)} + \\frac{\\left|{f{\\left(t \\right)}}\\right|}{\\sqrt{b}}\n"
     ]
    }
   ],
   "source": [
    "print(sm.latex(expr3))"
   ]
  },
  {
   "cell_type": "code",
   "execution_count": 27,
   "id": "71e820d4",
   "metadata": {
    "execution": {
     "iopub.execute_input": "2022-06-10T14:19:05.131330Z",
     "iopub.status.busy": "2022-06-10T14:19:05.131044Z",
     "iopub.status.idle": "2022-06-10T14:19:05.135899Z",
     "shell.execute_reply": "2022-06-10T14:19:05.135371Z"
    }
   },
   "outputs": [
    {
     "data": {
      "text/latex": [
       "$\\displaystyle \\frac{d}{d t} f{\\left(t \\right)}$"
      ],
      "text/plain": [
       "d       \n",
       "──(f(t))\n",
       "dt      "
      ]
     },
     "execution_count": 27,
     "metadata": {},
     "output_type": "execute_result"
    }
   ],
   "source": [
    "sm.diff(f(t), t)"
   ]
  },
  {
   "cell_type": "code",
   "execution_count": 28,
   "id": "60f8bbfa",
   "metadata": {
    "execution": {
     "iopub.execute_input": "2022-06-10T14:19:05.138393Z",
     "iopub.status.busy": "2022-06-10T14:19:05.138028Z",
     "iopub.status.idle": "2022-06-10T14:19:05.142486Z",
     "shell.execute_reply": "2022-06-10T14:19:05.141940Z"
    }
   },
   "outputs": [
    {
     "data": {
      "text/latex": [
       "$\\displaystyle \\frac{d}{d t} f{\\left(t \\right)}$"
      ],
      "text/plain": [
       "d       \n",
       "──(f(t))\n",
       "dt      "
      ]
     },
     "execution_count": 28,
     "metadata": {},
     "output_type": "execute_result"
    }
   ],
   "source": [
    "f(t).diff(t)"
   ]
  },
  {
   "cell_type": "code",
   "execution_count": 29,
   "id": "b2d31fff",
   "metadata": {
    "execution": {
     "iopub.execute_input": "2022-06-10T14:19:05.145085Z",
     "iopub.status.busy": "2022-06-10T14:19:05.144663Z",
     "iopub.status.idle": "2022-06-10T14:19:05.149357Z",
     "shell.execute_reply": "2022-06-10T14:19:05.148834Z"
    }
   },
   "outputs": [
    {
     "data": {
      "text/latex": [
       "$\\displaystyle a \\sin{\\left(\\omega \\right)} + \\frac{\\left|{f{\\left(t \\right)}}\\right|}{\\sqrt{b}}$"
      ],
      "text/plain": [
       "           │f(t)│\n",
       "a⋅sin(ω) + ──────\n",
       "             √b  "
      ]
     },
     "execution_count": 29,
     "metadata": {},
     "output_type": "execute_result"
    }
   ],
   "source": [
    "expr3"
   ]
  },
  {
   "cell_type": "code",
   "execution_count": 30,
   "id": "3c42ca06",
   "metadata": {
    "execution": {
     "iopub.execute_input": "2022-06-10T14:19:05.151860Z",
     "iopub.status.busy": "2022-06-10T14:19:05.151512Z",
     "iopub.status.idle": "2022-06-10T14:19:05.160073Z",
     "shell.execute_reply": "2022-06-10T14:19:05.159554Z"
    }
   },
   "outputs": [
    {
     "data": {
      "text/latex": [
       "$\\displaystyle - \\frac{\\left|{f{\\left(t \\right)}}\\right|}{2 b^{\\frac{3}{2}}}$"
      ],
      "text/plain": [
       "-│f(t)│ \n",
       "────────\n",
       "    3/2 \n",
       " 2⋅b    "
      ]
     },
     "execution_count": 30,
     "metadata": {},
     "output_type": "execute_result"
    }
   ],
   "source": [
    "expr3.diff(b)"
   ]
  },
  {
   "cell_type": "code",
   "execution_count": 31,
   "id": "da854461",
   "metadata": {
    "execution": {
     "iopub.execute_input": "2022-06-10T14:19:05.162849Z",
     "iopub.status.busy": "2022-06-10T14:19:05.162429Z",
     "iopub.status.idle": "2022-06-10T14:19:05.181335Z",
     "shell.execute_reply": "2022-06-10T14:19:05.180864Z"
    }
   },
   "outputs": [
    {
     "data": {
      "text/latex": [
       "$\\displaystyle - \\frac{\\left(\\operatorname{re}{\\left(f{\\left(t \\right)}\\right)} \\frac{d}{d t} \\operatorname{re}{\\left(f{\\left(t \\right)}\\right)} + \\operatorname{im}{\\left(f{\\left(t \\right)}\\right)} \\frac{d}{d t} \\operatorname{im}{\\left(f{\\left(t \\right)}\\right)}\\right) \\operatorname{sign}{\\left(f{\\left(t \\right)} \\right)}}{2 b^{\\frac{3}{2}} f{\\left(t \\right)}}$"
      ],
      "text/plain": [
       " ⎛         d                       d           ⎞            \n",
       "-⎜re(f(t))⋅──(re(f(t))) + im(f(t))⋅──(im(f(t)))⎟⋅sign(f(t)) \n",
       " ⎝         dt                      dt          ⎠            \n",
       "────────────────────────────────────────────────────────────\n",
       "                           3/2                              \n",
       "                        2⋅b   ⋅f(t)                         "
      ]
     },
     "execution_count": 31,
     "metadata": {},
     "output_type": "execute_result"
    }
   ],
   "source": [
    "expr3.diff(b, t)"
   ]
  },
  {
   "cell_type": "code",
   "execution_count": 32,
   "id": "84831802",
   "metadata": {
    "execution": {
     "iopub.execute_input": "2022-06-10T14:19:05.183454Z",
     "iopub.status.busy": "2022-06-10T14:19:05.183103Z",
     "iopub.status.idle": "2022-06-10T14:19:05.197961Z",
     "shell.execute_reply": "2022-06-10T14:19:05.197444Z"
    }
   },
   "outputs": [
    {
     "data": {
      "text/latex": [
       "$\\displaystyle \\frac{\\left(\\operatorname{re}{\\left(h{\\left(t \\right)}\\right)} \\frac{d}{d t} \\operatorname{re}{\\left(h{\\left(t \\right)}\\right)} + \\operatorname{im}{\\left(h{\\left(t \\right)}\\right)} \\frac{d}{d t} \\operatorname{im}{\\left(h{\\left(t \\right)}\\right)}\\right) \\operatorname{sign}{\\left(h{\\left(t \\right)} \\right)}}{h{\\left(t \\right)}}$"
      ],
      "text/plain": [
       "⎛         d                       d           ⎞           \n",
       "⎜re(h(t))⋅──(re(h(t))) + im(h(t))⋅──(im(h(t)))⎟⋅sign(h(t))\n",
       "⎝         dt                      dt          ⎠           \n",
       "──────────────────────────────────────────────────────────\n",
       "                           h(t)                           "
      ]
     },
     "execution_count": 32,
     "metadata": {},
     "output_type": "execute_result"
    }
   ],
   "source": [
    "h = sm.Function('h')\n",
    "sm.Abs(h(t)).diff(t)"
   ]
  },
  {
   "cell_type": "code",
   "execution_count": 33,
   "id": "59a92a38",
   "metadata": {
    "execution": {
     "iopub.execute_input": "2022-06-10T14:19:05.200549Z",
     "iopub.status.busy": "2022-06-10T14:19:05.200200Z",
     "iopub.status.idle": "2022-06-10T14:19:05.207732Z",
     "shell.execute_reply": "2022-06-10T14:19:05.207201Z"
    }
   },
   "outputs": [
    {
     "data": {
      "text/latex": [
       "$\\displaystyle \\operatorname{sign}{\\left(h{\\left(t \\right)} \\right)} \\frac{d}{d t} h{\\left(t \\right)}$"
      ],
      "text/plain": [
       "           d       \n",
       "sign(h(t))⋅──(h(t))\n",
       "           dt      "
      ]
     },
     "execution_count": 33,
     "metadata": {},
     "output_type": "execute_result"
    }
   ],
   "source": [
    "h = sm.Function('h', real=True)\n",
    "sm.Abs(h(t)).diff(t)"
   ]
  },
  {
   "cell_type": "code",
   "execution_count": 34,
   "id": "bb1e032c",
   "metadata": {
    "execution": {
     "iopub.execute_input": "2022-06-10T14:19:05.210337Z",
     "iopub.status.busy": "2022-06-10T14:19:05.209853Z",
     "iopub.status.idle": "2022-06-10T14:19:05.215157Z",
     "shell.execute_reply": "2022-06-10T14:19:05.214636Z"
    }
   },
   "outputs": [
    {
     "data": {
      "text/latex": [
       "$\\displaystyle \\frac{d}{d t} h{\\left(t \\right)}$"
      ],
      "text/plain": [
       "d       \n",
       "──(h(t))\n",
       "dt      "
      ]
     },
     "execution_count": 34,
     "metadata": {},
     "output_type": "execute_result"
    }
   ],
   "source": [
    "h = sm.Function('h', real=True, positive=True)\n",
    "sm.Abs(h(t)).diff(t)"
   ]
  },
  {
   "cell_type": "code",
   "execution_count": 35,
   "id": "6c25e6e1",
   "metadata": {
    "execution": {
     "iopub.execute_input": "2022-06-10T14:19:05.217337Z",
     "iopub.status.busy": "2022-06-10T14:19:05.216912Z",
     "iopub.status.idle": "2022-06-10T14:19:05.222796Z",
     "shell.execute_reply": "2022-06-10T14:19:05.222261Z"
    }
   },
   "outputs": [
    {
     "data": {
      "text/latex": [
       "$\\displaystyle t \\sin{\\left(\\omega f{\\left(t \\right)} \\right)} + \\frac{f{\\left(t \\right)}}{\\sqrt{t}}$"
      ],
      "text/plain": [
       "                f(t)\n",
       "t⋅sin(ω⋅f(t)) + ────\n",
       "                 √t "
      ]
     },
     "execution_count": 35,
     "metadata": {},
     "output_type": "execute_result"
    }
   ],
   "source": [
    "expr5"
   ]
  },
  {
   "cell_type": "code",
   "execution_count": 36,
   "id": "8caf68f6",
   "metadata": {
    "execution": {
     "iopub.execute_input": "2022-06-10T14:19:05.225011Z",
     "iopub.status.busy": "2022-06-10T14:19:05.224576Z",
     "iopub.status.idle": "2022-06-10T14:19:05.239742Z",
     "shell.execute_reply": "2022-06-10T14:19:05.239231Z"
    }
   },
   "outputs": [
    {
     "data": {
      "text/latex": [
       "$\\displaystyle \\omega t \\cos{\\left(\\omega f{\\left(t \\right)} \\right)} \\frac{d}{d t} f{\\left(t \\right)} + \\sin{\\left(\\omega f{\\left(t \\right)} \\right)} + \\frac{\\frac{d}{d t} f{\\left(t \\right)}}{\\sqrt{t}} - \\frac{f{\\left(t \\right)}}{2 t^{\\frac{3}{2}}}$"
      ],
      "text/plain": [
       "                                         d                \n",
       "                                         ──(f(t))         \n",
       "                d                        dt          f(t) \n",
       "ω⋅t⋅cos(ω⋅f(t))⋅──(f(t)) + sin(ω⋅f(t)) + ──────── - ──────\n",
       "                dt                          √t         3/2\n",
       "                                                    2⋅t   "
      ]
     },
     "execution_count": 36,
     "metadata": {},
     "output_type": "execute_result"
    }
   ],
   "source": [
    "expr5.diff(t)"
   ]
  },
  {
   "cell_type": "code",
   "execution_count": 37,
   "id": "12a6f805",
   "metadata": {
    "execution": {
     "iopub.execute_input": "2022-06-10T14:19:05.241924Z",
     "iopub.status.busy": "2022-06-10T14:19:05.241495Z",
     "iopub.status.idle": "2022-06-10T14:19:05.244494Z",
     "shell.execute_reply": "2022-06-10T14:19:05.243962Z"
    }
   },
   "outputs": [],
   "source": [
    "repl = {omega: sm.pi/4, a: 2, f(t): -12, b: 25}"
   ]
  },
  {
   "cell_type": "code",
   "execution_count": 38,
   "id": "18ec802b",
   "metadata": {
    "execution": {
     "iopub.execute_input": "2022-06-10T14:19:05.246468Z",
     "iopub.status.busy": "2022-06-10T14:19:05.246224Z",
     "iopub.status.idle": "2022-06-10T14:19:05.254115Z",
     "shell.execute_reply": "2022-06-10T14:19:05.253593Z"
    }
   },
   "outputs": [
    {
     "data": {
      "text/latex": [
       "$\\displaystyle \\sqrt{2} + \\frac{12}{5}$"
      ],
      "text/plain": [
       "√2 + 12/5"
      ]
     },
     "execution_count": 38,
     "metadata": {},
     "output_type": "execute_result"
    }
   ],
   "source": [
    "expr3.xreplace(repl)"
   ]
  },
  {
   "cell_type": "code",
   "execution_count": 39,
   "id": "79a929cd",
   "metadata": {
    "execution": {
     "iopub.execute_input": "2022-06-10T14:19:05.256752Z",
     "iopub.status.busy": "2022-06-10T14:19:05.256270Z",
     "iopub.status.idle": "2022-06-10T14:19:05.261297Z",
     "shell.execute_reply": "2022-06-10T14:19:05.260785Z"
    }
   },
   "outputs": [
    {
     "data": {
      "text/latex": [
       "$\\displaystyle 3.81421356237309504880168872421$"
      ],
      "text/plain": [
       "3.814213562373095048801688724210"
      ]
     },
     "execution_count": 39,
     "metadata": {},
     "output_type": "execute_result"
    }
   ],
   "source": [
    "expr3.evalf(n=31, subs=repl)"
   ]
  },
  {
   "cell_type": "code",
   "execution_count": 40,
   "id": "18674a50",
   "metadata": {
    "execution": {
     "iopub.execute_input": "2022-06-10T14:19:05.263570Z",
     "iopub.status.busy": "2022-06-10T14:19:05.263149Z",
     "iopub.status.idle": "2022-06-10T14:19:05.267674Z",
     "shell.execute_reply": "2022-06-10T14:19:05.267154Z"
    }
   },
   "outputs": [
    {
     "data": {
      "text/plain": [
       "sympy.core.numbers.Float"
      ]
     },
     "execution_count": 40,
     "metadata": {},
     "output_type": "execute_result"
    }
   ],
   "source": [
    "type(expr3.evalf(n=31, subs=repl))"
   ]
  },
  {
   "cell_type": "code",
   "execution_count": 41,
   "id": "35f977e0",
   "metadata": {
    "execution": {
     "iopub.execute_input": "2022-06-10T14:19:05.270309Z",
     "iopub.status.busy": "2022-06-10T14:19:05.269818Z",
     "iopub.status.idle": "2022-06-10T14:19:05.274825Z",
     "shell.execute_reply": "2022-06-10T14:19:05.274308Z"
    }
   },
   "outputs": [
    {
     "data": {
      "text/latex": [
       "$\\displaystyle 3.81421356237309504880168872420969807856967187537694807317667973799073247846210703885038753432764157273501384623091229702492483605585073721264412149709993583141322266592750559275579995050115278206057147010955997160597027453459686201472851741864088919860955232923048430871432145083976260362799525140799$"
      ],
      "text/plain": [
       "3.8142135623730950488016887242096980785696718753769480731766797379907324784621\n",
       "070388503875343276415727350138462309122970249248360558507372126441214970999358\n",
       "314132226659275055927557999505011527820605714701095599716059702745345968620147\n",
       "2851741864088919860955232923048430871432145083976260362799525140799"
      ]
     },
     "execution_count": 41,
     "metadata": {},
     "output_type": "execute_result"
    }
   ],
   "source": [
    "expr3.evalf(n=300, subs=repl)"
   ]
  },
  {
   "cell_type": "code",
   "execution_count": 42,
   "id": "0cc736b2",
   "metadata": {
    "execution": {
     "iopub.execute_input": "2022-06-10T14:19:05.277045Z",
     "iopub.status.busy": "2022-06-10T14:19:05.276628Z",
     "iopub.status.idle": "2022-06-10T14:19:05.281297Z",
     "shell.execute_reply": "2022-06-10T14:19:05.280778Z"
    }
   },
   "outputs": [
    {
     "data": {
      "text/latex": [
       "$\\displaystyle 3.81421356237309$"
      ],
      "text/plain": [
       "3.814213562373095"
      ]
     },
     "execution_count": 42,
     "metadata": {},
     "output_type": "execute_result"
    }
   ],
   "source": [
    "float(expr3.evalf(n=300, subs=repl))"
   ]
  },
  {
   "cell_type": "code",
   "execution_count": 43,
   "id": "3d37a2e4",
   "metadata": {
    "execution": {
     "iopub.execute_input": "2022-06-10T14:19:05.283702Z",
     "iopub.status.busy": "2022-06-10T14:19:05.283418Z",
     "iopub.status.idle": "2022-06-10T14:19:05.287990Z",
     "shell.execute_reply": "2022-06-10T14:19:05.287470Z"
    }
   },
   "outputs": [
    {
     "data": {
      "text/plain": [
       "float"
      ]
     },
     "execution_count": 43,
     "metadata": {},
     "output_type": "execute_result"
    }
   ],
   "source": [
    "type(float(expr3.evalf(n=300, subs=repl)))"
   ]
  },
  {
   "cell_type": "code",
   "execution_count": 44,
   "id": "2b7db6bd",
   "metadata": {
    "execution": {
     "iopub.execute_input": "2022-06-10T14:19:05.290186Z",
     "iopub.status.busy": "2022-06-10T14:19:05.289702Z",
     "iopub.status.idle": "2022-06-10T14:19:05.447569Z",
     "shell.execute_reply": "2022-06-10T14:19:05.446859Z"
    }
   },
   "outputs": [],
   "source": [
    "eval_expr3 = sm.lambdify((omega, a, f(t), b), expr3)"
   ]
  },
  {
   "cell_type": "code",
   "execution_count": 45,
   "id": "6abe9a5f",
   "metadata": {
    "execution": {
     "iopub.execute_input": "2022-06-10T14:19:05.451291Z",
     "iopub.status.busy": "2022-06-10T14:19:05.450857Z",
     "iopub.status.idle": "2022-06-10T14:19:05.456565Z",
     "shell.execute_reply": "2022-06-10T14:19:05.456053Z"
    }
   },
   "outputs": [
    {
     "name": "stdout",
     "output_type": "stream",
     "text": [
      "Help on function _lambdifygenerated:\n",
      "\n",
      "_lambdifygenerated(omega, a, _Dummy_23, b)\n",
      "    Created with lambdify. Signature:\n",
      "    \n",
      "    func(omega, a, f, b)\n",
      "    \n",
      "    Expression:\n",
      "    \n",
      "    a*sin(omega) + Abs(f(t))/sqrt(b)\n",
      "    \n",
      "    Source code:\n",
      "    \n",
      "    def _lambdifygenerated(omega, a, _Dummy_23, b):\n",
      "        return a*sin(omega) + abs(_Dummy_23)/sqrt(b)\n",
      "    \n",
      "    \n",
      "    Imported modules:\n",
      "\n"
     ]
    }
   ],
   "source": [
    "help(eval_expr3)"
   ]
  },
  {
   "cell_type": "code",
   "execution_count": 46,
   "id": "37d084db",
   "metadata": {
    "execution": {
     "iopub.execute_input": "2022-06-10T14:19:05.458851Z",
     "iopub.status.busy": "2022-06-10T14:19:05.458647Z",
     "iopub.status.idle": "2022-06-10T14:19:05.464246Z",
     "shell.execute_reply": "2022-06-10T14:19:05.463776Z"
    }
   },
   "outputs": [
    {
     "data": {
      "text/latex": [
       "$\\displaystyle 3.81365036221073$"
      ],
      "text/plain": [
       "3.8136503622107316"
      ]
     },
     "execution_count": 46,
     "metadata": {},
     "output_type": "execute_result"
    }
   ],
   "source": [
    "eval_expr3(3.14/4, 2, -12, 25)"
   ]
  },
  {
   "cell_type": "code",
   "execution_count": 47,
   "id": "66d9189d",
   "metadata": {
    "execution": {
     "iopub.execute_input": "2022-06-10T14:19:05.466752Z",
     "iopub.status.busy": "2022-06-10T14:19:05.466325Z",
     "iopub.status.idle": "2022-06-10T14:19:05.471671Z",
     "shell.execute_reply": "2022-06-10T14:19:05.471182Z"
    }
   },
   "outputs": [
    {
     "data": {
      "text/plain": [
       "numpy.float64"
      ]
     },
     "execution_count": 47,
     "metadata": {},
     "output_type": "execute_result"
    }
   ],
   "source": [
    "type(eval_expr3(3.14/4, 2, -12, 25))"
   ]
  },
  {
   "cell_type": "code",
   "execution_count": 48,
   "id": "79297b08",
   "metadata": {
    "execution": {
     "iopub.execute_input": "2022-06-10T14:19:05.474137Z",
     "iopub.status.busy": "2022-06-10T14:19:05.473730Z",
     "iopub.status.idle": "2022-06-10T14:19:05.481064Z",
     "shell.execute_reply": "2022-06-10T14:19:05.480599Z"
    }
   },
   "outputs": [
    {
     "data": {
      "text/latex": [
       "$\\displaystyle \\left[\\begin{matrix}a & 2 a\\\\\\frac{b}{\\omega} & f{\\left(t \\right)}\\end{matrix}\\right]$"
      ],
      "text/plain": [
       "⎡a  2⋅a ⎤\n",
       "⎢       ⎥\n",
       "⎢b      ⎥\n",
       "⎢─  f(t)⎥\n",
       "⎣ω      ⎦"
      ]
     },
     "execution_count": 48,
     "metadata": {},
     "output_type": "execute_result"
    }
   ],
   "source": [
    "mat1 = sm.Matrix([[a, 2*a], [b/omega, f(t)]])\n",
    "mat1"
   ]
  },
  {
   "cell_type": "code",
   "execution_count": 49,
   "id": "30af159c",
   "metadata": {
    "execution": {
     "iopub.execute_input": "2022-06-10T14:19:05.483398Z",
     "iopub.status.busy": "2022-06-10T14:19:05.483119Z",
     "iopub.status.idle": "2022-06-10T14:19:05.489044Z",
     "shell.execute_reply": "2022-06-10T14:19:05.488575Z"
    }
   },
   "outputs": [
    {
     "data": {
      "text/latex": [
       "$\\displaystyle \\left[\\begin{matrix}1 & 2\\\\3 & 4\\end{matrix}\\right]$"
      ],
      "text/plain": [
       "⎡1  2⎤\n",
       "⎢    ⎥\n",
       "⎣3  4⎦"
      ]
     },
     "execution_count": 49,
     "metadata": {},
     "output_type": "execute_result"
    }
   ],
   "source": [
    "mat2 = sm.Matrix([[1, 2], [3, 4]])\n",
    "mat2"
   ]
  },
  {
   "cell_type": "code",
   "execution_count": 50,
   "id": "70b42e21",
   "metadata": {
    "execution": {
     "iopub.execute_input": "2022-06-10T14:19:05.491486Z",
     "iopub.status.busy": "2022-06-10T14:19:05.491217Z",
     "iopub.status.idle": "2022-06-10T14:19:05.496202Z",
     "shell.execute_reply": "2022-06-10T14:19:05.495738Z"
    }
   },
   "outputs": [
    {
     "data": {
      "text/latex": [
       "$\\displaystyle \\left( 2, \\  2\\right)$"
      ],
      "text/plain": [
       "(2, 2)"
      ]
     },
     "execution_count": 50,
     "metadata": {},
     "output_type": "execute_result"
    }
   ],
   "source": [
    "mat1.shape"
   ]
  },
  {
   "cell_type": "code",
   "execution_count": 51,
   "id": "db51f219",
   "metadata": {
    "execution": {
     "iopub.execute_input": "2022-06-10T14:19:05.498621Z",
     "iopub.status.busy": "2022-06-10T14:19:05.498332Z",
     "iopub.status.idle": "2022-06-10T14:19:05.503602Z",
     "shell.execute_reply": "2022-06-10T14:19:05.503083Z"
    }
   },
   "outputs": [
    {
     "data": {
      "text/latex": [
       "$\\displaystyle 2 a$"
      ],
      "text/plain": [
       "2⋅a"
      ]
     },
     "execution_count": 51,
     "metadata": {},
     "output_type": "execute_result"
    }
   ],
   "source": [
    "mat1[0, 1]"
   ]
  },
  {
   "cell_type": "code",
   "execution_count": 52,
   "id": "08d3b566",
   "metadata": {
    "execution": {
     "iopub.execute_input": "2022-06-10T14:19:05.506122Z",
     "iopub.status.busy": "2022-06-10T14:19:05.505710Z",
     "iopub.status.idle": "2022-06-10T14:19:05.512032Z",
     "shell.execute_reply": "2022-06-10T14:19:05.511291Z"
    }
   },
   "outputs": [
    {
     "data": {
      "text/latex": [
       "$\\displaystyle \\left[\\begin{matrix}a & 2 a\\end{matrix}\\right]$"
      ],
      "text/plain": [
       "[a  2⋅a]"
      ]
     },
     "execution_count": 52,
     "metadata": {},
     "output_type": "execute_result"
    }
   ],
   "source": [
    "mat1[0, 0:2]"
   ]
  },
  {
   "cell_type": "code",
   "execution_count": 53,
   "id": "8959a791",
   "metadata": {
    "execution": {
     "iopub.execute_input": "2022-06-10T14:19:05.514050Z",
     "iopub.status.busy": "2022-06-10T14:19:05.513769Z",
     "iopub.status.idle": "2022-06-10T14:19:05.519904Z",
     "shell.execute_reply": "2022-06-10T14:19:05.519439Z"
    }
   },
   "outputs": [
    {
     "data": {
      "text/latex": [
       "$\\displaystyle \\left[\\begin{matrix}2 a\\\\f{\\left(t \\right)}\\end{matrix}\\right]$"
      ],
      "text/plain": [
       "⎡2⋅a ⎤\n",
       "⎢    ⎥\n",
       "⎣f(t)⎦"
      ]
     },
     "execution_count": 53,
     "metadata": {},
     "output_type": "execute_result"
    }
   ],
   "source": [
    "mat1[0:2, 1]"
   ]
  },
  {
   "cell_type": "code",
   "execution_count": 54,
   "id": "fcdd3347",
   "metadata": {
    "execution": {
     "iopub.execute_input": "2022-06-10T14:19:05.521993Z",
     "iopub.status.busy": "2022-06-10T14:19:05.521640Z",
     "iopub.status.idle": "2022-06-10T14:19:05.529528Z",
     "shell.execute_reply": "2022-06-10T14:19:05.529047Z"
    }
   },
   "outputs": [
    {
     "data": {
      "text/latex": [
       "$\\displaystyle \\left[\\begin{matrix}a + 1 & 2 a + 2\\\\\\frac{b}{\\omega} + 3 & f{\\left(t \\right)} + 4\\end{matrix}\\right]$"
      ],
      "text/plain": [
       "⎡a + 1  2⋅a + 2 ⎤\n",
       "⎢               ⎥\n",
       "⎢b              ⎥\n",
       "⎢─ + 3  f(t) + 4⎥\n",
       "⎣ω              ⎦"
      ]
     },
     "execution_count": 54,
     "metadata": {},
     "output_type": "execute_result"
    }
   ],
   "source": [
    "mat1 + mat2"
   ]
  },
  {
   "cell_type": "code",
   "execution_count": 55,
   "id": "4604d65a",
   "metadata": {
    "execution": {
     "iopub.execute_input": "2022-06-10T14:19:05.531571Z",
     "iopub.status.busy": "2022-06-10T14:19:05.531393Z",
     "iopub.status.idle": "2022-06-10T14:19:05.541716Z",
     "shell.execute_reply": "2022-06-10T14:19:05.541233Z"
    }
   },
   "outputs": [
    {
     "data": {
      "text/latex": [
       "$\\displaystyle \\left[\\begin{matrix}7 a & 10 a\\\\\\frac{b}{\\omega} + 3 f{\\left(t \\right)} & \\frac{2 b}{\\omega} + 4 f{\\left(t \\right)}\\end{matrix}\\right]$"
      ],
      "text/plain": [
       "⎡   7⋅a          10⋅a    ⎤\n",
       "⎢                        ⎥\n",
       "⎢b           2⋅b         ⎥\n",
       "⎢─ + 3⋅f(t)  ─── + 4⋅f(t)⎥\n",
       "⎣ω            ω          ⎦"
      ]
     },
     "execution_count": 55,
     "metadata": {},
     "output_type": "execute_result"
    }
   ],
   "source": [
    "mat1*mat2"
   ]
  },
  {
   "cell_type": "code",
   "execution_count": 56,
   "id": "a0aa9e43",
   "metadata": {
    "execution": {
     "iopub.execute_input": "2022-06-10T14:19:05.544050Z",
     "iopub.status.busy": "2022-06-10T14:19:05.543550Z",
     "iopub.status.idle": "2022-06-10T14:19:05.552324Z",
     "shell.execute_reply": "2022-06-10T14:19:05.551850Z"
    }
   },
   "outputs": [
    {
     "data": {
      "text/latex": [
       "$\\displaystyle \\left[\\begin{matrix}7 a & 10 a\\\\\\frac{b}{\\omega} + 3 f{\\left(t \\right)} & \\frac{2 b}{\\omega} + 4 f{\\left(t \\right)}\\end{matrix}\\right]$"
      ],
      "text/plain": [
       "⎡   7⋅a          10⋅a    ⎤\n",
       "⎢                        ⎥\n",
       "⎢b           2⋅b         ⎥\n",
       "⎢─ + 3⋅f(t)  ─── + 4⋅f(t)⎥\n",
       "⎣ω            ω          ⎦"
      ]
     },
     "execution_count": 56,
     "metadata": {},
     "output_type": "execute_result"
    }
   ],
   "source": [
    "mat1@mat2"
   ]
  },
  {
   "cell_type": "code",
   "execution_count": 57,
   "id": "9ce4f9ab",
   "metadata": {
    "execution": {
     "iopub.execute_input": "2022-06-10T14:19:05.554790Z",
     "iopub.status.busy": "2022-06-10T14:19:05.554383Z",
     "iopub.status.idle": "2022-06-10T14:19:05.561922Z",
     "shell.execute_reply": "2022-06-10T14:19:05.561459Z"
    }
   },
   "outputs": [
    {
     "data": {
      "text/latex": [
       "$\\displaystyle \\left[\\begin{matrix}a & 4 a\\\\\\frac{3 b}{\\omega} & 4 f{\\left(t \\right)}\\end{matrix}\\right]$"
      ],
      "text/plain": [
       "⎡ a    4⋅a  ⎤\n",
       "⎢           ⎥\n",
       "⎢3⋅b        ⎥\n",
       "⎢───  4⋅f(t)⎥\n",
       "⎣ ω         ⎦"
      ]
     },
     "execution_count": 57,
     "metadata": {},
     "output_type": "execute_result"
    }
   ],
   "source": [
    "sm.hadamard_product(mat1, mat2)"
   ]
  },
  {
   "cell_type": "code",
   "execution_count": 58,
   "id": "18316590",
   "metadata": {
    "execution": {
     "iopub.execute_input": "2022-06-10T14:19:05.564266Z",
     "iopub.status.busy": "2022-06-10T14:19:05.563984Z",
     "iopub.status.idle": "2022-06-10T14:19:05.574340Z",
     "shell.execute_reply": "2022-06-10T14:19:05.573875Z"
    }
   },
   "outputs": [
    {
     "data": {
      "text/latex": [
       "$\\displaystyle \\left[\\begin{matrix}a + \\frac{b}{\\omega^{2}}\\\\a \\omega + f{\\left(t \\right)}\\\\a \\sin{\\left(\\omega \\right)} + \\frac{\\left|{f{\\left(t \\right)}}\\right|}{\\sqrt{b}}\\\\5 \\sin{\\left(12 \\right)} + 105.986768359379\\\\t \\sin{\\left(\\omega f{\\left(t \\right)} \\right)} + \\frac{f{\\left(t \\right)}}{\\sqrt{t}}\\end{matrix}\\right]$"
      ],
      "text/plain": [
       "⎡               b            ⎤\n",
       "⎢           a + ──           ⎥\n",
       "⎢                2           ⎥\n",
       "⎢               ω            ⎥\n",
       "⎢                            ⎥\n",
       "⎢         a⋅ω + f(t)         ⎥\n",
       "⎢                            ⎥\n",
       "⎢                │f(t)│      ⎥\n",
       "⎢     a⋅sin(ω) + ──────      ⎥\n",
       "⎢                  √b        ⎥\n",
       "⎢                            ⎥\n",
       "⎢5⋅sin(12) + 105.986768359379⎥\n",
       "⎢                            ⎥\n",
       "⎢                    f(t)    ⎥\n",
       "⎢    t⋅sin(ω⋅f(t)) + ────    ⎥\n",
       "⎣                     √t     ⎦"
      ]
     },
     "execution_count": 58,
     "metadata": {},
     "output_type": "execute_result"
    }
   ],
   "source": [
    "mat3 = sm.Matrix([expr1, expr2, expr3, expr4, expr5])\n",
    "mat3"
   ]
  },
  {
   "cell_type": "code",
   "execution_count": 59,
   "id": "8f5c8199",
   "metadata": {
    "execution": {
     "iopub.execute_input": "2022-06-10T14:19:05.576789Z",
     "iopub.status.busy": "2022-06-10T14:19:05.576375Z",
     "iopub.status.idle": "2022-06-10T14:19:05.592203Z",
     "shell.execute_reply": "2022-06-10T14:19:05.591721Z"
    }
   },
   "outputs": [
    {
     "data": {
      "text/latex": [
       "$\\displaystyle \\left[\\begin{matrix}1\\\\\\omega\\\\\\sin{\\left(\\omega \\right)}\\\\0\\\\0\\end{matrix}\\right]$"
      ],
      "text/plain": [
       "⎡  1   ⎤\n",
       "⎢      ⎥\n",
       "⎢  ω   ⎥\n",
       "⎢      ⎥\n",
       "⎢sin(ω)⎥\n",
       "⎢      ⎥\n",
       "⎢  0   ⎥\n",
       "⎢      ⎥\n",
       "⎣  0   ⎦"
      ]
     },
     "execution_count": 59,
     "metadata": {},
     "output_type": "execute_result"
    }
   ],
   "source": [
    "mat3.diff(a)"
   ]
  },
  {
   "cell_type": "code",
   "execution_count": 60,
   "id": "4a09d814",
   "metadata": {
    "execution": {
     "iopub.execute_input": "2022-06-10T14:19:05.594733Z",
     "iopub.status.busy": "2022-06-10T14:19:05.594384Z",
     "iopub.status.idle": "2022-06-10T14:19:05.610551Z",
     "shell.execute_reply": "2022-06-10T14:19:05.610028Z"
    }
   },
   "outputs": [
    {
     "data": {
      "text/latex": [
       "$\\displaystyle \\left[\\begin{matrix}0\\\\\\frac{d}{d t} f{\\left(t \\right)}\\\\\\frac{\\left(\\operatorname{re}{\\left(f{\\left(t \\right)}\\right)} \\frac{d}{d t} \\operatorname{re}{\\left(f{\\left(t \\right)}\\right)} + \\operatorname{im}{\\left(f{\\left(t \\right)}\\right)} \\frac{d}{d t} \\operatorname{im}{\\left(f{\\left(t \\right)}\\right)}\\right) \\operatorname{sign}{\\left(f{\\left(t \\right)} \\right)}}{\\sqrt{b} f{\\left(t \\right)}}\\\\0\\\\\\omega t \\cos{\\left(\\omega f{\\left(t \\right)} \\right)} \\frac{d}{d t} f{\\left(t \\right)} + \\sin{\\left(\\omega f{\\left(t \\right)} \\right)} + \\frac{\\frac{d}{d t} f{\\left(t \\right)}}{\\sqrt{t}} - \\frac{f{\\left(t \\right)}}{2 t^{\\frac{3}{2}}}\\end{matrix}\\right]$"
      ],
      "text/plain": [
       "⎡                            0                             ⎤\n",
       "⎢                                                          ⎥\n",
       "⎢                         d                                ⎥\n",
       "⎢                         ──(f(t))                         ⎥\n",
       "⎢                         dt                               ⎥\n",
       "⎢                                                          ⎥\n",
       "⎢⎛         d                       d           ⎞           ⎥\n",
       "⎢⎜re(f(t))⋅──(re(f(t))) + im(f(t))⋅──(im(f(t)))⎟⋅sign(f(t))⎥\n",
       "⎢⎝         dt                      dt          ⎠           ⎥\n",
       "⎢──────────────────────────────────────────────────────────⎥\n",
       "⎢                         √b⋅f(t)                          ⎥\n",
       "⎢                                                          ⎥\n",
       "⎢                            0                             ⎥\n",
       "⎢                                                          ⎥\n",
       "⎢                                         d                ⎥\n",
       "⎢                                         ──(f(t))         ⎥\n",
       "⎢                d                        dt          f(t) ⎥\n",
       "⎢ω⋅t⋅cos(ω⋅f(t))⋅──(f(t)) + sin(ω⋅f(t)) + ──────── - ──────⎥\n",
       "⎢                dt                          √t         3/2⎥\n",
       "⎣                                                    2⋅t   ⎦"
      ]
     },
     "execution_count": 60,
     "metadata": {},
     "output_type": "execute_result"
    }
   ],
   "source": [
    "mat3.diff(t)"
   ]
  },
  {
   "cell_type": "code",
   "execution_count": 61,
   "id": "15d591aa",
   "metadata": {
    "execution": {
     "iopub.execute_input": "2022-06-10T14:19:05.613105Z",
     "iopub.status.busy": "2022-06-10T14:19:05.612804Z",
     "iopub.status.idle": "2022-06-10T14:19:05.618993Z",
     "shell.execute_reply": "2022-06-10T14:19:05.618513Z"
    }
   },
   "outputs": [
    {
     "data": {
      "text/latex": [
       "$\\displaystyle \\left[\\begin{matrix}a\\\\b\\\\\\omega\\\\t\\end{matrix}\\right]$"
      ],
      "text/plain": [
       "⎡a⎤\n",
       "⎢ ⎥\n",
       "⎢b⎥\n",
       "⎢ ⎥\n",
       "⎢ω⎥\n",
       "⎢ ⎥\n",
       "⎣t⎦"
      ]
     },
     "execution_count": 61,
     "metadata": {},
     "output_type": "execute_result"
    }
   ],
   "source": [
    "mat4 = sm.Matrix([a, b, omega, t])\n",
    "mat4"
   ]
  },
  {
   "cell_type": "code",
   "execution_count": 62,
   "id": "d74afbe3",
   "metadata": {
    "execution": {
     "iopub.execute_input": "2022-06-10T14:19:05.621459Z",
     "iopub.status.busy": "2022-06-10T14:19:05.621184Z",
     "iopub.status.idle": "2022-06-10T14:19:05.644180Z",
     "shell.execute_reply": "2022-06-10T14:19:05.643689Z"
    }
   },
   "outputs": [
    {
     "data": {
      "text/latex": [
       "$\\displaystyle \\left[\\begin{matrix}1 & \\frac{1}{\\omega^{2}} & - \\frac{2 b}{\\omega^{3}} & 0\\\\\\omega & 0 & a & \\frac{d}{d t} f{\\left(t \\right)}\\\\\\sin{\\left(\\omega \\right)} & - \\frac{\\left|{f{\\left(t \\right)}}\\right|}{2 b^{\\frac{3}{2}}} & a \\cos{\\left(\\omega \\right)} & \\frac{\\left(\\operatorname{re}{\\left(f{\\left(t \\right)}\\right)} \\frac{d}{d t} \\operatorname{re}{\\left(f{\\left(t \\right)}\\right)} + \\operatorname{im}{\\left(f{\\left(t \\right)}\\right)} \\frac{d}{d t} \\operatorname{im}{\\left(f{\\left(t \\right)}\\right)}\\right) \\operatorname{sign}{\\left(f{\\left(t \\right)} \\right)}}{\\sqrt{b} f{\\left(t \\right)}}\\\\0 & 0 & 0 & 0\\\\0 & 0 & t f{\\left(t \\right)} \\cos{\\left(\\omega f{\\left(t \\right)} \\right)} & \\omega t \\cos{\\left(\\omega f{\\left(t \\right)} \\right)} \\frac{d}{d t} f{\\left(t \\right)} + \\sin{\\left(\\omega f{\\left(t \\right)} \\right)} + \\frac{\\frac{d}{d t} f{\\left(t \\right)}}{\\sqrt{t}} - \\frac{f{\\left(t \\right)}}{2 t^{\\frac{3}{2}}}\\end{matrix}\\right]$"
      ],
      "text/plain": [
       "⎡           1            -2⋅b                                                 \n",
       "⎢  1        ──           ─────                                     0          \n",
       "⎢            2              3                                                 \n",
       "⎢           ω              ω                                                  \n",
       "⎢                                                                             \n",
       "⎢                                                               d             \n",
       "⎢  ω        0              a                                    ──(f(t))      \n",
       "⎢                                                               dt            \n",
       "⎢                                                                             \n",
       "⎢                                      ⎛         d                       d    \n",
       "⎢                                      ⎜re(f(t))⋅──(re(f(t))) + im(f(t))⋅──(im\n",
       "⎢        -│f(t)│                       ⎝         dt                      dt   \n",
       "⎢sin(ω)  ────────       a⋅cos(ω)       ───────────────────────────────────────\n",
       "⎢            3/2                                                √b⋅f(t)       \n",
       "⎢         2⋅b                                                                 \n",
       "⎢                                                                             \n",
       "⎢  0        0              0                                       0          \n",
       "⎢                                                                             \n",
       "⎢                                                                             \n",
       "⎢                                                                             \n",
       "⎢                                                      d                      \n",
       "⎢  0        0      t⋅f(t)⋅cos(ω⋅f(t))  ω⋅t⋅cos(ω⋅f(t))⋅──(f(t)) + sin(ω⋅f(t)) \n",
       "⎢                                                      dt                     \n",
       "⎣                                                                             \n",
       "\n",
       "                   ⎤\n",
       "                   ⎥\n",
       "                   ⎥\n",
       "                   ⎥\n",
       "                   ⎥\n",
       "                   ⎥\n",
       "                   ⎥\n",
       "                   ⎥\n",
       "                   ⎥\n",
       "       ⎞           ⎥\n",
       "(f(t)))⎟⋅sign(f(t))⎥\n",
       "       ⎠           ⎥\n",
       "───────────────────⎥\n",
       "                   ⎥\n",
       "                   ⎥\n",
       "                   ⎥\n",
       "                   ⎥\n",
       "                   ⎥\n",
       "  d                ⎥\n",
       "  ──(f(t))         ⎥\n",
       "  dt          f(t) ⎥\n",
       "+ ──────── - ──────⎥\n",
       "     √t         3/2⎥\n",
       "             2⋅t   ⎦"
      ]
     },
     "execution_count": 62,
     "metadata": {},
     "output_type": "execute_result"
    }
   ],
   "source": [
    "mat3.jacobian(mat4)"
   ]
  },
  {
   "cell_type": "code",
   "execution_count": 63,
   "id": "65aa3d02",
   "metadata": {
    "execution": {
     "iopub.execute_input": "2022-06-10T14:19:05.646826Z",
     "iopub.status.busy": "2022-06-10T14:19:05.646405Z",
     "iopub.status.idle": "2022-06-10T14:19:05.663584Z",
     "shell.execute_reply": "2022-06-10T14:19:05.663113Z"
    }
   },
   "outputs": [
    {
     "data": {
      "text/latex": [
       "$\\displaystyle \\left[\\begin{matrix}a_{1} \\sin{\\left(f{\\left(t \\right)} \\right)} \\cos{\\left(2 f{\\left(t \\right)} \\right)} + a_{2} + \\frac{\\omega \\log{\\left(t \\right)}}{\\log{\\left(f{\\left(t \\right)} \\right)}} + 100\\\\a_{1} \\omega^{2} + a_{2} f{\\left(t \\right)} + \\omega + f^{3}{\\left(t \\right)}\\end{matrix}\\right]$"
      ],
      "text/plain": [
       "⎡                                 ω⋅log(t)      ⎤\n",
       "⎢a₁⋅sin(f(t))⋅cos(2⋅f(t)) + a₂ + ───────── + 100⎥\n",
       "⎢                                log(f(t))      ⎥\n",
       "⎢                                               ⎥\n",
       "⎢              2                  3             ⎥\n",
       "⎣          a₁⋅ω  + a₂⋅f(t) + ω + f (t)          ⎦"
      ]
     },
     "execution_count": 63,
     "metadata": {},
     "output_type": "execute_result"
    }
   ],
   "source": [
    "a1, a2 = sm.symbols('a1, a2')\n",
    "\n",
    "exprs = sm.Matrix([\n",
    "    [a1*sm.sin(f(t))*sm.cos(2*f(t)) + a2 + omega/sm.log(f(t), t) + 100],\n",
    "    [a1*omega**2 + f(t)*a2 + omega + f(t)**3],\n",
    "])\n",
    "exprs"
   ]
  },
  {
   "cell_type": "code",
   "execution_count": 64,
   "id": "32dbd71c",
   "metadata": {
    "execution": {
     "iopub.execute_input": "2022-06-10T14:19:05.666187Z",
     "iopub.status.busy": "2022-06-10T14:19:05.665762Z",
     "iopub.status.idle": "2022-06-10T14:19:05.675475Z",
     "shell.execute_reply": "2022-06-10T14:19:05.675004Z"
    }
   },
   "outputs": [
    {
     "data": {
      "text/latex": [
       "$\\displaystyle \\left[\\begin{matrix}\\sin{\\left(f{\\left(t \\right)} \\right)} \\cos{\\left(2 f{\\left(t \\right)} \\right)} & 1\\\\\\omega^{2} & f{\\left(t \\right)}\\end{matrix}\\right]$"
      ],
      "text/plain": [
       "⎡sin(f(t))⋅cos(2⋅f(t))   1  ⎤\n",
       "⎢                           ⎥\n",
       "⎢          2                ⎥\n",
       "⎣         ω             f(t)⎦"
      ]
     },
     "execution_count": 64,
     "metadata": {},
     "output_type": "execute_result"
    }
   ],
   "source": [
    "A = exprs.jacobian([a1, a2])\n",
    "A"
   ]
  },
  {
   "cell_type": "code",
   "execution_count": 65,
   "id": "9f5a57f2",
   "metadata": {
    "execution": {
     "iopub.execute_input": "2022-06-10T14:19:05.678656Z",
     "iopub.status.busy": "2022-06-10T14:19:05.677644Z",
     "iopub.status.idle": "2022-06-10T14:19:05.686167Z",
     "shell.execute_reply": "2022-06-10T14:19:05.685699Z"
    }
   },
   "outputs": [
    {
     "data": {
      "text/latex": [
       "$\\displaystyle \\left[\\begin{matrix}- \\frac{\\omega \\log{\\left(t \\right)}}{\\log{\\left(f{\\left(t \\right)} \\right)}} - 100\\\\- \\omega - f^{3}{\\left(t \\right)}\\end{matrix}\\right]$"
      ],
      "text/plain": [
       "⎡   ω⋅log(t)      ⎤\n",
       "⎢- ───────── - 100⎥\n",
       "⎢  log(f(t))      ⎥\n",
       "⎢                 ⎥\n",
       "⎢         3       ⎥\n",
       "⎣   -ω - f (t)    ⎦"
      ]
     },
     "execution_count": 65,
     "metadata": {},
     "output_type": "execute_result"
    }
   ],
   "source": [
    "b = -exprs.xreplace({a1: 0, a2:0})\n",
    "b"
   ]
  },
  {
   "cell_type": "code",
   "execution_count": 66,
   "id": "186ad5c0",
   "metadata": {
    "execution": {
     "iopub.execute_input": "2022-06-10T14:19:05.688743Z",
     "iopub.status.busy": "2022-06-10T14:19:05.688328Z",
     "iopub.status.idle": "2022-06-10T14:19:05.717817Z",
     "shell.execute_reply": "2022-06-10T14:19:05.717270Z"
    }
   },
   "outputs": [
    {
     "data": {
      "text/latex": [
       "$\\displaystyle \\left[\\begin{matrix}\\frac{- \\frac{\\omega \\log{\\left(t \\right)}}{\\log{\\left(f{\\left(t \\right)} \\right)}} - 100 - \\frac{- \\frac{\\omega^{2} \\left(- \\frac{\\omega \\log{\\left(t \\right)}}{\\log{\\left(f{\\left(t \\right)} \\right)}} - 100\\right)}{\\sin{\\left(f{\\left(t \\right)} \\right)} \\cos{\\left(2 f{\\left(t \\right)} \\right)}} - \\omega - f^{3}{\\left(t \\right)}}{- \\frac{\\omega^{2}}{\\sin{\\left(f{\\left(t \\right)} \\right)} \\cos{\\left(2 f{\\left(t \\right)} \\right)}} + f{\\left(t \\right)}}}{\\sin{\\left(f{\\left(t \\right)} \\right)} \\cos{\\left(2 f{\\left(t \\right)} \\right)}}\\\\\\frac{- \\frac{\\omega^{2} \\left(- \\frac{\\omega \\log{\\left(t \\right)}}{\\log{\\left(f{\\left(t \\right)} \\right)}} - 100\\right)}{\\sin{\\left(f{\\left(t \\right)} \\right)} \\cos{\\left(2 f{\\left(t \\right)} \\right)}} - \\omega - f^{3}{\\left(t \\right)}}{- \\frac{\\omega^{2}}{\\sin{\\left(f{\\left(t \\right)} \\right)} \\cos{\\left(2 f{\\left(t \\right)} \\right)}} + f{\\left(t \\right)}}\\end{matrix}\\right]$"
      ],
      "text/plain": [
       "⎡                       2 ⎛   ω⋅log(t)      ⎞            ⎤\n",
       "⎢                      ω ⋅⎜- ───────── - 100⎟            ⎥\n",
       "⎢                         ⎝  log(f(t))      ⎠        3   ⎥\n",
       "⎢                    - ────────────────────── - ω - f (t)⎥\n",
       "⎢   ω⋅log(t)           sin(f(t))⋅cos(2⋅f(t))             ⎥\n",
       "⎢- ───────── - 100 - ────────────────────────────────────⎥\n",
       "⎢  log(f(t))                         2                   ⎥\n",
       "⎢                                   ω                    ⎥\n",
       "⎢                       - ───────────────────── + f(t)   ⎥\n",
       "⎢                         sin(f(t))⋅cos(2⋅f(t))          ⎥\n",
       "⎢────────────────────────────────────────────────────────⎥\n",
       "⎢                 sin(f(t))⋅cos(2⋅f(t))                  ⎥\n",
       "⎢                                                        ⎥\n",
       "⎢             2 ⎛   ω⋅log(t)      ⎞                      ⎥\n",
       "⎢            ω ⋅⎜- ───────── - 100⎟                      ⎥\n",
       "⎢               ⎝  log(f(t))      ⎠        3             ⎥\n",
       "⎢          - ────────────────────── - ω - f (t)          ⎥\n",
       "⎢            sin(f(t))⋅cos(2⋅f(t))                       ⎥\n",
       "⎢          ────────────────────────────────────          ⎥\n",
       "⎢                          2                             ⎥\n",
       "⎢                         ω                              ⎥\n",
       "⎢             - ───────────────────── + f(t)             ⎥\n",
       "⎣               sin(f(t))⋅cos(2⋅f(t))                    ⎦"
      ]
     },
     "execution_count": 66,
     "metadata": {},
     "output_type": "execute_result"
    }
   ],
   "source": [
    "A.LUsolve(b)"
   ]
  },
  {
   "cell_type": "code",
   "execution_count": 67,
   "id": "277182d5",
   "metadata": {
    "execution": {
     "iopub.execute_input": "2022-06-10T14:19:05.720453Z",
     "iopub.status.busy": "2022-06-10T14:19:05.720146Z",
     "iopub.status.idle": "2022-06-10T14:19:06.472814Z",
     "shell.execute_reply": "2022-06-10T14:19:06.472169Z"
    }
   },
   "outputs": [
    {
     "data": {
      "text/latex": [
       "$\\displaystyle \\left[\\begin{matrix}\\frac{- \\omega f{\\left(t \\right)} \\log{\\left(t \\right)} + \\omega \\log{\\left(f{\\left(t \\right)} \\right)} + f^{3}{\\left(t \\right)} \\log{\\left(f{\\left(t \\right)} \\right)} - 100 f{\\left(t \\right)} \\log{\\left(f{\\left(t \\right)} \\right)}}{\\left(- \\omega^{2} + f{\\left(t \\right)} \\sin{\\left(f{\\left(t \\right)} \\right)} \\cos{\\left(2 f{\\left(t \\right)} \\right)}\\right) \\log{\\left(f{\\left(t \\right)} \\right)}}\\\\\\frac{- \\omega^{2} \\left(\\omega \\log{\\left(t \\right)} + 100 \\log{\\left(f{\\left(t \\right)} \\right)}\\right) + \\left(\\omega + f^{3}{\\left(t \\right)}\\right) \\log{\\left(f{\\left(t \\right)} \\right)} \\sin{\\left(f{\\left(t \\right)} \\right)} \\cos{\\left(2 f{\\left(t \\right)} \\right)}}{\\left(\\omega^{2} - f{\\left(t \\right)} \\sin{\\left(f{\\left(t \\right)} \\right)} \\cos{\\left(2 f{\\left(t \\right)} \\right)}\\right) \\log{\\left(f{\\left(t \\right)} \\right)}}\\end{matrix}\\right]$"
      ],
      "text/plain": [
       "⎡                                     3                                       \n",
       "⎢     -ω⋅f(t)⋅log(t) + ω⋅log(f(t)) + f (t)⋅log(f(t)) - 100⋅f(t)⋅log(f(t))     \n",
       "⎢     ───────────────────────────────────────────────────────────────────     \n",
       "⎢                ⎛   2                             ⎞                          \n",
       "⎢                ⎝- ω  + f(t)⋅sin(f(t))⋅cos(2⋅f(t))⎠⋅log(f(t))                \n",
       "⎢                                                                             \n",
       "⎢   2                              ⎛     3   ⎞                                \n",
       "⎢- ω ⋅(ω⋅log(t) + 100⋅log(f(t))) + ⎝ω + f (t)⎠⋅log(f(t))⋅sin(f(t))⋅cos(2⋅f(t))\n",
       "⎢─────────────────────────────────────────────────────────────────────────────\n",
       "⎢                 ⎛ 2                             ⎞                           \n",
       "⎣                 ⎝ω  - f(t)⋅sin(f(t))⋅cos(2⋅f(t))⎠⋅log(f(t))                 \n",
       "\n",
       "⎤\n",
       "⎥\n",
       "⎥\n",
       "⎥\n",
       "⎥\n",
       "⎥\n",
       "⎥\n",
       "⎥\n",
       "⎥\n",
       "⎥\n",
       "⎦"
      ]
     },
     "execution_count": 67,
     "metadata": {},
     "output_type": "execute_result"
    }
   ],
   "source": [
    "sm.simplify(A.LUsolve(b))"
   ]
  },
  {
   "cell_type": "code",
   "execution_count": 68,
   "id": "efbb5547",
   "metadata": {
    "execution": {
     "iopub.execute_input": "2022-06-10T14:19:06.476036Z",
     "iopub.status.busy": "2022-06-10T14:19:06.475661Z",
     "iopub.status.idle": "2022-06-10T14:19:06.503514Z",
     "shell.execute_reply": "2022-06-10T14:19:06.502970Z"
    }
   },
   "outputs": [
    {
     "data": {
      "text/latex": [
       "$\\displaystyle 1$"
      ],
      "text/plain": [
       "1"
      ]
     },
     "execution_count": 68,
     "metadata": {},
     "output_type": "execute_result"
    }
   ],
   "source": [
    "sm.trigsimp(sm.cos(omega)**2 + sm.sin(omega)**2)"
   ]
  },
  {
   "cell_type": "code",
   "execution_count": 69,
   "id": "b61f0c24",
   "metadata": {
    "execution": {
     "iopub.execute_input": "2022-06-10T14:19:06.506397Z",
     "iopub.status.busy": "2022-06-10T14:19:06.506004Z",
     "iopub.status.idle": "2022-06-10T14:19:06.523093Z",
     "shell.execute_reply": "2022-06-10T14:19:06.522618Z"
    }
   },
   "outputs": [],
   "source": [
    "substitutions, simplified = sm.cse(A.LUsolve(b))"
   ]
  },
  {
   "cell_type": "code",
   "execution_count": 70,
   "id": "0950af7b",
   "metadata": {
    "execution": {
     "iopub.execute_input": "2022-06-10T14:19:06.526349Z",
     "iopub.status.busy": "2022-06-10T14:19:06.525344Z",
     "iopub.status.idle": "2022-06-10T14:19:06.531180Z",
     "shell.execute_reply": "2022-06-10T14:19:06.530709Z"
    }
   },
   "outputs": [
    {
     "data": {
      "text/latex": [
       "$\\displaystyle \\left( x_{0}, \\  f{\\left(t \\right)}\\right)$"
      ],
      "text/plain": [
       "(x₀, f(t))"
      ]
     },
     "execution_count": 70,
     "metadata": {},
     "output_type": "execute_result"
    }
   ],
   "source": [
    "substitutions[0]"
   ]
  },
  {
   "cell_type": "code",
   "execution_count": 71,
   "id": "07ad0704",
   "metadata": {
    "execution": {
     "iopub.execute_input": "2022-06-10T14:19:06.533724Z",
     "iopub.status.busy": "2022-06-10T14:19:06.533325Z",
     "iopub.status.idle": "2022-06-10T14:19:06.539601Z",
     "shell.execute_reply": "2022-06-10T14:19:06.539110Z"
    }
   },
   "outputs": [
    {
     "data": {
      "text/latex": [
       "$\\displaystyle x_{0} = f{\\left(t \\right)}$"
      ],
      "text/plain": [
       "x₀ = f(t)"
      ]
     },
     "execution_count": 71,
     "metadata": {},
     "output_type": "execute_result"
    }
   ],
   "source": [
    "sm.Eq(*substitutions[0])"
   ]
  },
  {
   "cell_type": "code",
   "execution_count": 72,
   "id": "6ee1d839",
   "metadata": {
    "execution": {
     "iopub.execute_input": "2022-06-10T14:19:06.541986Z",
     "iopub.status.busy": "2022-06-10T14:19:06.541712Z",
     "iopub.status.idle": "2022-06-10T14:19:06.551878Z",
     "shell.execute_reply": "2022-06-10T14:19:06.551410Z"
    }
   },
   "outputs": [
    {
     "data": {
      "text/latex": [
       "$\\displaystyle x_{1} = \\frac{1}{\\sin{\\left(x_{0} \\right)} \\cos{\\left(2 x_{0} \\right)}}$"
      ],
      "text/plain": [
       "             1        \n",
       "x₁ = ─────────────────\n",
       "     sin(x₀)⋅cos(2⋅x₀)"
      ]
     },
     "execution_count": 72,
     "metadata": {},
     "output_type": "execute_result"
    }
   ],
   "source": [
    "sm.Eq(*substitutions[1])"
   ]
  },
  {
   "cell_type": "code",
   "execution_count": 73,
   "id": "ec092c8a",
   "metadata": {
    "execution": {
     "iopub.execute_input": "2022-06-10T14:19:06.554338Z",
     "iopub.status.busy": "2022-06-10T14:19:06.553929Z",
     "iopub.status.idle": "2022-06-10T14:19:06.560736Z",
     "shell.execute_reply": "2022-06-10T14:19:06.560281Z"
    }
   },
   "outputs": [
    {
     "data": {
      "text/latex": [
       "$\\displaystyle x_{2} = \\omega^{2} x_{1}$"
      ],
      "text/plain": [
       "      2   \n",
       "x₂ = ω ⋅x₁"
      ]
     },
     "execution_count": 73,
     "metadata": {},
     "output_type": "execute_result"
    }
   ],
   "source": [
    "sm.Eq(*substitutions[2])"
   ]
  },
  {
   "cell_type": "code",
   "execution_count": 74,
   "id": "44ced4a9",
   "metadata": {
    "execution": {
     "iopub.execute_input": "2022-06-10T14:19:06.563237Z",
     "iopub.status.busy": "2022-06-10T14:19:06.562830Z",
     "iopub.status.idle": "2022-06-10T14:19:06.574502Z",
     "shell.execute_reply": "2022-06-10T14:19:06.573918Z"
    }
   },
   "outputs": [
    {
     "data": {
      "text/latex": [
       "$\\displaystyle x_{4} = \\frac{- \\omega - x_{0}^{3} + x_{2} x_{3}}{x_{0} - x_{2}}$"
      ],
      "text/plain": [
       "            3        \n",
       "     -ω - x₀  + x₂⋅x₃\n",
       "x₄ = ────────────────\n",
       "         x₀ - x₂     "
      ]
     },
     "execution_count": 74,
     "metadata": {},
     "output_type": "execute_result"
    }
   ],
   "source": [
    "sm.Eq(*substitutions[4])"
   ]
  },
  {
   "cell_type": "code",
   "execution_count": 75,
   "id": "685eb71c",
   "metadata": {
    "execution": {
     "iopub.execute_input": "2022-06-10T14:19:06.577513Z",
     "iopub.status.busy": "2022-06-10T14:19:06.577106Z",
     "iopub.status.idle": "2022-06-10T14:19:06.584582Z",
     "shell.execute_reply": "2022-06-10T14:19:06.583898Z"
    }
   },
   "outputs": [
    {
     "data": {
      "text/latex": [
       "$\\displaystyle \\left[\\begin{matrix}x_{1} \\left(- x_{3} - x_{4}\\right)\\\\x_{4}\\end{matrix}\\right]$"
      ],
      "text/plain": [
       "⎡x₁⋅(-x₃ - x₄)⎤\n",
       "⎢             ⎥\n",
       "⎣     x₄      ⎦"
      ]
     },
     "execution_count": 75,
     "metadata": {},
     "output_type": "execute_result"
    }
   ],
   "source": [
    "simplified[0]"
   ]
  }
 ],
 "metadata": {
  "kernelspec": {
   "display_name": "Python 3 (ipykernel)",
   "language": "python",
   "name": "python3"
  },
  "language_info": {
   "codemirror_mode": {
    "name": "ipython",
    "version": 3
   },
   "file_extension": ".py",
   "mimetype": "text/x-python",
   "name": "python",
   "nbconvert_exporter": "python",
   "pygments_lexer": "ipython3",
   "version": "3.9.13"
  }
 },
 "nbformat": 4,
 "nbformat_minor": 5
}