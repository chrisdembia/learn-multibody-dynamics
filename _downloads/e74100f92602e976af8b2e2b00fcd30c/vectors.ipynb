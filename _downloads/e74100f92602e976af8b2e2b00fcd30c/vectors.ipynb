{
 "cells": [
  {
   "cell_type": "code",
   "execution_count": 1,
   "id": "37f9e44f",
   "metadata": {
    "execution": {
     "iopub.execute_input": "2022-06-10T14:19:39.790599Z",
     "iopub.status.busy": "2022-06-10T14:19:39.790284Z",
     "iopub.status.idle": "2022-06-10T14:19:40.253417Z",
     "shell.execute_reply": "2022-06-10T14:19:40.252691Z"
    }
   },
   "outputs": [],
   "source": [
    "import sympy as sm\n",
    "import sympy.physics.mechanics as me\n",
    "sm.init_printing(use_latex='mathjax')"
   ]
  },
  {
   "cell_type": "code",
   "execution_count": 2,
   "id": "2cb68452",
   "metadata": {
    "execution": {
     "iopub.execute_input": "2022-06-10T14:19:40.257304Z",
     "iopub.status.busy": "2022-06-10T14:19:40.256854Z",
     "iopub.status.idle": "2022-06-10T14:19:40.260716Z",
     "shell.execute_reply": "2022-06-10T14:19:40.260143Z"
    }
   },
   "outputs": [],
   "source": [
    "N = me.ReferenceFrame('N')"
   ]
  },
  {
   "cell_type": "code",
   "execution_count": 3,
   "id": "dfb72fbf",
   "metadata": {
    "execution": {
     "iopub.execute_input": "2022-06-10T14:19:40.263089Z",
     "iopub.status.busy": "2022-06-10T14:19:40.262898Z",
     "iopub.status.idle": "2022-06-10T14:19:40.265650Z",
     "shell.execute_reply": "2022-06-10T14:19:40.265127Z"
    }
   },
   "outputs": [],
   "source": [
    "a, b, c, d, e, f = sm.symbols('a, b, c, d, e, f')"
   ]
  },
  {
   "cell_type": "code",
   "execution_count": 4,
   "id": "22227b7c",
   "metadata": {
    "execution": {
     "iopub.execute_input": "2022-06-10T14:19:40.267770Z",
     "iopub.status.busy": "2022-06-10T14:19:40.267595Z",
     "iopub.status.idle": "2022-06-10T14:19:40.274202Z",
     "shell.execute_reply": "2022-06-10T14:19:40.273698Z"
    }
   },
   "outputs": [
    {
     "data": {
      "text/latex": [
       "$\\displaystyle a\\mathbf{\\hat{n}_x}$"
      ],
      "text/plain": [
       "a n_x"
      ]
     },
     "execution_count": 4,
     "metadata": {},
     "output_type": "execute_result"
    }
   ],
   "source": [
    "v = a*N.x\n",
    "v"
   ]
  },
  {
   "cell_type": "code",
   "execution_count": 5,
   "id": "65199a90",
   "metadata": {
    "execution": {
     "iopub.execute_input": "2022-06-10T14:19:40.276581Z",
     "iopub.status.busy": "2022-06-10T14:19:40.276303Z",
     "iopub.status.idle": "2022-06-10T14:19:40.282007Z",
     "shell.execute_reply": "2022-06-10T14:19:40.281497Z"
    }
   },
   "outputs": [
    {
     "data": {
      "text/latex": [
       "$\\displaystyle \\left[\\begin{matrix}a\\\\0\\\\0\\end{matrix}\\right]$"
      ],
      "text/plain": [
       "⎡a⎤\n",
       "⎢ ⎥\n",
       "⎢0⎥\n",
       "⎢ ⎥\n",
       "⎣0⎦"
      ]
     },
     "execution_count": 5,
     "metadata": {},
     "output_type": "execute_result"
    }
   ],
   "source": [
    "v.to_matrix(N)"
   ]
  },
  {
   "cell_type": "code",
   "execution_count": 6,
   "id": "39c85415",
   "metadata": {
    "execution": {
     "iopub.execute_input": "2022-06-10T14:19:40.284839Z",
     "iopub.status.busy": "2022-06-10T14:19:40.284398Z",
     "iopub.status.idle": "2022-06-10T14:19:40.289209Z",
     "shell.execute_reply": "2022-06-10T14:19:40.288700Z"
    }
   },
   "outputs": [
    {
     "data": {
      "text/latex": [
       "$\\displaystyle a\\mathbf{\\hat{n}_x} + b\\mathbf{\\hat{n}_y} + c\\mathbf{\\hat{n}_z}$"
      ],
      "text/plain": [
       "a n_x + b n_y + c n_z"
      ]
     },
     "execution_count": 6,
     "metadata": {},
     "output_type": "execute_result"
    }
   ],
   "source": [
    "w = a*N.x + b*N.y + c*N.z\n",
    "w"
   ]
  },
  {
   "cell_type": "code",
   "execution_count": 7,
   "id": "39d22920",
   "metadata": {
    "execution": {
     "iopub.execute_input": "2022-06-10T14:19:40.292041Z",
     "iopub.status.busy": "2022-06-10T14:19:40.291594Z",
     "iopub.status.idle": "2022-06-10T14:19:40.298471Z",
     "shell.execute_reply": "2022-06-10T14:19:40.297930Z"
    }
   },
   "outputs": [
    {
     "data": {
      "text/latex": [
       "$\\displaystyle \\left[\\begin{matrix}a\\\\b\\\\c\\end{matrix}\\right]$"
      ],
      "text/plain": [
       "⎡a⎤\n",
       "⎢ ⎥\n",
       "⎢b⎥\n",
       "⎢ ⎥\n",
       "⎣c⎦"
      ]
     },
     "execution_count": 7,
     "metadata": {},
     "output_type": "execute_result"
    }
   ],
   "source": [
    "w.to_matrix(N)"
   ]
  },
  {
   "cell_type": "code",
   "execution_count": 8,
   "id": "c7474efa",
   "metadata": {
    "execution": {
     "iopub.execute_input": "2022-06-10T14:19:40.300713Z",
     "iopub.status.busy": "2022-06-10T14:19:40.300224Z",
     "iopub.status.idle": "2022-06-10T14:19:40.304985Z",
     "shell.execute_reply": "2022-06-10T14:19:40.304473Z"
    }
   },
   "outputs": [
    {
     "data": {
      "text/latex": [
       "$\\displaystyle d\\mathbf{\\hat{n}_x} + e\\mathbf{\\hat{n}_y} + f\\mathbf{\\hat{n}_z}$"
      ],
      "text/plain": [
       "d n_x + e n_y + f n_z"
      ]
     },
     "execution_count": 8,
     "metadata": {},
     "output_type": "execute_result"
    }
   ],
   "source": [
    "x = d*N.x + e*N.y + f*N.z\n",
    "x"
   ]
  },
  {
   "cell_type": "code",
   "execution_count": 9,
   "id": "9016812c",
   "metadata": {
    "execution": {
     "iopub.execute_input": "2022-06-10T14:19:40.307048Z",
     "iopub.status.busy": "2022-06-10T14:19:40.306760Z",
     "iopub.status.idle": "2022-06-10T14:19:40.312141Z",
     "shell.execute_reply": "2022-06-10T14:19:40.311622Z"
    }
   },
   "outputs": [
    {
     "data": {
      "text/latex": [
       "$\\displaystyle (a + d)\\mathbf{\\hat{n}_x} + (b + e)\\mathbf{\\hat{n}_y} + (c + f)\\mathbf{\\hat{n}_z}$"
      ],
      "text/plain": [
       "(a + d) n_x + (b + e) n_y + (c + f) n_z"
      ]
     },
     "execution_count": 9,
     "metadata": {},
     "output_type": "execute_result"
    }
   ],
   "source": [
    "w + x"
   ]
  },
  {
   "cell_type": "code",
   "execution_count": 10,
   "id": "8b3d5550",
   "metadata": {
    "execution": {
     "iopub.execute_input": "2022-06-10T14:19:40.314676Z",
     "iopub.status.busy": "2022-06-10T14:19:40.314315Z",
     "iopub.status.idle": "2022-06-10T14:19:40.319271Z",
     "shell.execute_reply": "2022-06-10T14:19:40.318749Z"
    }
   },
   "outputs": [
    {
     "data": {
      "text/latex": [
       "$\\displaystyle 2 a\\mathbf{\\hat{n}_x} + 2 b\\mathbf{\\hat{n}_y} + 2 c\\mathbf{\\hat{n}_z}$"
      ],
      "text/plain": [
       "2⋅a n_x + 2⋅b n_y + 2⋅c n_z"
      ]
     },
     "execution_count": 10,
     "metadata": {},
     "output_type": "execute_result"
    }
   ],
   "source": [
    "y = 2*w\n",
    "y"
   ]
  },
  {
   "cell_type": "code",
   "execution_count": 11,
   "id": "8a3a42ad",
   "metadata": {
    "execution": {
     "iopub.execute_input": "2022-06-10T14:19:40.321973Z",
     "iopub.status.busy": "2022-06-10T14:19:40.321489Z",
     "iopub.status.idle": "2022-06-10T14:19:40.327511Z",
     "shell.execute_reply": "2022-06-10T14:19:40.327004Z"
    }
   },
   "outputs": [
    {
     "data": {
      "text/latex": [
       "$\\displaystyle -  a\\mathbf{\\hat{n}_x} -  b\\mathbf{\\hat{n}_y} -  c\\mathbf{\\hat{n}_z}$"
      ],
      "text/plain": [
       "-a n_x + -b n_y + -c n_z"
      ]
     },
     "execution_count": 11,
     "metadata": {},
     "output_type": "execute_result"
    }
   ],
   "source": [
    "z = -w\n",
    "z"
   ]
  },
  {
   "cell_type": "code",
   "execution_count": 12,
   "id": "28411f4f",
   "metadata": {
    "execution": {
     "iopub.execute_input": "2022-06-10T14:19:40.329742Z",
     "iopub.status.busy": "2022-06-10T14:19:40.329326Z",
     "iopub.status.idle": "2022-06-10T14:19:40.332530Z",
     "shell.execute_reply": "2022-06-10T14:19:40.332001Z"
    }
   },
   "outputs": [],
   "source": [
    "N = me.ReferenceFrame('N')\n",
    "l, theta = sm.symbols('l, theta')"
   ]
  },
  {
   "cell_type": "code",
   "execution_count": 13,
   "id": "5a44dc46",
   "metadata": {
    "execution": {
     "iopub.execute_input": "2022-06-10T14:19:40.334710Z",
     "iopub.status.busy": "2022-06-10T14:19:40.334280Z",
     "iopub.status.idle": "2022-06-10T14:19:40.343339Z",
     "shell.execute_reply": "2022-06-10T14:19:40.342787Z"
    }
   },
   "outputs": [
    {
     "data": {
      "text/latex": [
       "$\\displaystyle \\frac{\\sqrt{2} l}{2}\\mathbf{\\hat{n}_x} + \\frac{\\sqrt{2} l}{2}\\mathbf{\\hat{n}_y}$"
      ],
      "text/plain": [
       "√2⋅l       √2⋅l\n",
       "──── n_x + ──── n_y\n",
       " 2          2"
      ]
     },
     "execution_count": 13,
     "metadata": {},
     "output_type": "execute_result"
    }
   ],
   "source": [
    "v1 = l*sm.cos(sm.pi/4)*N.x + l*sm.sin(sm.pi/4)*N.y\n",
    "v1"
   ]
  },
  {
   "cell_type": "code",
   "execution_count": 14,
   "id": "f5fbd53b",
   "metadata": {
    "execution": {
     "iopub.execute_input": "2022-06-10T14:19:40.345863Z",
     "iopub.status.busy": "2022-06-10T14:19:40.345425Z",
     "iopub.status.idle": "2022-06-10T14:19:40.349630Z",
     "shell.execute_reply": "2022-06-10T14:19:40.349078Z"
    }
   },
   "outputs": [
    {
     "data": {
      "text/latex": [
       "$\\displaystyle - 10\\mathbf{\\hat{n}_y}$"
      ],
      "text/plain": [
       "-10 n_y"
      ]
     },
     "execution_count": 14,
     "metadata": {},
     "output_type": "execute_result"
    }
   ],
   "source": [
    "v2 = -10*N.y\n",
    "v2"
   ]
  },
  {
   "cell_type": "code",
   "execution_count": 15,
   "id": "ad43eca2",
   "metadata": {
    "execution": {
     "iopub.execute_input": "2022-06-10T14:19:40.352333Z",
     "iopub.status.busy": "2022-06-10T14:19:40.351827Z",
     "iopub.status.idle": "2022-06-10T14:19:40.358978Z",
     "shell.execute_reply": "2022-06-10T14:19:40.358428Z"
    }
   },
   "outputs": [
    {
     "data": {
      "text/latex": [
       "$\\displaystyle -  l \\sin{\\left(\\theta \\right)}\\mathbf{\\hat{n}_x} + l \\cos{\\left(\\theta \\right)}\\mathbf{\\hat{n}_y}$"
      ],
      "text/plain": [
       "-l⋅sin(θ) n_x + l⋅cos(θ) n_y"
      ]
     },
     "execution_count": 15,
     "metadata": {},
     "output_type": "execute_result"
    }
   ],
   "source": [
    "v3 = -l*sm.sin(theta)*N.x + l*sm.cos(theta)*N.y\n",
    "v3"
   ]
  },
  {
   "cell_type": "code",
   "execution_count": 16,
   "id": "add27f70",
   "metadata": {
    "execution": {
     "iopub.execute_input": "2022-06-10T14:19:40.361279Z",
     "iopub.status.busy": "2022-06-10T14:19:40.360841Z",
     "iopub.status.idle": "2022-06-10T14:19:40.369357Z",
     "shell.execute_reply": "2022-06-10T14:19:40.368788Z"
    }
   },
   "outputs": [
    {
     "data": {
      "text/latex": [
       "$\\displaystyle (5 l \\sin{\\left(\\theta \\right)} + \\frac{\\sqrt{2} l}{2})\\mathbf{\\hat{n}_x} + (- 5 l \\cos{\\left(\\theta \\right)} + \\frac{\\sqrt{2} l}{2} - 10)\\mathbf{\\hat{n}_y}$"
      ],
      "text/plain": [
       "⎛             √2⋅l⎞       ⎛              √2⋅l     ⎞\n",
       "⎜5⋅l⋅sin(θ) + ────⎟ n_x + ⎜-5⋅l⋅cos(θ) + ──── - 10⎟ n_y\n",
       "⎝              2  ⎠       ⎝               2       ⎠"
      ]
     },
     "execution_count": 16,
     "metadata": {},
     "output_type": "execute_result"
    }
   ],
   "source": [
    "v1 + v2 - 5*v3"
   ]
  },
  {
   "cell_type": "code",
   "execution_count": 17,
   "id": "d4796eee",
   "metadata": {
    "execution": {
     "iopub.execute_input": "2022-06-10T14:19:40.372006Z",
     "iopub.status.busy": "2022-06-10T14:19:40.371570Z",
     "iopub.status.idle": "2022-06-10T14:19:40.376367Z",
     "shell.execute_reply": "2022-06-10T14:19:40.375789Z"
    }
   },
   "outputs": [],
   "source": [
    "N = me.ReferenceFrame('N')\n",
    "w = a*N.x + b*N.y + c*N.z\n",
    "x = d*N.x + e*N.y + f*N.z"
   ]
  },
  {
   "cell_type": "code",
   "execution_count": 18,
   "id": "6b682dc6",
   "metadata": {
    "execution": {
     "iopub.execute_input": "2022-06-10T14:19:40.378741Z",
     "iopub.status.busy": "2022-06-10T14:19:40.378266Z",
     "iopub.status.idle": "2022-06-10T14:19:40.384600Z",
     "shell.execute_reply": "2022-06-10T14:19:40.384053Z"
    }
   },
   "outputs": [
    {
     "data": {
      "text/latex": [
       "$\\displaystyle a d + b e + c f$"
      ],
      "text/plain": [
       "a⋅d + b⋅e + c⋅f"
      ]
     },
     "execution_count": 18,
     "metadata": {},
     "output_type": "execute_result"
    }
   ],
   "source": [
    "me.dot(w, x)"
   ]
  },
  {
   "cell_type": "code",
   "execution_count": 19,
   "id": "41d2551d",
   "metadata": {
    "execution": {
     "iopub.execute_input": "2022-06-10T14:19:40.388022Z",
     "iopub.status.busy": "2022-06-10T14:19:40.387519Z",
     "iopub.status.idle": "2022-06-10T14:19:40.392834Z",
     "shell.execute_reply": "2022-06-10T14:19:40.392279Z"
    }
   },
   "outputs": [
    {
     "data": {
      "text/latex": [
       "$\\displaystyle a d + b e + c f$"
      ],
      "text/plain": [
       "a⋅d + b⋅e + c⋅f"
      ]
     },
     "execution_count": 19,
     "metadata": {},
     "output_type": "execute_result"
    }
   ],
   "source": [
    "w.dot(x)"
   ]
  },
  {
   "cell_type": "code",
   "execution_count": 20,
   "id": "08b60e39",
   "metadata": {
    "execution": {
     "iopub.execute_input": "2022-06-10T14:19:40.394888Z",
     "iopub.status.busy": "2022-06-10T14:19:40.394686Z",
     "iopub.status.idle": "2022-06-10T14:19:40.410090Z",
     "shell.execute_reply": "2022-06-10T14:19:40.409593Z"
    }
   },
   "outputs": [
    {
     "data": {
      "text/latex": [
       "$\\displaystyle \\frac{a}{\\sqrt{a^{2} + b^{2} + c^{2}}}\\mathbf{\\hat{n}_x} + \\frac{b}{\\sqrt{a^{2} + b^{2} + c^{2}}}\\mathbf{\\hat{n}_y} + \\frac{c}{\\sqrt{a^{2} + b^{2} + c^{2}}}\\mathbf{\\hat{n}_z}$"
      ],
      "text/plain": [
       "        a                       b                       c\n",
       "───────────────── n_x + ───────────────── n_y + ───────────────── n_z\n",
       "   ______________          ______________          ______________\n",
       "  ╱  2    2    2          ╱  2    2    2          ╱  2    2    2\n",
       "╲╱  a  + b  + c         ╲╱  a  + b  + c         ╲╱  a  + b  + c"
      ]
     },
     "execution_count": 20,
     "metadata": {},
     "output_type": "execute_result"
    }
   ],
   "source": [
    "w.normalize()"
   ]
  },
  {
   "cell_type": "code",
   "execution_count": 21,
   "id": "61030d88",
   "metadata": {
    "execution": {
     "iopub.execute_input": "2022-06-10T14:19:40.412490Z",
     "iopub.status.busy": "2022-06-10T14:19:40.412201Z",
     "iopub.status.idle": "2022-06-10T14:19:40.421096Z",
     "shell.execute_reply": "2022-06-10T14:19:40.420610Z"
    }
   },
   "outputs": [
    {
     "data": {
      "text/latex": [
       "$\\displaystyle \\frac{a}{\\sqrt{a^{2} + b^{2} + c^{2}}}\\mathbf{\\hat{n}_x} + \\frac{b}{\\sqrt{a^{2} + b^{2} + c^{2}}}\\mathbf{\\hat{n}_y} + \\frac{c}{\\sqrt{a^{2} + b^{2} + c^{2}}}\\mathbf{\\hat{n}_z}$"
      ],
      "text/plain": [
       "        a                       b                       c\n",
       "───────────────── n_x + ───────────────── n_y + ───────────────── n_z\n",
       "   ______________          ______________          ______________\n",
       "  ╱  2    2    2          ╱  2    2    2          ╱  2    2    2\n",
       "╲╱  a  + b  + c         ╲╱  a  + b  + c         ╲╱  a  + b  + c"
      ]
     },
     "execution_count": 21,
     "metadata": {},
     "output_type": "execute_result"
    }
   ],
   "source": [
    "def normalize(vector):\n",
    "    return vector/sm.sqrt(me.dot(vector, vector))\n",
    "\n",
    "normalize(w)"
   ]
  },
  {
   "cell_type": "code",
   "execution_count": 22,
   "id": "7dd37fa3",
   "metadata": {
    "execution": {
     "iopub.execute_input": "2022-06-10T14:19:40.423593Z",
     "iopub.status.busy": "2022-06-10T14:19:40.423309Z",
     "iopub.status.idle": "2022-06-10T14:19:40.429459Z",
     "shell.execute_reply": "2022-06-10T14:19:40.428996Z"
    }
   },
   "outputs": [
    {
     "data": {
      "text/latex": [
       "$\\displaystyle \\sqrt{a^{2} + b^{2} + c^{2}}$"
      ],
      "text/plain": [
       "   ______________\n",
       "  ╱  2    2    2 \n",
       "╲╱  a  + b  + c  "
      ]
     },
     "execution_count": 22,
     "metadata": {},
     "output_type": "execute_result"
    }
   ],
   "source": [
    "w.magnitude()"
   ]
  },
  {
   "cell_type": "code",
   "execution_count": 23,
   "id": "cb807019",
   "metadata": {
    "execution": {
     "iopub.execute_input": "2022-06-10T14:19:40.431867Z",
     "iopub.status.busy": "2022-06-10T14:19:40.431596Z",
     "iopub.status.idle": "2022-06-10T14:19:40.439805Z",
     "shell.execute_reply": "2022-06-10T14:19:40.439358Z"
    }
   },
   "outputs": [
    {
     "data": {
      "text/latex": [
       "$\\displaystyle \\frac{a}{\\sqrt{a^{2} + b^{2} + c^{2}}}\\mathbf{\\hat{n}_x} + \\frac{b}{\\sqrt{a^{2} + b^{2} + c^{2}}}\\mathbf{\\hat{n}_y} + \\frac{c}{\\sqrt{a^{2} + b^{2} + c^{2}}}\\mathbf{\\hat{n}_z}$"
      ],
      "text/plain": [
       "        a                       b                       c\n",
       "───────────────── n_x + ───────────────── n_y + ───────────────── n_z\n",
       "   ______________          ______________          ______________\n",
       "  ╱  2    2    2          ╱  2    2    2          ╱  2    2    2\n",
       "╲╱  a  + b  + c         ╲╱  a  + b  + c         ╲╱  a  + b  + c"
      ]
     },
     "execution_count": 23,
     "metadata": {},
     "output_type": "execute_result"
    }
   ],
   "source": [
    "w/w.magnitude()"
   ]
  },
  {
   "cell_type": "code",
   "execution_count": 24,
   "id": "75e9208d",
   "metadata": {
    "execution": {
     "iopub.execute_input": "2022-06-10T14:19:40.442157Z",
     "iopub.status.busy": "2022-06-10T14:19:40.441891Z",
     "iopub.status.idle": "2022-06-10T14:19:40.447259Z",
     "shell.execute_reply": "2022-06-10T14:19:40.446801Z"
    }
   },
   "outputs": [],
   "source": [
    "N = me.ReferenceFrame('N')\n",
    "v1 = a*N.x + b*N.y + a*N.z\n",
    "v2 = b*N.x + a*N.y + b*N.z"
   ]
  },
  {
   "cell_type": "code",
   "execution_count": 25,
   "id": "5a9b3e72",
   "metadata": {
    "execution": {
     "iopub.execute_input": "2022-06-10T14:19:40.450275Z",
     "iopub.status.busy": "2022-06-10T14:19:40.449304Z",
     "iopub.status.idle": "2022-06-10T14:19:40.466978Z",
     "shell.execute_reply": "2022-06-10T14:19:40.466520Z"
    }
   },
   "outputs": [
    {
     "data": {
      "text/latex": [
       "$\\displaystyle \\operatorname{acos}{\\left(\\frac{3 a b}{\\sqrt{a^{2} + 2 b^{2}} \\sqrt{2 a^{2} + b^{2}}} \\right)}$"
      ],
      "text/plain": [
       "    ⎛            3⋅a⋅b            ⎞\n",
       "acos⎜─────────────────────────────⎟\n",
       "    ⎜   ___________    ___________⎟\n",
       "    ⎜  ╱  2      2    ╱    2    2 ⎟\n",
       "    ⎝╲╱  a  + 2⋅b  ⋅╲╱  2⋅a  + b  ⎠"
      ]
     },
     "execution_count": 25,
     "metadata": {},
     "output_type": "execute_result"
    }
   ],
   "source": [
    "sm.acos(v1.dot(v2) / (v1.magnitude()*v2.magnitude()))"
   ]
  },
  {
   "cell_type": "code",
   "execution_count": 26,
   "id": "cffb9e20",
   "metadata": {
    "execution": {
     "iopub.execute_input": "2022-06-10T14:19:40.469409Z",
     "iopub.status.busy": "2022-06-10T14:19:40.469121Z",
     "iopub.status.idle": "2022-06-10T14:19:40.478185Z",
     "shell.execute_reply": "2022-06-10T14:19:40.477634Z"
    }
   },
   "outputs": [
    {
     "data": {
      "text/latex": [
       "$\\displaystyle a\\mathbf{\\hat{n}_x} + b\\mathbf{\\hat{n}_y} + c\\mathbf{\\hat{n}_z}$"
      ],
      "text/plain": [
       "a n_x + b n_y + c n_z"
      ]
     },
     "execution_count": 26,
     "metadata": {},
     "output_type": "execute_result"
    }
   ],
   "source": [
    "N = me.ReferenceFrame('N')\n",
    "w = a*N.x + b*N.y + c*N.z\n",
    "w"
   ]
  },
  {
   "cell_type": "code",
   "execution_count": 27,
   "id": "8de4b528",
   "metadata": {
    "execution": {
     "iopub.execute_input": "2022-06-10T14:19:40.481495Z",
     "iopub.status.busy": "2022-06-10T14:19:40.480495Z",
     "iopub.status.idle": "2022-06-10T14:19:40.487068Z",
     "shell.execute_reply": "2022-06-10T14:19:40.486612Z"
    }
   },
   "outputs": [
    {
     "data": {
      "text/latex": [
       "$\\displaystyle d\\mathbf{\\hat{n}_x} + e\\mathbf{\\hat{n}_y} + f\\mathbf{\\hat{n}_z}$"
      ],
      "text/plain": [
       "d n_x + e n_y + f n_z"
      ]
     },
     "execution_count": 27,
     "metadata": {},
     "output_type": "execute_result"
    }
   ],
   "source": [
    "x = d*N.x + e*N.y + f*N.z\n",
    "x"
   ]
  },
  {
   "cell_type": "code",
   "execution_count": 28,
   "id": "6dd694a9",
   "metadata": {
    "execution": {
     "iopub.execute_input": "2022-06-10T14:19:40.489628Z",
     "iopub.status.busy": "2022-06-10T14:19:40.489225Z",
     "iopub.status.idle": "2022-06-10T14:19:40.500295Z",
     "shell.execute_reply": "2022-06-10T14:19:40.499822Z"
    }
   },
   "outputs": [
    {
     "data": {
      "text/latex": [
       "$\\displaystyle (b f - c e)\\mathbf{\\hat{n}_x} + (- a f + c d)\\mathbf{\\hat{n}_y} + (a e - b d)\\mathbf{\\hat{n}_z}$"
      ],
      "text/plain": [
       "(b⋅f - c⋅e) n_x + (-a⋅f + c⋅d) n_y + (a⋅e - b⋅d) n_z"
      ]
     },
     "execution_count": 28,
     "metadata": {},
     "output_type": "execute_result"
    }
   ],
   "source": [
    "me.cross(w, x)"
   ]
  },
  {
   "cell_type": "code",
   "execution_count": 29,
   "id": "04e0376f",
   "metadata": {
    "execution": {
     "iopub.execute_input": "2022-06-10T14:19:40.502664Z",
     "iopub.status.busy": "2022-06-10T14:19:40.502389Z",
     "iopub.status.idle": "2022-06-10T14:19:40.511533Z",
     "shell.execute_reply": "2022-06-10T14:19:40.511082Z"
    }
   },
   "outputs": [
    {
     "data": {
      "text/latex": [
       "$\\displaystyle (b f - c e)\\mathbf{\\hat{n}_x} + (- a f + c d)\\mathbf{\\hat{n}_y} + (a e - b d)\\mathbf{\\hat{n}_z}$"
      ],
      "text/plain": [
       "(b⋅f - c⋅e) n_x + (-a⋅f + c⋅d) n_y + (a⋅e - b⋅d) n_z"
      ]
     },
     "execution_count": 29,
     "metadata": {},
     "output_type": "execute_result"
    }
   ],
   "source": [
    "w.cross(x)"
   ]
  },
  {
   "cell_type": "code",
   "execution_count": 30,
   "id": "1ff1faf3",
   "metadata": {
    "execution": {
     "iopub.execute_input": "2022-06-10T14:19:40.513861Z",
     "iopub.status.busy": "2022-06-10T14:19:40.513597Z",
     "iopub.status.idle": "2022-06-10T14:19:40.523609Z",
     "shell.execute_reply": "2022-06-10T14:19:40.523162Z"
    }
   },
   "outputs": [
    {
     "data": {
      "text/latex": [
       "$\\displaystyle \\sqrt{36077}$"
      ],
      "text/plain": [
       "√36077"
      ]
     },
     "execution_count": 30,
     "metadata": {},
     "output_type": "execute_result"
    }
   ],
   "source": [
    "N = me.ReferenceFrame('N')\n",
    "\n",
    "p1 = 23*N.x - 12* N.y\n",
    "p2 = 16*N.x + 2*N.y - 4*N.z\n",
    "p3 = N.x + 14*N.z\n",
    "\n",
    "me.cross(p2 - p1, p3 - p1).magnitude() / 2"
   ]
  },
  {
   "cell_type": "code",
   "execution_count": 31,
   "id": "4dd749b1",
   "metadata": {
    "execution": {
     "iopub.execute_input": "2022-06-10T14:19:40.525971Z",
     "iopub.status.busy": "2022-06-10T14:19:40.525698Z",
     "iopub.status.idle": "2022-06-10T14:19:40.532713Z",
     "shell.execute_reply": "2022-06-10T14:19:40.532220Z"
    }
   },
   "outputs": [
    {
     "data": {
      "text/latex": [
       "$\\displaystyle a\\mathbf{\\hat{a}_x} + b\\mathbf{\\hat{n}_y}$"
      ],
      "text/plain": [
       "a a_x + b n_y"
      ]
     },
     "execution_count": 31,
     "metadata": {},
     "output_type": "execute_result"
    }
   ],
   "source": [
    "N = me.ReferenceFrame('N')\n",
    "A = me.ReferenceFrame('A')\n",
    "a, b, theta = sm.symbols('a, b, theta')\n",
    "\n",
    "v = a*A.x + b*N.y\n",
    "v"
   ]
  },
  {
   "cell_type": "code",
   "execution_count": 32,
   "id": "58349ee7",
   "metadata": {
    "execution": {
     "iopub.execute_input": "2022-06-10T14:19:40.535283Z",
     "iopub.status.busy": "2022-06-10T14:19:40.534870Z",
     "iopub.status.idle": "2022-06-10T14:19:40.540847Z",
     "shell.execute_reply": "2022-06-10T14:19:40.540369Z"
    }
   },
   "outputs": [
    {
     "data": {
      "text/latex": [
       "$\\displaystyle 2 a\\mathbf{\\hat{a}_x} + 2 b\\mathbf{\\hat{n}_y}$"
      ],
      "text/plain": [
       "2⋅a a_x + 2⋅b n_y"
      ]
     },
     "execution_count": 32,
     "metadata": {},
     "output_type": "execute_result"
    }
   ],
   "source": [
    "v + v"
   ]
  },
  {
   "cell_type": "code",
   "execution_count": 33,
   "id": "87f97877",
   "metadata": {
    "execution": {
     "iopub.execute_input": "2022-06-10T14:19:40.543211Z",
     "iopub.status.busy": "2022-06-10T14:19:40.542886Z",
     "iopub.status.idle": "2022-06-10T14:19:40.553546Z",
     "shell.execute_reply": "2022-06-10T14:19:40.553078Z"
    }
   },
   "outputs": [
    {
     "data": {
      "text/latex": [
       "$\\displaystyle a \\cos{\\left(\\theta \\right)}\\mathbf{\\hat{n}_x} + (a \\sin{\\left(\\theta \\right)} + b)\\mathbf{\\hat{n}_y}$"
      ],
      "text/plain": [
       "a⋅cos(θ) n_x + (a⋅sin(θ) + b) n_y"
      ]
     },
     "execution_count": 33,
     "metadata": {},
     "output_type": "execute_result"
    }
   ],
   "source": [
    "A.orient_axis(N, theta, N.z)\n",
    "\n",
    "v.express(N)"
   ]
  },
  {
   "cell_type": "code",
   "execution_count": 34,
   "id": "a1f33e9e",
   "metadata": {
    "execution": {
     "iopub.execute_input": "2022-06-10T14:19:40.555949Z",
     "iopub.status.busy": "2022-06-10T14:19:40.555611Z",
     "iopub.status.idle": "2022-06-10T14:19:40.562502Z",
     "shell.execute_reply": "2022-06-10T14:19:40.561997Z"
    }
   },
   "outputs": [
    {
     "data": {
      "text/latex": [
       "$\\displaystyle (a + b \\sin{\\left(\\theta \\right)})\\mathbf{\\hat{a}_x} + b \\cos{\\left(\\theta \\right)}\\mathbf{\\hat{a}_y}$"
      ],
      "text/plain": [
       "(a + b⋅sin(θ)) a_x + b⋅cos(θ) a_y"
      ]
     },
     "execution_count": 34,
     "metadata": {},
     "output_type": "execute_result"
    }
   ],
   "source": [
    "v.express(A)"
   ]
  },
  {
   "cell_type": "code",
   "execution_count": 35,
   "id": "a085470d",
   "metadata": {
    "execution": {
     "iopub.execute_input": "2022-06-10T14:19:40.565629Z",
     "iopub.status.busy": "2022-06-10T14:19:40.564603Z",
     "iopub.status.idle": "2022-06-10T14:19:40.570450Z",
     "shell.execute_reply": "2022-06-10T14:19:40.569953Z"
    }
   },
   "outputs": [],
   "source": [
    "q1, q2, q3, q4, q5 = sm.symbols('q1, q2, q3, q4, q5')\n",
    "l1, l2, l3, l4 = sm.symbols('l1, l2, l3, l4')\n",
    "N = me.ReferenceFrame('N')\n",
    "A = me.ReferenceFrame('A')\n",
    "B = me.ReferenceFrame('B')\n",
    "C = me.ReferenceFrame('C')"
   ]
  },
  {
   "cell_type": "code",
   "execution_count": 36,
   "id": "a7925327",
   "metadata": {
    "execution": {
     "iopub.execute_input": "2022-06-10T14:19:40.573461Z",
     "iopub.status.busy": "2022-06-10T14:19:40.572475Z",
     "iopub.status.idle": "2022-06-10T14:19:40.593008Z",
     "shell.execute_reply": "2022-06-10T14:19:40.592500Z"
    }
   },
   "outputs": [],
   "source": [
    "A.orient_body_fixed(N, (q1, q2, 0), 'ZXZ')"
   ]
  },
  {
   "cell_type": "code",
   "execution_count": 37,
   "id": "9748d072",
   "metadata": {
    "execution": {
     "iopub.execute_input": "2022-06-10T14:19:40.595548Z",
     "iopub.status.busy": "2022-06-10T14:19:40.595121Z",
     "iopub.status.idle": "2022-06-10T14:19:40.602112Z",
     "shell.execute_reply": "2022-06-10T14:19:40.601574Z"
    }
   },
   "outputs": [],
   "source": [
    "B.orient_axis(A, q3, A.x)"
   ]
  },
  {
   "cell_type": "code",
   "execution_count": 38,
   "id": "95413c3c",
   "metadata": {
    "execution": {
     "iopub.execute_input": "2022-06-10T14:19:40.604243Z",
     "iopub.status.busy": "2022-06-10T14:19:40.604039Z",
     "iopub.status.idle": "2022-06-10T14:19:40.625301Z",
     "shell.execute_reply": "2022-06-10T14:19:40.624791Z"
    }
   },
   "outputs": [],
   "source": [
    "C.orient_body_fixed(B, (q4, q5, 0), 'XZX')"
   ]
  },
  {
   "cell_type": "code",
   "execution_count": 39,
   "id": "63c4282c",
   "metadata": {
    "execution": {
     "iopub.execute_input": "2022-06-10T14:19:40.627740Z",
     "iopub.status.busy": "2022-06-10T14:19:40.627360Z",
     "iopub.status.idle": "2022-06-10T14:19:40.631848Z",
     "shell.execute_reply": "2022-06-10T14:19:40.631302Z"
    }
   },
   "outputs": [],
   "source": [
    "R_P1_P2 = l1*A.z\n",
    "R_P2_P3 = l2*B.z\n",
    "R_P3_P4 = l3*C.z - l4*C.y"
   ]
  },
  {
   "cell_type": "code",
   "execution_count": 40,
   "id": "28446801",
   "metadata": {
    "execution": {
     "iopub.execute_input": "2022-06-10T14:19:40.634386Z",
     "iopub.status.busy": "2022-06-10T14:19:40.633957Z",
     "iopub.status.idle": "2022-06-10T14:19:40.640871Z",
     "shell.execute_reply": "2022-06-10T14:19:40.640377Z"
    }
   },
   "outputs": [
    {
     "data": {
      "text/latex": [
       "$\\displaystyle l_{1}\\mathbf{\\hat{a}_z} + l_{2}\\mathbf{\\hat{b}_z} -  l_{4}\\mathbf{\\hat{c}_y} + l_{3}\\mathbf{\\hat{c}_z}$"
      ],
      "text/plain": [
       "l₁ a_z + l₂ b_z + -l₄ c_y + l₃ c_z"
      ]
     },
     "execution_count": 40,
     "metadata": {},
     "output_type": "execute_result"
    }
   ],
   "source": [
    "R_P1_P4 = R_P1_P2 + R_P2_P3 + R_P3_P4\n",
    "R_P1_P4"
   ]
  },
  {
   "cell_type": "code",
   "execution_count": 41,
   "id": "a685e6b1",
   "metadata": {
    "execution": {
     "iopub.execute_input": "2022-06-10T14:19:40.643047Z",
     "iopub.status.busy": "2022-06-10T14:19:40.642740Z",
     "iopub.status.idle": "2022-06-10T14:19:40.725749Z",
     "shell.execute_reply": "2022-06-10T14:19:40.725055Z"
    }
   },
   "outputs": [
    {
     "data": {
      "text/latex": [
       "$\\displaystyle (l_{1} \\sin{\\left(q_{1} \\right)} \\sin{\\left(q_{2} \\right)} + l_{2} \\left(\\sin{\\left(q_{1} \\right)} \\sin{\\left(q_{2} \\right)} \\cos{\\left(q_{3} \\right)} + \\sin{\\left(q_{1} \\right)} \\sin{\\left(q_{3} \\right)} \\cos{\\left(q_{2} \\right)}\\right) + l_{3} \\left(- \\left(\\sin{\\left(q_{1} \\right)} \\sin{\\left(q_{2} \\right)} \\sin{\\left(q_{3} \\right)} - \\sin{\\left(q_{1} \\right)} \\cos{\\left(q_{2} \\right)} \\cos{\\left(q_{3} \\right)}\\right) \\sin{\\left(q_{4} \\right)} + \\left(\\sin{\\left(q_{1} \\right)} \\sin{\\left(q_{2} \\right)} \\cos{\\left(q_{3} \\right)} + \\sin{\\left(q_{1} \\right)} \\sin{\\left(q_{3} \\right)} \\cos{\\left(q_{2} \\right)}\\right) \\cos{\\left(q_{4} \\right)}\\right) - l_{4} \\left(\\left(\\sin{\\left(q_{1} \\right)} \\sin{\\left(q_{2} \\right)} \\sin{\\left(q_{3} \\right)} - \\sin{\\left(q_{1} \\right)} \\cos{\\left(q_{2} \\right)} \\cos{\\left(q_{3} \\right)}\\right) \\cos{\\left(q_{4} \\right)} \\cos{\\left(q_{5} \\right)} + \\left(\\sin{\\left(q_{1} \\right)} \\sin{\\left(q_{2} \\right)} \\cos{\\left(q_{3} \\right)} + \\sin{\\left(q_{1} \\right)} \\sin{\\left(q_{3} \\right)} \\cos{\\left(q_{2} \\right)}\\right) \\sin{\\left(q_{4} \\right)} \\cos{\\left(q_{5} \\right)} - \\sin{\\left(q_{5} \\right)} \\cos{\\left(q_{1} \\right)}\\right))\\mathbf{\\hat{n}_x} + (- l_{1} \\sin{\\left(q_{2} \\right)} \\cos{\\left(q_{1} \\right)} + l_{2} \\left(- \\sin{\\left(q_{2} \\right)} \\cos{\\left(q_{1} \\right)} \\cos{\\left(q_{3} \\right)} - \\sin{\\left(q_{3} \\right)} \\cos{\\left(q_{1} \\right)} \\cos{\\left(q_{2} \\right)}\\right) + l_{3} \\left(- \\left(- \\sin{\\left(q_{2} \\right)} \\sin{\\left(q_{3} \\right)} \\cos{\\left(q_{1} \\right)} + \\cos{\\left(q_{1} \\right)} \\cos{\\left(q_{2} \\right)} \\cos{\\left(q_{3} \\right)}\\right) \\sin{\\left(q_{4} \\right)} + \\left(- \\sin{\\left(q_{2} \\right)} \\cos{\\left(q_{1} \\right)} \\cos{\\left(q_{3} \\right)} - \\sin{\\left(q_{3} \\right)} \\cos{\\left(q_{1} \\right)} \\cos{\\left(q_{2} \\right)}\\right) \\cos{\\left(q_{4} \\right)}\\right) - l_{4} \\left(\\left(- \\sin{\\left(q_{2} \\right)} \\sin{\\left(q_{3} \\right)} \\cos{\\left(q_{1} \\right)} + \\cos{\\left(q_{1} \\right)} \\cos{\\left(q_{2} \\right)} \\cos{\\left(q_{3} \\right)}\\right) \\cos{\\left(q_{4} \\right)} \\cos{\\left(q_{5} \\right)} + \\left(- \\sin{\\left(q_{2} \\right)} \\cos{\\left(q_{1} \\right)} \\cos{\\left(q_{3} \\right)} - \\sin{\\left(q_{3} \\right)} \\cos{\\left(q_{1} \\right)} \\cos{\\left(q_{2} \\right)}\\right) \\sin{\\left(q_{4} \\right)} \\cos{\\left(q_{5} \\right)} - \\sin{\\left(q_{1} \\right)} \\sin{\\left(q_{5} \\right)}\\right))\\mathbf{\\hat{n}_y} + (l_{1} \\cos{\\left(q_{2} \\right)} + l_{2} \\left(- \\sin{\\left(q_{2} \\right)} \\sin{\\left(q_{3} \\right)} + \\cos{\\left(q_{2} \\right)} \\cos{\\left(q_{3} \\right)}\\right) + l_{3} \\left(\\left(- \\sin{\\left(q_{2} \\right)} \\sin{\\left(q_{3} \\right)} + \\cos{\\left(q_{2} \\right)} \\cos{\\left(q_{3} \\right)}\\right) \\cos{\\left(q_{4} \\right)} - \\left(\\sin{\\left(q_{2} \\right)} \\cos{\\left(q_{3} \\right)} + \\sin{\\left(q_{3} \\right)} \\cos{\\left(q_{2} \\right)}\\right) \\sin{\\left(q_{4} \\right)}\\right) - l_{4} \\left(\\left(- \\sin{\\left(q_{2} \\right)} \\sin{\\left(q_{3} \\right)} + \\cos{\\left(q_{2} \\right)} \\cos{\\left(q_{3} \\right)}\\right) \\sin{\\left(q_{4} \\right)} \\cos{\\left(q_{5} \\right)} + \\left(\\sin{\\left(q_{2} \\right)} \\cos{\\left(q_{3} \\right)} + \\sin{\\left(q_{3} \\right)} \\cos{\\left(q_{2} \\right)}\\right) \\cos{\\left(q_{4} \\right)} \\cos{\\left(q_{5} \\right)}\\right))\\mathbf{\\hat{n}_z}$"
      ],
      "text/plain": [
       "(l₁⋅sin(q₁)⋅sin(q₂) + l₂⋅(sin(q₁)⋅sin(q₂)⋅cos(q₃) + sin(q₁)⋅sin(q₃)⋅cos(q₂)) +\n",
       " l₃⋅(-(sin(q₁)⋅sin(q₂)⋅sin(q₃) - sin(q₁)⋅cos(q₂)⋅cos(q₃))⋅sin(q₄) + (sin(q₁)⋅s\n",
       "in(q₂)⋅cos(q₃) + sin(q₁)⋅sin(q₃)⋅cos(q₂))⋅cos(q₄)) - l₄⋅((sin(q₁)⋅sin(q₂)⋅sin(\n",
       "q₃) - sin(q₁)⋅cos(q₂)⋅cos(q₃))⋅cos(q₄)⋅cos(q₅) + (sin(q₁)⋅sin(q₂)⋅cos(q₃) + si\n",
       "n(q₁)⋅sin(q₃)⋅cos(q₂))⋅sin(q₄)⋅cos(q₅) - sin(q₅)⋅cos(q₁))) n_x + (-l₁⋅sin(q₂)⋅\n",
       "cos(q₁) + l₂⋅(-sin(q₂)⋅cos(q₁)⋅cos(q₃) - sin(q₃)⋅cos(q₁)⋅cos(q₂)) + l₃⋅(-(-sin\n",
       "(q₂)⋅sin(q₃)⋅cos(q₁) + cos(q₁)⋅cos(q₂)⋅cos(q₃))⋅sin(q₄) + (-sin(q₂)⋅cos(q₁)⋅co\n",
       "s(q₃) - sin(q₃)⋅cos(q₁)⋅cos(q₂))⋅cos(q₄)) - l₄⋅((-sin(q₂)⋅sin(q₃)⋅cos(q₁) + co\n",
       "s(q₁)⋅cos(q₂)⋅cos(q₃))⋅cos(q₄)⋅cos(q₅) + (-sin(q₂)⋅cos(q₁)⋅cos(q₃) - sin(q₃)⋅c\n",
       "os(q₁)⋅cos(q₂))⋅sin(q₄)⋅cos(q₅) - sin(q₁)⋅sin(q₅))) n_y + (l₁⋅cos(q₂) + l₂⋅(-s\n",
       "in(q₂)⋅sin(q₃) + cos(q₂)⋅cos(q₃)) + l₃⋅((-sin(q₂)⋅sin(q₃) + cos(q₂)⋅cos(q₃))⋅c\n",
       "os(q₄) - (sin(q₂)⋅cos(q₃) + sin(q₃)⋅cos(q₂))⋅sin(q₄)) - l₄⋅((-sin(q₂)⋅sin(q₃)\n",
       "+ cos(q₂)⋅cos(q₃))⋅sin(q₄)⋅cos(q₅) + (sin(q₂)⋅cos(q₃) + sin(q₃)⋅cos(q₂))⋅cos(q\n",
       "₄)⋅cos(q₅))) n_z"
      ]
     },
     "execution_count": 41,
     "metadata": {},
     "output_type": "execute_result"
    }
   ],
   "source": [
    "R_P1_P4.express(N)"
   ]
  },
  {
   "cell_type": "code",
   "execution_count": 42,
   "id": "349800ee",
   "metadata": {
    "execution": {
     "iopub.execute_input": "2022-06-10T14:19:40.729055Z",
     "iopub.status.busy": "2022-06-10T14:19:40.728682Z",
     "iopub.status.idle": "2022-06-10T14:19:40.736988Z",
     "shell.execute_reply": "2022-06-10T14:19:40.736490Z"
    }
   },
   "outputs": [
    {
     "data": {
      "text/latex": [
       "$\\displaystyle l_{1} \\sin{\\left(q_{1} \\right)} \\sin{\\left(q_{2} \\right)}\\mathbf{\\hat{n}_x} -  l_{1} \\sin{\\left(q_{2} \\right)} \\cos{\\left(q_{1} \\right)}\\mathbf{\\hat{n}_y} + l_{1} \\cos{\\left(q_{2} \\right)}\\mathbf{\\hat{n}_z}$"
      ],
      "text/plain": [
       "l₁⋅sin(q₁)⋅sin(q₂) n_x + -l₁⋅sin(q₂)⋅cos(q₁) n_y + l₁⋅cos(q₂) n_z"
      ]
     },
     "execution_count": 42,
     "metadata": {},
     "output_type": "execute_result"
    }
   ],
   "source": [
    "R_P1_P2.express(N)"
   ]
  },
  {
   "cell_type": "code",
   "execution_count": 43,
   "id": "c833a1c7",
   "metadata": {
    "execution": {
     "iopub.execute_input": "2022-06-10T14:19:40.739867Z",
     "iopub.status.busy": "2022-06-10T14:19:40.739428Z",
     "iopub.status.idle": "2022-06-10T14:19:40.746605Z",
     "shell.execute_reply": "2022-06-10T14:19:40.746099Z"
    }
   },
   "outputs": [
    {
     "data": {
      "text/latex": [
       "$\\displaystyle \\left\\{l_{1}, q_{1}, q_{2}\\right\\}$"
      ],
      "text/plain": [
       "{l₁, q₁, q₂}"
      ]
     },
     "execution_count": 43,
     "metadata": {},
     "output_type": "execute_result"
    }
   ],
   "source": [
    "R_P1_P2.free_symbols(N)"
   ]
  },
  {
   "cell_type": "code",
   "execution_count": 44,
   "id": "837a6b0b",
   "metadata": {
    "execution": {
     "iopub.execute_input": "2022-06-10T14:19:40.749355Z",
     "iopub.status.busy": "2022-06-10T14:19:40.749030Z",
     "iopub.status.idle": "2022-06-10T14:19:40.755613Z",
     "shell.execute_reply": "2022-06-10T14:19:40.755079Z"
    }
   },
   "outputs": [
    {
     "data": {
      "text/latex": [
       "$\\displaystyle \\left\\{l_{1}\\right\\}$"
      ],
      "text/plain": [
       "{l₁}"
      ]
     },
     "execution_count": 44,
     "metadata": {},
     "output_type": "execute_result"
    }
   ],
   "source": [
    "R_P1_P2.free_symbols(A)"
   ]
  },
  {
   "cell_type": "code",
   "execution_count": 45,
   "id": "23041037",
   "metadata": {
    "execution": {
     "iopub.execute_input": "2022-06-10T14:19:40.758406Z",
     "iopub.status.busy": "2022-06-10T14:19:40.757934Z",
     "iopub.status.idle": "2022-06-10T14:19:40.770373Z",
     "shell.execute_reply": "2022-06-10T14:19:40.769870Z"
    }
   },
   "outputs": [
    {
     "data": {
      "text/latex": [
       "$\\displaystyle \\left\\{l_{1}, l_{2}, l_{3}, l_{4}, q_{1}, q_{2}, q_{3}, q_{4}, q_{5}\\right\\}$"
      ],
      "text/plain": [
       "{l₁, l₂, l₃, l₄, q₁, q₂, q₃, q₄, q₅}"
      ]
     },
     "execution_count": 45,
     "metadata": {},
     "output_type": "execute_result"
    }
   ],
   "source": [
    "R_P1_P4.free_symbols(N)"
   ]
  }
 ],
 "metadata": {
  "kernelspec": {
   "display_name": "Python 3 (ipykernel)",
   "language": "python",
   "name": "python3"
  },
  "language_info": {
   "codemirror_mode": {
    "name": "ipython",
    "version": 3
   },
   "file_extension": ".py",
   "mimetype": "text/x-python",
   "name": "python",
   "nbconvert_exporter": "python",
   "pygments_lexer": "ipython3",
   "version": "3.9.13"
  }
 },
 "nbformat": 4,
 "nbformat_minor": 5
}