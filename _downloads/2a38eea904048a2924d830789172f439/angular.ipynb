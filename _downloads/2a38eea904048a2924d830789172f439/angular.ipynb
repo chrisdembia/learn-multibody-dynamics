{
 "cells": [
  {
   "cell_type": "code",
   "execution_count": 1,
   "id": "518b0ede",
   "metadata": {
    "execution": {
     "iopub.execute_input": "2022-06-10T14:15:01.953076Z",
     "iopub.status.busy": "2022-06-10T14:15:01.952676Z",
     "iopub.status.idle": "2022-06-10T14:15:02.393708Z",
     "shell.execute_reply": "2022-06-10T14:15:02.393042Z"
    }
   },
   "outputs": [],
   "source": [
    "import sympy as sm\n",
    "import sympy.physics.mechanics as me\n",
    "me.init_vprinting(use_latex='mathjax')"
   ]
  },
  {
   "cell_type": "code",
   "execution_count": 2,
   "id": "04fd79d9",
   "metadata": {
    "execution": {
     "iopub.execute_input": "2022-06-10T14:15:02.397385Z",
     "iopub.status.busy": "2022-06-10T14:15:02.397100Z",
     "iopub.status.idle": "2022-06-10T14:15:02.403605Z",
     "shell.execute_reply": "2022-06-10T14:15:02.403093Z"
    }
   },
   "outputs": [],
   "source": [
    "cxx, cyy, czz = me.dynamicsymbols('c_{xx}, c_{yy}, c_{zz}')\n",
    "cxy, cxz, cyx = me.dynamicsymbols('c_{xy}, c_{xz}, c_{yx}')\n",
    "cyz, czx, czy = me.dynamicsymbols('c_{yz}, c_{zx}, c_{zy}')\n",
    "\n",
    "B_C_A = sm.Matrix([[cxx, cxy, cxz],\n",
    "                   [cyx, cyy, cyz],\n",
    "                   [czx, czy, czz]])"
   ]
  },
  {
   "cell_type": "code",
   "execution_count": 3,
   "id": "773f73a6",
   "metadata": {
    "execution": {
     "iopub.execute_input": "2022-06-10T14:15:02.405796Z",
     "iopub.status.busy": "2022-06-10T14:15:02.405616Z",
     "iopub.status.idle": "2022-06-10T14:15:02.433036Z",
     "shell.execute_reply": "2022-06-10T14:15:02.432378Z"
    }
   },
   "outputs": [
    {
     "data": {
      "text/latex": [
       "$\\displaystyle \\left[\\begin{matrix}c_{xx} & c_{xy} & c_{xz}\\\\c_{yx} & c_{yy} & c_{yz}\\\\c_{zx} & c_{zy} & c_{zz}\\end{matrix}\\right]$"
      ],
      "text/plain": [
       "⎡c_{xx}  c_{xy}  c_{xz}⎤\n",
       "⎢                      ⎥\n",
       "⎢c_{yx}  c_{yy}  c_{yz}⎥\n",
       "⎢                      ⎥\n",
       "⎣c_{zx}  c_{zy}  c_{zz}⎦"
      ]
     },
     "execution_count": 3,
     "metadata": {},
     "output_type": "execute_result"
    }
   ],
   "source": [
    "A = me.ReferenceFrame('A')\n",
    "B = me.ReferenceFrame('B')\n",
    "B.orient_explicit(A, B_C_A.transpose())\n",
    "B.dcm(A)"
   ]
  },
  {
   "cell_type": "code",
   "execution_count": 4,
   "id": "174f6af4",
   "metadata": {
    "execution": {
     "iopub.execute_input": "2022-06-10T14:15:02.435586Z",
     "iopub.status.busy": "2022-06-10T14:15:02.435405Z",
     "iopub.status.idle": "2022-06-10T14:15:02.440109Z",
     "shell.execute_reply": "2022-06-10T14:15:02.439615Z"
    }
   },
   "outputs": [
    {
     "data": {
      "text/latex": [
       "$\\displaystyle c_{xx}\\mathbf{\\hat{a}_x} + c_{xy}\\mathbf{\\hat{a}_y} + c_{xz}\\mathbf{\\hat{a}_z}$"
      ],
      "text/plain": [
       "c_{xx} a_x + c_{xy} a_y + c_{xz} a_z"
      ]
     },
     "execution_count": 4,
     "metadata": {},
     "output_type": "execute_result"
    }
   ],
   "source": [
    "B.x.express(A)"
   ]
  },
  {
   "cell_type": "code",
   "execution_count": 5,
   "id": "63ba1bd9",
   "metadata": {
    "execution": {
     "iopub.execute_input": "2022-06-10T14:15:02.442889Z",
     "iopub.status.busy": "2022-06-10T14:15:02.442717Z",
     "iopub.status.idle": "2022-06-10T14:15:02.446943Z",
     "shell.execute_reply": "2022-06-10T14:15:02.446410Z"
    }
   },
   "outputs": [
    {
     "data": {
      "text/latex": [
       "$\\displaystyle c_{yx}\\mathbf{\\hat{a}_x} + c_{yy}\\mathbf{\\hat{a}_y} + c_{yz}\\mathbf{\\hat{a}_z}$"
      ],
      "text/plain": [
       "c_{yx} a_x + c_{yy} a_y + c_{yz} a_z"
      ]
     },
     "execution_count": 5,
     "metadata": {},
     "output_type": "execute_result"
    }
   ],
   "source": [
    "B.y.express(A)"
   ]
  },
  {
   "cell_type": "code",
   "execution_count": 6,
   "id": "555ca6a6",
   "metadata": {
    "execution": {
     "iopub.execute_input": "2022-06-10T14:15:02.449607Z",
     "iopub.status.busy": "2022-06-10T14:15:02.449173Z",
     "iopub.status.idle": "2022-06-10T14:15:02.453625Z",
     "shell.execute_reply": "2022-06-10T14:15:02.453124Z"
    }
   },
   "outputs": [
    {
     "data": {
      "text/latex": [
       "$\\displaystyle c_{zx}\\mathbf{\\hat{a}_x} + c_{zy}\\mathbf{\\hat{a}_y} + c_{zz}\\mathbf{\\hat{a}_z}$"
      ],
      "text/plain": [
       "c_{zx} a_x + c_{zy} a_y + c_{zz} a_z"
      ]
     },
     "execution_count": 6,
     "metadata": {},
     "output_type": "execute_result"
    }
   ],
   "source": [
    "B.z.express(A)"
   ]
  },
  {
   "cell_type": "code",
   "execution_count": 7,
   "id": "e370b08b",
   "metadata": {
    "execution": {
     "iopub.execute_input": "2022-06-10T14:15:02.456178Z",
     "iopub.status.busy": "2022-06-10T14:15:02.455734Z",
     "iopub.status.idle": "2022-06-10T14:15:02.462190Z",
     "shell.execute_reply": "2022-06-10T14:15:02.461687Z"
    }
   },
   "outputs": [
    {
     "data": {
      "text/latex": [
       "$\\displaystyle \\dot{c}_{yx}\\mathbf{\\hat{a}_x} + \\dot{c}_{yy}\\mathbf{\\hat{a}_y} + \\dot{c}_{yz}\\mathbf{\\hat{a}_z}$"
      ],
      "text/plain": [
       "c_{ẏx} a_x + c_{ẏy} a_y + c_{ẏz} a_z"
      ]
     },
     "execution_count": 7,
     "metadata": {},
     "output_type": "execute_result"
    }
   ],
   "source": [
    "B.y.express(A).dt(A)"
   ]
  },
  {
   "cell_type": "code",
   "execution_count": 8,
   "id": "4c8f82be",
   "metadata": {
    "execution": {
     "iopub.execute_input": "2022-06-10T14:15:02.464709Z",
     "iopub.status.busy": "2022-06-10T14:15:02.464278Z",
     "iopub.status.idle": "2022-06-10T14:15:02.473121Z",
     "shell.execute_reply": "2022-06-10T14:15:02.472613Z"
    }
   },
   "outputs": [
    {
     "data": {
      "text/latex": [
       "$\\displaystyle c_{zx} \\dot{c}_{yx} + c_{zy} \\dot{c}_{yy} + c_{zz} \\dot{c}_{yz}$"
      ],
      "text/plain": [
       "c_{zx}⋅c_{ẏx} + c_{zy}⋅c_{ẏy} + c_{zz}⋅c_{ẏz}"
      ]
     },
     "execution_count": 8,
     "metadata": {},
     "output_type": "execute_result"
    }
   ],
   "source": [
    "mnx = me.dot(B.y.express(A).dt(A), B.z)\n",
    "mnx"
   ]
  },
  {
   "cell_type": "code",
   "execution_count": 9,
   "id": "200d3109",
   "metadata": {
    "execution": {
     "iopub.execute_input": "2022-06-10T14:15:02.475284Z",
     "iopub.status.busy": "2022-06-10T14:15:02.474852Z",
     "iopub.status.idle": "2022-06-10T14:15:02.483390Z",
     "shell.execute_reply": "2022-06-10T14:15:02.482895Z"
    }
   },
   "outputs": [
    {
     "data": {
      "text/latex": [
       "$\\displaystyle c_{xx} \\dot{c}_{zx} + c_{xy} \\dot{c}_{zy} + c_{xz} \\dot{c}_{zz}$"
      ],
      "text/plain": [
       "c_{xx}⋅c_{żx} + c_{xy}⋅c_{ży} + c_{xz}⋅c_{żz}"
      ]
     },
     "execution_count": 9,
     "metadata": {},
     "output_type": "execute_result"
    }
   ],
   "source": [
    "mny = me.dot(B.z.express(A).dt(A), B.x)\n",
    "mny"
   ]
  },
  {
   "cell_type": "code",
   "execution_count": 10,
   "id": "5678c84e",
   "metadata": {
    "execution": {
     "iopub.execute_input": "2022-06-10T14:15:02.485727Z",
     "iopub.status.busy": "2022-06-10T14:15:02.485284Z",
     "iopub.status.idle": "2022-06-10T14:15:02.493683Z",
     "shell.execute_reply": "2022-06-10T14:15:02.493189Z"
    }
   },
   "outputs": [
    {
     "data": {
      "text/latex": [
       "$\\displaystyle c_{yx} \\dot{c}_{xx} + c_{yy} \\dot{c}_{xy} + c_{yz} \\dot{c}_{xz}$"
      ],
      "text/plain": [
       "c_{yx}⋅c_{ẋx} + c_{yy}⋅c_{ẋy} + c_{yz}⋅c_{ẋz}"
      ]
     },
     "execution_count": 10,
     "metadata": {},
     "output_type": "execute_result"
    }
   ],
   "source": [
    "mnz = me.dot(B.x.express(A).dt(A), B.y)\n",
    "mnz"
   ]
  },
  {
   "cell_type": "code",
   "execution_count": 11,
   "id": "aae59ff4",
   "metadata": {
    "execution": {
     "iopub.execute_input": "2022-06-10T14:15:02.495931Z",
     "iopub.status.busy": "2022-06-10T14:15:02.495503Z",
     "iopub.status.idle": "2022-06-10T14:15:02.506378Z",
     "shell.execute_reply": "2022-06-10T14:15:02.505862Z"
    }
   },
   "outputs": [
    {
     "data": {
      "text/latex": [
       "$\\displaystyle (c_{zx} \\dot{c}_{yx} + c_{zy} \\dot{c}_{yy} + c_{zz} \\dot{c}_{yz})\\mathbf{\\hat{b}_x} + (c_{xx} \\dot{c}_{zx} + c_{xy} \\dot{c}_{zy} + c_{xz} \\dot{c}_{zz})\\mathbf{\\hat{b}_y} + (c_{yx} \\dot{c}_{xx} + c_{yy} \\dot{c}_{xy} + c_{yz} \\dot{c}_{xz})\\mathbf{\\hat{b}_z}$"
      ],
      "text/plain": [
       "(c_{zx}⋅c_{ẏx} + c_{zy}⋅c_{ẏy} + c_{zz}⋅c_{ẏz}) b_x + (c_{xx}⋅c_{żx} + c_{\n",
       "xy}⋅c_{ży} + c_{xz}⋅c_{żz}) b_y + (c_{yx}⋅c_{ẋx} + c_{yy}⋅c_{ẋy} + c_{yz}⋅\n",
       "c_{ẋz}) b_z"
      ]
     },
     "execution_count": 11,
     "metadata": {},
     "output_type": "execute_result"
    }
   ],
   "source": [
    "A_w_B = mnx*B.x + mny*B.y + mnz*B.z\n",
    "A_w_B"
   ]
  },
  {
   "cell_type": "code",
   "execution_count": 12,
   "id": "3ca230fc",
   "metadata": {
    "execution": {
     "iopub.execute_input": "2022-06-10T14:15:02.508728Z",
     "iopub.status.busy": "2022-06-10T14:15:02.508306Z",
     "iopub.status.idle": "2022-06-10T14:15:02.515431Z",
     "shell.execute_reply": "2022-06-10T14:15:02.514912Z"
    }
   },
   "outputs": [
    {
     "data": {
      "text/latex": [
       "$\\displaystyle \\left[\\begin{matrix}\\cos{\\left(\\theta \\right)} & \\sin{\\left(\\theta \\right)} & 0\\\\- \\sin{\\left(\\theta \\right)} & \\cos{\\left(\\theta \\right)} & 0\\\\0 & 0 & 1\\end{matrix}\\right]$"
      ],
      "text/plain": [
       "⎡cos(θ)   sin(θ)  0⎤\n",
       "⎢                  ⎥\n",
       "⎢-sin(θ)  cos(θ)  0⎥\n",
       "⎢                  ⎥\n",
       "⎣   0       0     1⎦"
      ]
     },
     "execution_count": 12,
     "metadata": {},
     "output_type": "execute_result"
    }
   ],
   "source": [
    "theta = me.dynamicsymbols('theta')\n",
    "\n",
    "B_C_A = sm.Matrix([[sm.cos(theta), sm.sin(theta), 0],\n",
    "                   [-sm.sin(theta), sm.cos(theta), 0],\n",
    "                   [0, 0, 1]])\n",
    "B_C_A"
   ]
  },
  {
   "cell_type": "code",
   "execution_count": 13,
   "id": "cc979abd",
   "metadata": {
    "execution": {
     "iopub.execute_input": "2022-06-10T14:15:02.518080Z",
     "iopub.status.busy": "2022-06-10T14:15:02.517643Z",
     "iopub.status.idle": "2022-06-10T14:15:02.600432Z",
     "shell.execute_reply": "2022-06-10T14:15:02.599742Z"
    }
   },
   "outputs": [
    {
     "data": {
      "text/latex": [
       "$\\displaystyle \\dot{\\theta}\\mathbf{\\hat{b}_z}$"
      ],
      "text/plain": [
       "θ̇ b_z"
      ]
     },
     "execution_count": 13,
     "metadata": {},
     "output_type": "execute_result"
    }
   ],
   "source": [
    "A = me.ReferenceFrame('A')\n",
    "B = me.ReferenceFrame('B')\n",
    "A.orient_explicit(B, B_C_A)\n",
    "\n",
    "mnx = me.dot(B.y.express(A).dt(A), B.z)\n",
    "mny = me.dot(B.z.express(A).dt(A), B.x)\n",
    "mnz = me.dot(B.x.express(A).dt(A), B.y)\n",
    "\n",
    "A_w_B = mnx*B.x + mny*B.y + mnz*B.z\n",
    "A_w_B.simplify()"
   ]
  },
  {
   "cell_type": "code",
   "execution_count": 14,
   "id": "a4bd7b12",
   "metadata": {
    "execution": {
     "iopub.execute_input": "2022-06-10T14:15:02.603048Z",
     "iopub.status.busy": "2022-06-10T14:15:02.602734Z",
     "iopub.status.idle": "2022-06-10T14:15:02.610943Z",
     "shell.execute_reply": "2022-06-10T14:15:02.610441Z"
    }
   },
   "outputs": [
    {
     "data": {
      "text/latex": [
       "$\\displaystyle \\dot{\\theta}\\mathbf{\\hat{a}_z}$"
      ],
      "text/plain": [
       "θ̇ a_z"
      ]
     },
     "execution_count": 14,
     "metadata": {},
     "output_type": "execute_result"
    }
   ],
   "source": [
    "A = me.ReferenceFrame('A')\n",
    "B = me.ReferenceFrame('B')\n",
    "B.orient_axis(A, theta, A.z)\n",
    "B.ang_vel_in(A)"
   ]
  },
  {
   "cell_type": "code",
   "execution_count": 15,
   "id": "61921c54",
   "metadata": {
    "execution": {
     "iopub.execute_input": "2022-06-10T14:15:02.613579Z",
     "iopub.status.busy": "2022-06-10T14:15:02.613400Z",
     "iopub.status.idle": "2022-06-10T14:15:02.623197Z",
     "shell.execute_reply": "2022-06-10T14:15:02.622679Z"
    }
   },
   "outputs": [
    {
     "data": {
      "text/latex": [
       "$\\displaystyle \\frac{\\sqrt{2} \\dot{\\theta}}{2}\\mathbf{\\hat{a}_x} + \\frac{\\sqrt{2} \\dot{\\theta}}{2}\\mathbf{\\hat{a}_y}$"
      ],
      "text/plain": [
       "√2⋅θ̇       √2⋅θ̇\n",
       "──── a_x + ──── a_y\n",
       " 2          2"
      ]
     },
     "execution_count": 15,
     "metadata": {},
     "output_type": "execute_result"
    }
   ],
   "source": [
    "theta = me.dynamicsymbols('theta')\n",
    "\n",
    "A = me.ReferenceFrame('A')\n",
    "B = me.ReferenceFrame('B')\n",
    "B.orient_axis(A, theta, A.x + A.y)\n",
    "B.ang_vel_in(A)"
   ]
  },
  {
   "cell_type": "code",
   "execution_count": 16,
   "id": "b350f70f",
   "metadata": {
    "execution": {
     "iopub.execute_input": "2022-06-10T14:15:02.625823Z",
     "iopub.status.busy": "2022-06-10T14:15:02.625647Z",
     "iopub.status.idle": "2022-06-10T14:15:02.640065Z",
     "shell.execute_reply": "2022-06-10T14:15:02.639549Z"
    }
   },
   "outputs": [
    {
     "data": {
      "text/latex": [
       "$\\displaystyle \\sqrt{\\dot{\\theta}^{2}}$"
      ],
      "text/plain": [
       "   ____\n",
       "  ╱  2 \n",
       "╲╱ θ̇  "
      ]
     },
     "execution_count": 16,
     "metadata": {},
     "output_type": "execute_result"
    }
   ],
   "source": [
    "B.ang_vel_in(A).magnitude()"
   ]
  },
  {
   "cell_type": "code",
   "execution_count": 17,
   "id": "0b9752eb",
   "metadata": {
    "execution": {
     "iopub.execute_input": "2022-06-10T14:15:02.642656Z",
     "iopub.status.busy": "2022-06-10T14:15:02.642145Z",
     "iopub.status.idle": "2022-06-10T14:15:05.765117Z",
     "shell.execute_reply": "2022-06-10T14:15:05.764351Z"
    }
   },
   "outputs": [
    {
     "data": {
      "text/latex": [
       "$\\displaystyle (\\sin{\\left(\\theta \\right)} \\sin{\\left(\\varphi \\right)} \\dot{\\psi} + \\cos{\\left(\\varphi \\right)} \\dot{\\theta})\\mathbf{\\hat{b}_x} + (\\sin{\\left(\\theta \\right)} \\cos{\\left(\\varphi \\right)} \\dot{\\psi} - \\sin{\\left(\\varphi \\right)} \\dot{\\theta})\\mathbf{\\hat{b}_y} + (\\cos{\\left(\\theta \\right)} \\dot{\\psi} + \\dot{\\varphi})\\mathbf{\\hat{b}_z}$"
      ],
      "text/plain": [
       "(sin(θ)⋅sin(varphi)⋅ψ̇ + cos(varphi)⋅θ̇) b_x + (sin(θ)⋅cos(varphi)⋅ψ̇ - sin(va\n",
       "rphi)⋅θ̇) b_y + (cos(θ)⋅ψ̇ + varṗhi) b_z"
      ]
     },
     "execution_count": 17,
     "metadata": {},
     "output_type": "execute_result"
    }
   ],
   "source": [
    "psi, theta, phi = me.dynamicsymbols('psi, theta, varphi')\n",
    "\n",
    "A = me.ReferenceFrame('A')\n",
    "B = me.ReferenceFrame('B')\n",
    "B.orient_body_fixed(A, (psi, theta, phi), 'ZXZ')\n",
    "\n",
    "mnx = me.dot(B.y.express(A).dt(A), B.z)\n",
    "mny = me.dot(B.z.express(A).dt(A), B.x)\n",
    "mnz = me.dot(B.x.express(A).dt(A), B.y)\n",
    "\n",
    "A_w_B = mnx*B.x + mny*B.y + mnz*B.z\n",
    "A_w_B.simplify()"
   ]
  },
  {
   "cell_type": "code",
   "execution_count": 18,
   "id": "1d918cbf",
   "metadata": {
    "execution": {
     "iopub.execute_input": "2022-06-10T14:15:05.768006Z",
     "iopub.status.busy": "2022-06-10T14:15:05.767436Z",
     "iopub.status.idle": "2022-06-10T14:15:06.038935Z",
     "shell.execute_reply": "2022-06-10T14:15:06.038314Z"
    }
   },
   "outputs": [
    {
     "data": {
      "text/latex": [
       "$\\displaystyle (\\sin{\\left(\\theta \\right)} \\sin{\\left(\\varphi \\right)} \\dot{\\psi} + \\cos{\\left(\\varphi \\right)} \\dot{\\theta})\\mathbf{\\hat{b}_x} + (\\sin{\\left(\\theta \\right)} \\cos{\\left(\\varphi \\right)} \\dot{\\psi} - \\sin{\\left(\\varphi \\right)} \\dot{\\theta})\\mathbf{\\hat{b}_y} + (\\cos{\\left(\\theta \\right)} \\dot{\\psi} + \\dot{\\varphi})\\mathbf{\\hat{b}_z}$"
      ],
      "text/plain": [
       "(sin(θ)⋅sin(varphi)⋅ψ̇ + cos(varphi)⋅θ̇) b_x + (sin(θ)⋅cos(varphi)⋅ψ̇ - sin(va\n",
       "rphi)⋅θ̇) b_y + (cos(θ)⋅ψ̇ + varṗhi) b_z"
      ]
     },
     "execution_count": 18,
     "metadata": {},
     "output_type": "execute_result"
    }
   ],
   "source": [
    "B.ang_vel_in(A).simplify()"
   ]
  },
  {
   "cell_type": "code",
   "execution_count": 19,
   "id": "dd1cf56a",
   "metadata": {
    "execution": {
     "iopub.execute_input": "2022-06-10T14:15:06.042047Z",
     "iopub.status.busy": "2022-06-10T14:15:06.041654Z",
     "iopub.status.idle": "2022-06-10T14:15:06.073958Z",
     "shell.execute_reply": "2022-06-10T14:15:06.073404Z"
    }
   },
   "outputs": [
    {
     "data": {
      "text/latex": [
       "$\\displaystyle u_{1}\\mathbf{\\hat{b}_x} + u_{2}\\mathbf{\\hat{b}_y} + u_{3}\\mathbf{\\hat{b}_z}$"
      ],
      "text/plain": [
       "u₁ b_x + u₂ b_y + u₃ b_z"
      ]
     },
     "execution_count": 19,
     "metadata": {},
     "output_type": "execute_result"
    }
   ],
   "source": [
    "A = me.ReferenceFrame('A')\n",
    "B = me.ReferenceFrame('B')\n",
    "B.orient_body_fixed(A, (psi, theta, 0), 'ZXZ')\n",
    "\n",
    "u1, u2, u3 = me.dynamicsymbols('u1, u2, u3')\n",
    "\n",
    "u = u1*B.x + u2*B.y + u3*B.z\n",
    "u"
   ]
  },
  {
   "cell_type": "code",
   "execution_count": 20,
   "id": "b8ecffdc",
   "metadata": {
    "execution": {
     "iopub.execute_input": "2022-06-10T14:15:06.076889Z",
     "iopub.status.busy": "2022-06-10T14:15:06.076649Z",
     "iopub.status.idle": "2022-06-10T14:15:06.090489Z",
     "shell.execute_reply": "2022-06-10T14:15:06.090027Z"
    }
   },
   "outputs": [
    {
     "data": {
      "text/latex": [
       "$\\displaystyle (u_{1} \\cos{\\left(\\psi \\right)} - u_{2} \\sin{\\left(\\psi \\right)} \\cos{\\left(\\theta \\right)} + u_{3} \\sin{\\left(\\psi \\right)} \\sin{\\left(\\theta \\right)})\\mathbf{\\hat{a}_x} + (u_{1} \\sin{\\left(\\psi \\right)} + u_{2} \\cos{\\left(\\psi \\right)} \\cos{\\left(\\theta \\right)} - u_{3} \\sin{\\left(\\theta \\right)} \\cos{\\left(\\psi \\right)})\\mathbf{\\hat{a}_y} + (u_{2} \\sin{\\left(\\theta \\right)} + u_{3} \\cos{\\left(\\theta \\right)})\\mathbf{\\hat{a}_z}$"
      ],
      "text/plain": [
       "(u₁⋅cos(ψ) - u₂⋅sin(ψ)⋅cos(θ) + u₃⋅sin(ψ)⋅sin(θ)) a_x + (u₁⋅sin(ψ) + u₂⋅cos(ψ)\n",
       "⋅cos(θ) - u₃⋅sin(θ)⋅cos(ψ)) a_y + (u₂⋅sin(θ) + u₃⋅cos(θ)) a_z"
      ]
     },
     "execution_count": 20,
     "metadata": {},
     "output_type": "execute_result"
    }
   ],
   "source": [
    "u.express(A)"
   ]
  },
  {
   "cell_type": "code",
   "execution_count": 21,
   "id": "e0fcb569",
   "metadata": {
    "execution": {
     "iopub.execute_input": "2022-06-10T14:15:06.092967Z",
     "iopub.status.busy": "2022-06-10T14:15:06.092561Z",
     "iopub.status.idle": "2022-06-10T14:15:06.149784Z",
     "shell.execute_reply": "2022-06-10T14:15:06.149279Z"
    }
   },
   "outputs": [
    {
     "data": {
      "text/latex": [
       "$\\displaystyle (- u_{1} \\sin{\\left(\\psi \\right)} \\dot{\\psi} + u_{2} \\sin{\\left(\\psi \\right)} \\sin{\\left(\\theta \\right)} \\dot{\\theta} - u_{2} \\cos{\\left(\\psi \\right)} \\cos{\\left(\\theta \\right)} \\dot{\\psi} + u_{3} \\sin{\\left(\\psi \\right)} \\cos{\\left(\\theta \\right)} \\dot{\\theta} + u_{3} \\sin{\\left(\\theta \\right)} \\cos{\\left(\\psi \\right)} \\dot{\\psi} + \\sin{\\left(\\psi \\right)} \\sin{\\left(\\theta \\right)} \\dot{u}_{3} - \\sin{\\left(\\psi \\right)} \\cos{\\left(\\theta \\right)} \\dot{u}_{2} + \\cos{\\left(\\psi \\right)} \\dot{u}_{1})\\mathbf{\\hat{a}_x} + (u_{1} \\cos{\\left(\\psi \\right)} \\dot{\\psi} - u_{2} \\sin{\\left(\\psi \\right)} \\cos{\\left(\\theta \\right)} \\dot{\\psi} - u_{2} \\sin{\\left(\\theta \\right)} \\cos{\\left(\\psi \\right)} \\dot{\\theta} + u_{3} \\sin{\\left(\\psi \\right)} \\sin{\\left(\\theta \\right)} \\dot{\\psi} - u_{3} \\cos{\\left(\\psi \\right)} \\cos{\\left(\\theta \\right)} \\dot{\\theta} + \\sin{\\left(\\psi \\right)} \\dot{u}_{1} - \\sin{\\left(\\theta \\right)} \\cos{\\left(\\psi \\right)} \\dot{u}_{3} + \\cos{\\left(\\psi \\right)} \\cos{\\left(\\theta \\right)} \\dot{u}_{2})\\mathbf{\\hat{a}_y} + (u_{2} \\cos{\\left(\\theta \\right)} \\dot{\\theta} - u_{3} \\sin{\\left(\\theta \\right)} \\dot{\\theta} + \\sin{\\left(\\theta \\right)} \\dot{u}_{2} + \\cos{\\left(\\theta \\right)} \\dot{u}_{3})\\mathbf{\\hat{a}_z}$"
      ],
      "text/plain": [
       "(-u₁⋅sin(ψ)⋅ψ̇ + u₂⋅sin(ψ)⋅sin(θ)⋅θ̇ - u₂⋅cos(ψ)⋅cos(θ)⋅ψ̇ + u₃⋅sin(ψ)⋅cos(θ)⋅\n",
       "θ̇ + u₃⋅sin(θ)⋅cos(ψ)⋅ψ̇ + sin(ψ)⋅sin(θ)⋅u₃̇ - sin(ψ)⋅cos(θ)⋅u₂̇ + cos(ψ)⋅u₁̇)\n",
       " a_x + (u₁⋅cos(ψ)⋅ψ̇ - u₂⋅sin(ψ)⋅cos(θ)⋅ψ̇ - u₂⋅sin(θ)⋅cos(ψ)⋅θ̇ + u₃⋅sin(ψ)⋅s\n",
       "in(θ)⋅ψ̇ - u₃⋅cos(ψ)⋅cos(θ)⋅θ̇ + sin(ψ)⋅u₁̇ - sin(θ)⋅cos(ψ)⋅u₃̇ + cos(ψ)⋅cos(θ\n",
       ")⋅u₂̇) a_y + (u₂⋅cos(θ)⋅θ̇ - u₃⋅sin(θ)⋅θ̇ + sin(θ)⋅u₂̇ + cos(θ)⋅u₃̇) a_z"
      ]
     },
     "execution_count": 21,
     "metadata": {},
     "output_type": "execute_result"
    }
   ],
   "source": [
    "u.express(A).dt(A)"
   ]
  },
  {
   "cell_type": "code",
   "execution_count": 22,
   "id": "7a9d0771",
   "metadata": {
    "execution": {
     "iopub.execute_input": "2022-06-10T14:15:06.152098Z",
     "iopub.status.busy": "2022-06-10T14:15:06.151918Z",
     "iopub.status.idle": "2022-06-10T14:15:06.159481Z",
     "shell.execute_reply": "2022-06-10T14:15:06.159034Z"
    }
   },
   "outputs": [
    {
     "data": {
      "text/latex": [
       "$\\displaystyle \\dot{u}_{1}\\mathbf{\\hat{b}_x} + \\dot{u}_{2}\\mathbf{\\hat{b}_y} + \\dot{u}_{3}\\mathbf{\\hat{b}_z}$"
      ],
      "text/plain": [
       "u₁̇ b_x + u₂̇ b_y + u₃̇ b_z"
      ]
     },
     "execution_count": 22,
     "metadata": {},
     "output_type": "execute_result"
    }
   ],
   "source": [
    "u.dt(B)"
   ]
  },
  {
   "cell_type": "code",
   "execution_count": 23,
   "id": "117707c3",
   "metadata": {
    "execution": {
     "iopub.execute_input": "2022-06-10T14:15:06.161855Z",
     "iopub.status.busy": "2022-06-10T14:15:06.161583Z",
     "iopub.status.idle": "2022-06-10T14:15:06.168775Z",
     "shell.execute_reply": "2022-06-10T14:15:06.168316Z"
    }
   },
   "outputs": [
    {
     "data": {
      "text/latex": [
       "$\\displaystyle \\dot{\\theta}\\mathbf{\\hat{b}_x} + \\sin{\\left(\\theta \\right)} \\dot{\\psi}\\mathbf{\\hat{b}_y} + \\cos{\\left(\\theta \\right)} \\dot{\\psi}\\mathbf{\\hat{b}_z}$"
      ],
      "text/plain": [
       "θ̇ b_x + sin(θ)⋅ψ̇ b_y + cos(θ)⋅ψ̇ b_z"
      ]
     },
     "execution_count": 23,
     "metadata": {},
     "output_type": "execute_result"
    }
   ],
   "source": [
    "A_w_B = B.ang_vel_in(A)\n",
    "A_w_B"
   ]
  },
  {
   "cell_type": "code",
   "execution_count": 24,
   "id": "e2359030",
   "metadata": {
    "execution": {
     "iopub.execute_input": "2022-06-10T14:15:06.171190Z",
     "iopub.status.busy": "2022-06-10T14:15:06.170805Z",
     "iopub.status.idle": "2022-06-10T14:15:06.188189Z",
     "shell.execute_reply": "2022-06-10T14:15:06.187735Z"
    }
   },
   "outputs": [
    {
     "data": {
      "text/latex": [
       "$\\displaystyle (- u_{2} \\cos{\\left(\\theta \\right)} \\dot{\\psi} + u_{3} \\sin{\\left(\\theta \\right)} \\dot{\\psi} + \\dot{u}_{1})\\mathbf{\\hat{b}_x} + (u_{1} \\cos{\\left(\\theta \\right)} \\dot{\\psi} - u_{3} \\dot{\\theta} + \\dot{u}_{2})\\mathbf{\\hat{b}_y} + (- u_{1} \\sin{\\left(\\theta \\right)} \\dot{\\psi} + u_{2} \\dot{\\theta} + \\dot{u}_{3})\\mathbf{\\hat{b}_z}$"
      ],
      "text/plain": [
       "(-u₂⋅cos(θ)⋅ψ̇ + u₃⋅sin(θ)⋅ψ̇ + u₁̇) b_x + (u₁⋅cos(θ)⋅ψ̇ - u₃⋅θ̇ + u₂̇) b_y +\n",
       "(-u₁⋅sin(θ)⋅ψ̇ + u₂⋅θ̇ + u₃̇) b_z"
      ]
     },
     "execution_count": 24,
     "metadata": {},
     "output_type": "execute_result"
    }
   ],
   "source": [
    "u.dt(B) + me.cross(A_w_B, u)"
   ]
  },
  {
   "cell_type": "code",
   "execution_count": 25,
   "id": "9306e8c3",
   "metadata": {
    "execution": {
     "iopub.execute_input": "2022-06-10T14:15:06.190622Z",
     "iopub.status.busy": "2022-06-10T14:15:06.190336Z",
     "iopub.status.idle": "2022-06-10T14:15:08.101561Z",
     "shell.execute_reply": "2022-06-10T14:15:08.100962Z"
    }
   },
   "outputs": [
    {
     "data": {
      "text/latex": [
       "$\\displaystyle (- u_{2} \\cos{\\left(\\theta \\right)} \\dot{\\psi} + u_{3} \\sin{\\left(\\theta \\right)} \\dot{\\psi} + \\dot{u}_{1})\\mathbf{\\hat{b}_x} + (u_{1} \\cos{\\left(\\theta \\right)} \\dot{\\psi} - u_{3} \\dot{\\theta} + \\dot{u}_{2})\\mathbf{\\hat{b}_y} + (- u_{1} \\sin{\\left(\\theta \\right)} \\dot{\\psi} + u_{2} \\dot{\\theta} + \\dot{u}_{3})\\mathbf{\\hat{b}_z}$"
      ],
      "text/plain": [
       "(-u₂⋅cos(θ)⋅ψ̇ + u₃⋅sin(θ)⋅ψ̇ + u₁̇) b_x + (u₁⋅cos(θ)⋅ψ̇ - u₃⋅θ̇ + u₂̇) b_y +\n",
       "(-u₁⋅sin(θ)⋅ψ̇ + u₂⋅θ̇ + u₃̇) b_z"
      ]
     },
     "execution_count": 25,
     "metadata": {},
     "output_type": "execute_result"
    }
   ],
   "source": [
    "u.express(A).dt(A).express(B).simplify()"
   ]
  },
  {
   "cell_type": "code",
   "execution_count": 26,
   "id": "70ec0a07",
   "metadata": {
    "execution": {
     "iopub.execute_input": "2022-06-10T14:15:08.105156Z",
     "iopub.status.busy": "2022-06-10T14:15:08.104002Z",
     "iopub.status.idle": "2022-06-10T14:15:08.117793Z",
     "shell.execute_reply": "2022-06-10T14:15:08.117313Z"
    }
   },
   "outputs": [],
   "source": [
    "psi, theta, phi = me.dynamicsymbols('psi, theta, varphi')\n",
    "\n",
    "A = me.ReferenceFrame('A')\n",
    "B = me.ReferenceFrame('B')\n",
    "C = me.ReferenceFrame('C')\n",
    "D = me.ReferenceFrame('D')\n",
    "\n",
    "B.orient_axis(A, psi, A.y)\n",
    "C.orient_axis(B, theta, B.x)\n",
    "D.orient_axis(C, phi, C.y)"
   ]
  },
  {
   "cell_type": "code",
   "execution_count": 27,
   "id": "2b8043db",
   "metadata": {
    "execution": {
     "iopub.execute_input": "2022-06-10T14:15:08.120437Z",
     "iopub.status.busy": "2022-06-10T14:15:08.120017Z",
     "iopub.status.idle": "2022-06-10T14:15:08.126167Z",
     "shell.execute_reply": "2022-06-10T14:15:08.125714Z"
    }
   },
   "outputs": [
    {
     "data": {
      "text/latex": [
       "$\\displaystyle \\dot{\\psi}\\mathbf{\\hat{a}_y}$"
      ],
      "text/plain": [
       "ψ̇ a_y"
      ]
     },
     "execution_count": 27,
     "metadata": {},
     "output_type": "execute_result"
    }
   ],
   "source": [
    "A_w_B = B.ang_vel_in(A)\n",
    "A_w_B"
   ]
  },
  {
   "cell_type": "code",
   "execution_count": 28,
   "id": "3f476d5c",
   "metadata": {
    "execution": {
     "iopub.execute_input": "2022-06-10T14:15:08.128589Z",
     "iopub.status.busy": "2022-06-10T14:15:08.128314Z",
     "iopub.status.idle": "2022-06-10T14:15:08.134259Z",
     "shell.execute_reply": "2022-06-10T14:15:08.133806Z"
    }
   },
   "outputs": [
    {
     "data": {
      "text/latex": [
       "$\\displaystyle \\dot{\\theta}\\mathbf{\\hat{b}_x}$"
      ],
      "text/plain": [
       "θ̇ b_x"
      ]
     },
     "execution_count": 28,
     "metadata": {},
     "output_type": "execute_result"
    }
   ],
   "source": [
    "B_w_C = C.ang_vel_in(B)\n",
    "B_w_C"
   ]
  },
  {
   "cell_type": "code",
   "execution_count": 29,
   "id": "f5534605",
   "metadata": {
    "execution": {
     "iopub.execute_input": "2022-06-10T14:15:08.137500Z",
     "iopub.status.busy": "2022-06-10T14:15:08.136527Z",
     "iopub.status.idle": "2022-06-10T14:15:08.142622Z",
     "shell.execute_reply": "2022-06-10T14:15:08.142120Z"
    }
   },
   "outputs": [
    {
     "data": {
      "text/latex": [
       "$\\displaystyle \\dot{\\varphi}\\mathbf{\\hat{c}_y}$"
      ],
      "text/plain": [
       "varṗhi c_y"
      ]
     },
     "execution_count": 29,
     "metadata": {},
     "output_type": "execute_result"
    }
   ],
   "source": [
    "C_w_D = D.ang_vel_in(C)\n",
    "C_w_D"
   ]
  },
  {
   "cell_type": "code",
   "execution_count": 30,
   "id": "f2acee88",
   "metadata": {
    "execution": {
     "iopub.execute_input": "2022-06-10T14:15:08.145114Z",
     "iopub.status.busy": "2022-06-10T14:15:08.144729Z",
     "iopub.status.idle": "2022-06-10T14:15:08.151579Z",
     "shell.execute_reply": "2022-06-10T14:15:08.151117Z"
    }
   },
   "outputs": [
    {
     "data": {
      "text/latex": [
       "$\\displaystyle \\dot{\\psi}\\mathbf{\\hat{a}_y} + \\dot{\\theta}\\mathbf{\\hat{b}_x} + \\dot{\\varphi}\\mathbf{\\hat{c}_y}$"
      ],
      "text/plain": [
       "ψ̇ a_y + θ̇ b_x + varṗhi c_y"
      ]
     },
     "execution_count": 30,
     "metadata": {},
     "output_type": "execute_result"
    }
   ],
   "source": [
    "A_w_D = A_w_B + B_w_C + C_w_D\n",
    "A_w_D"
   ]
  },
  {
   "cell_type": "code",
   "execution_count": 31,
   "id": "0d667478",
   "metadata": {
    "execution": {
     "iopub.execute_input": "2022-06-10T14:15:08.154639Z",
     "iopub.status.busy": "2022-06-10T14:15:08.153643Z",
     "iopub.status.idle": "2022-06-10T14:15:08.506076Z",
     "shell.execute_reply": "2022-06-10T14:15:08.505316Z"
    }
   },
   "outputs": [
    {
     "data": {
      "text/latex": [
       "$\\displaystyle (\\sin{\\left(\\theta \\right)} \\sin{\\left(\\varphi \\right)} \\dot{\\psi} + \\cos{\\left(\\varphi \\right)} \\dot{\\theta})\\mathbf{\\hat{d}_x} + (\\cos{\\left(\\theta \\right)} \\dot{\\psi} + \\dot{\\varphi})\\mathbf{\\hat{d}_y} + (- \\sin{\\left(\\theta \\right)} \\cos{\\left(\\varphi \\right)} \\dot{\\psi} + \\sin{\\left(\\varphi \\right)} \\dot{\\theta})\\mathbf{\\hat{d}_z}$"
      ],
      "text/plain": [
       "(sin(θ)⋅sin(varphi)⋅ψ̇ + cos(varphi)⋅θ̇) d_x + (cos(θ)⋅ψ̇ + varṗhi) d_y + (-s\n",
       "in(θ)⋅cos(varphi)⋅ψ̇ + sin(varphi)⋅θ̇) d_z"
      ]
     },
     "execution_count": 31,
     "metadata": {},
     "output_type": "execute_result"
    }
   ],
   "source": [
    "A2 = me.ReferenceFrame('A')\n",
    "D2 = me.ReferenceFrame('D')\n",
    "D2.orient_body_fixed(A2, (psi, theta, phi), 'YXY')\n",
    "D2.ang_vel_in(A2).simplify()"
   ]
  },
  {
   "cell_type": "code",
   "execution_count": 32,
   "id": "c218de69",
   "metadata": {
    "execution": {
     "iopub.execute_input": "2022-06-10T14:15:08.509378Z",
     "iopub.status.busy": "2022-06-10T14:15:08.508986Z",
     "iopub.status.idle": "2022-06-10T14:15:08.529532Z",
     "shell.execute_reply": "2022-06-10T14:15:08.529023Z"
    }
   },
   "outputs": [
    {
     "data": {
      "text/latex": [
       "$\\displaystyle (\\sin{\\left(\\theta \\right)} \\sin{\\left(\\varphi \\right)} \\dot{\\psi} + \\cos{\\left(\\varphi \\right)} \\dot{\\theta})\\mathbf{\\hat{d}_x} + (\\cos{\\left(\\theta \\right)} \\dot{\\psi} + \\dot{\\varphi})\\mathbf{\\hat{d}_y} + (- \\sin{\\left(\\theta \\right)} \\cos{\\left(\\varphi \\right)} \\dot{\\psi} + \\sin{\\left(\\varphi \\right)} \\dot{\\theta})\\mathbf{\\hat{d}_z}$"
      ],
      "text/plain": [
       "(sin(θ)⋅sin(varphi)⋅ψ̇ + cos(varphi)⋅θ̇) d_x + (cos(θ)⋅ψ̇ + varṗhi) d_y + (-s\n",
       "in(θ)⋅cos(varphi)⋅ψ̇ + sin(varphi)⋅θ̇) d_z"
      ]
     },
     "execution_count": 32,
     "metadata": {},
     "output_type": "execute_result"
    }
   ],
   "source": [
    "A_w_D.express(D)"
   ]
  },
  {
   "cell_type": "code",
   "execution_count": 33,
   "id": "04b7ed27",
   "metadata": {
    "execution": {
     "iopub.execute_input": "2022-06-10T14:15:08.533020Z",
     "iopub.status.busy": "2022-06-10T14:15:08.531981Z",
     "iopub.status.idle": "2022-06-10T14:15:08.543612Z",
     "shell.execute_reply": "2022-06-10T14:15:08.543124Z"
    }
   },
   "outputs": [
    {
     "data": {
      "text/latex": [
       "$\\displaystyle \\ddot{\\theta}\\mathbf{\\hat{a}_z}$"
      ],
      "text/plain": [
       "θ̈ a_z"
      ]
     },
     "execution_count": 33,
     "metadata": {},
     "output_type": "execute_result"
    }
   ],
   "source": [
    "theta = me.dynamicsymbols('theta')\n",
    "\n",
    "A = me.ReferenceFrame('A')\n",
    "B = me.ReferenceFrame('B')\n",
    "B.orient_axis(A, theta, A.z)\n",
    "B.ang_acc_in(A)"
   ]
  },
  {
   "cell_type": "code",
   "execution_count": 34,
   "id": "4a1e17d4",
   "metadata": {
    "execution": {
     "iopub.execute_input": "2022-06-10T14:15:08.546207Z",
     "iopub.status.busy": "2022-06-10T14:15:08.545835Z",
     "iopub.status.idle": "2022-06-10T14:15:08.552182Z",
     "shell.execute_reply": "2022-06-10T14:15:08.551633Z"
    }
   },
   "outputs": [
    {
     "data": {
      "text/latex": [
       "$\\displaystyle \\ddot{\\theta}\\mathbf{\\hat{a}_z}$"
      ],
      "text/plain": [
       "θ̈ a_z"
      ]
     },
     "execution_count": 34,
     "metadata": {},
     "output_type": "execute_result"
    }
   ],
   "source": [
    "B.ang_vel_in(A).dt(A)"
   ]
  },
  {
   "cell_type": "code",
   "execution_count": 35,
   "id": "dfd85420",
   "metadata": {
    "execution": {
     "iopub.execute_input": "2022-06-10T14:15:08.555019Z",
     "iopub.status.busy": "2022-06-10T14:15:08.554721Z",
     "iopub.status.idle": "2022-06-10T14:15:08.564374Z",
     "shell.execute_reply": "2022-06-10T14:15:08.563884Z"
    }
   },
   "outputs": [
    {
     "data": {
      "text/latex": [
       "$\\displaystyle \\ddot{\\theta}\\mathbf{\\hat{a}_z}$"
      ],
      "text/plain": [
       "θ̈ a_z"
      ]
     },
     "execution_count": 35,
     "metadata": {},
     "output_type": "execute_result"
    }
   ],
   "source": [
    "B.ang_vel_in(A).dt(B)"
   ]
  },
  {
   "cell_type": "code",
   "execution_count": 36,
   "id": "d14a081c",
   "metadata": {
    "execution": {
     "iopub.execute_input": "2022-06-10T14:15:08.567057Z",
     "iopub.status.busy": "2022-06-10T14:15:08.566755Z",
     "iopub.status.idle": "2022-06-10T14:15:09.678816Z",
     "shell.execute_reply": "2022-06-10T14:15:09.678156Z"
    }
   },
   "outputs": [
    {
     "data": {
      "text/latex": [
       "$\\displaystyle (\\sin{\\left(\\theta \\right)} \\sin{\\left(\\varphi \\right)} \\ddot{\\psi} + \\sin{\\left(\\theta \\right)} \\cos{\\left(\\varphi \\right)} \\dot{\\psi} \\dot{\\varphi} + \\sin{\\left(\\varphi \\right)} \\cos{\\left(\\theta \\right)} \\dot{\\psi} \\dot{\\theta} - \\sin{\\left(\\varphi \\right)} \\dot{\\theta} \\dot{\\varphi} + \\cos{\\left(\\varphi \\right)} \\ddot{\\theta})\\mathbf{\\hat{d}_x} + (- \\sin{\\left(\\theta \\right)} \\dot{\\psi} \\dot{\\theta} + \\cos{\\left(\\theta \\right)} \\ddot{\\psi} + \\ddot{\\varphi})\\mathbf{\\hat{d}_y} + (\\sin{\\left(\\theta \\right)} \\sin{\\left(\\varphi \\right)} \\dot{\\psi} \\dot{\\varphi} - \\sin{\\left(\\theta \\right)} \\cos{\\left(\\varphi \\right)} \\ddot{\\psi} + \\sin{\\left(\\varphi \\right)} \\ddot{\\theta} - \\cos{\\left(\\theta \\right)} \\cos{\\left(\\varphi \\right)} \\dot{\\psi} \\dot{\\theta} + \\cos{\\left(\\varphi \\right)} \\dot{\\theta} \\dot{\\varphi})\\mathbf{\\hat{d}_z}$"
      ],
      "text/plain": [
       "(sin(θ)⋅sin(varphi)⋅ψ̈ + sin(θ)⋅cos(varphi)⋅ψ̇⋅varṗhi + sin(varphi)⋅cos(θ)⋅ψ̇\n",
       "⋅θ̇ - sin(varphi)⋅θ̇⋅varṗhi + cos(varphi)⋅θ̈) d_x + (-sin(θ)⋅ψ̇⋅θ̇ + cos(θ)⋅ψ\n",
       "̈ + varp̈hi) d_y + (sin(θ)⋅sin(varphi)⋅ψ̇⋅varṗhi - sin(θ)⋅cos(varphi)⋅ψ̈ + si\n",
       "n(varphi)⋅θ̈ - cos(θ)⋅cos(varphi)⋅ψ̇⋅θ̇ + cos(varphi)⋅θ̇⋅varṗhi) d_z"
      ]
     },
     "execution_count": 36,
     "metadata": {},
     "output_type": "execute_result"
    }
   ],
   "source": [
    "psi, theta, phi = me.dynamicsymbols('psi, theta, varphi')\n",
    "\n",
    "A = me.ReferenceFrame('A')\n",
    "D = me.ReferenceFrame('D')\n",
    "D.orient_body_fixed(A, (psi, theta, phi), 'YXY')\n",
    "\n",
    "D.ang_acc_in(A).simplify()"
   ]
  },
  {
   "cell_type": "code",
   "execution_count": 37,
   "id": "0e0bdfbe",
   "metadata": {
    "execution": {
     "iopub.execute_input": "2022-06-10T14:15:09.681794Z",
     "iopub.status.busy": "2022-06-10T14:15:09.681376Z",
     "iopub.status.idle": "2022-06-10T14:15:10.516875Z",
     "shell.execute_reply": "2022-06-10T14:15:10.516097Z"
    }
   },
   "outputs": [
    {
     "data": {
      "text/latex": [
       "$\\displaystyle (\\sin{\\left(\\theta \\right)} \\sin{\\left(\\varphi \\right)} \\ddot{\\psi} + \\sin{\\left(\\theta \\right)} \\cos{\\left(\\varphi \\right)} \\dot{\\psi} \\dot{\\varphi} + \\sin{\\left(\\varphi \\right)} \\cos{\\left(\\theta \\right)} \\dot{\\psi} \\dot{\\theta} - \\sin{\\left(\\varphi \\right)} \\dot{\\theta} \\dot{\\varphi} + \\cos{\\left(\\varphi \\right)} \\ddot{\\theta})\\mathbf{\\hat{d}_x} + (- \\sin{\\left(\\theta \\right)} \\dot{\\psi} \\dot{\\theta} + \\cos{\\left(\\theta \\right)} \\ddot{\\psi} + \\ddot{\\varphi})\\mathbf{\\hat{d}_y} + (\\sin{\\left(\\theta \\right)} \\sin{\\left(\\varphi \\right)} \\dot{\\psi} \\dot{\\varphi} - \\sin{\\left(\\theta \\right)} \\cos{\\left(\\varphi \\right)} \\ddot{\\psi} + \\sin{\\left(\\varphi \\right)} \\ddot{\\theta} - \\cos{\\left(\\theta \\right)} \\cos{\\left(\\varphi \\right)} \\dot{\\psi} \\dot{\\theta} + \\cos{\\left(\\varphi \\right)} \\dot{\\theta} \\dot{\\varphi})\\mathbf{\\hat{d}_z}$"
      ],
      "text/plain": [
       "(sin(θ)⋅sin(varphi)⋅ψ̈ + sin(θ)⋅cos(varphi)⋅ψ̇⋅varṗhi + sin(varphi)⋅cos(θ)⋅ψ̇\n",
       "⋅θ̇ - sin(varphi)⋅θ̇⋅varṗhi + cos(varphi)⋅θ̈) d_x + (-sin(θ)⋅ψ̇⋅θ̇ + cos(θ)⋅ψ\n",
       "̈ + varp̈hi) d_y + (sin(θ)⋅sin(varphi)⋅ψ̇⋅varṗhi - sin(θ)⋅cos(varphi)⋅ψ̈ + si\n",
       "n(varphi)⋅θ̈ - cos(θ)⋅cos(varphi)⋅ψ̇⋅θ̇ + cos(varphi)⋅θ̇⋅varṗhi) d_z"
      ]
     },
     "execution_count": 37,
     "metadata": {},
     "output_type": "execute_result"
    }
   ],
   "source": [
    "D.ang_vel_in(A).dt(A).simplify()"
   ]
  },
  {
   "cell_type": "code",
   "execution_count": 38,
   "id": "c094e74e",
   "metadata": {
    "execution": {
     "iopub.execute_input": "2022-06-10T14:15:10.520103Z",
     "iopub.status.busy": "2022-06-10T14:15:10.519763Z",
     "iopub.status.idle": "2022-06-10T14:15:11.353606Z",
     "shell.execute_reply": "2022-06-10T14:15:11.352960Z"
    }
   },
   "outputs": [
    {
     "data": {
      "text/latex": [
       "$\\displaystyle (\\sin{\\left(\\theta \\right)} \\sin{\\left(\\varphi \\right)} \\ddot{\\psi} + \\sin{\\left(\\theta \\right)} \\cos{\\left(\\varphi \\right)} \\dot{\\psi} \\dot{\\varphi} + \\sin{\\left(\\varphi \\right)} \\cos{\\left(\\theta \\right)} \\dot{\\psi} \\dot{\\theta} - \\sin{\\left(\\varphi \\right)} \\dot{\\theta} \\dot{\\varphi} + \\cos{\\left(\\varphi \\right)} \\ddot{\\theta})\\mathbf{\\hat{d}_x} + (- \\sin{\\left(\\theta \\right)} \\dot{\\psi} \\dot{\\theta} + \\cos{\\left(\\theta \\right)} \\ddot{\\psi} + \\ddot{\\varphi})\\mathbf{\\hat{d}_y} + (\\sin{\\left(\\theta \\right)} \\sin{\\left(\\varphi \\right)} \\dot{\\psi} \\dot{\\varphi} - \\sin{\\left(\\theta \\right)} \\cos{\\left(\\varphi \\right)} \\ddot{\\psi} + \\sin{\\left(\\varphi \\right)} \\ddot{\\theta} - \\cos{\\left(\\theta \\right)} \\cos{\\left(\\varphi \\right)} \\dot{\\psi} \\dot{\\theta} + \\cos{\\left(\\varphi \\right)} \\dot{\\theta} \\dot{\\varphi})\\mathbf{\\hat{d}_z}$"
      ],
      "text/plain": [
       "(sin(θ)⋅sin(varphi)⋅ψ̈ + sin(θ)⋅cos(varphi)⋅ψ̇⋅varṗhi + sin(varphi)⋅cos(θ)⋅ψ̇\n",
       "⋅θ̇ - sin(varphi)⋅θ̇⋅varṗhi + cos(varphi)⋅θ̈) d_x + (-sin(θ)⋅ψ̇⋅θ̇ + cos(θ)⋅ψ\n",
       "̈ + varp̈hi) d_y + (sin(θ)⋅sin(varphi)⋅ψ̇⋅varṗhi - sin(θ)⋅cos(varphi)⋅ψ̈ + si\n",
       "n(varphi)⋅θ̈ - cos(θ)⋅cos(varphi)⋅ψ̇⋅θ̇ + cos(varphi)⋅θ̇⋅varṗhi) d_z"
      ]
     },
     "execution_count": 38,
     "metadata": {},
     "output_type": "execute_result"
    }
   ],
   "source": [
    "D.ang_vel_in(A).dt(D).simplify()"
   ]
  },
  {
   "cell_type": "code",
   "execution_count": 39,
   "id": "930a7ebf",
   "metadata": {
    "execution": {
     "iopub.execute_input": "2022-06-10T14:15:11.356826Z",
     "iopub.status.busy": "2022-06-10T14:15:11.356493Z",
     "iopub.status.idle": "2022-06-10T14:15:11.370080Z",
     "shell.execute_reply": "2022-06-10T14:15:11.369566Z"
    }
   },
   "outputs": [],
   "source": [
    "psi, theta, phi = me.dynamicsymbols('psi, theta, varphi')\n",
    "\n",
    "A = me.ReferenceFrame('A')\n",
    "B = me.ReferenceFrame('B')\n",
    "C = me.ReferenceFrame('C')\n",
    "D = me.ReferenceFrame('D')\n",
    "\n",
    "B.orient_axis(A, psi, A.y)\n",
    "C.orient_axis(B, theta, B.x)\n",
    "D.orient_axis(C, phi, C.y)"
   ]
  },
  {
   "cell_type": "code",
   "execution_count": 40,
   "id": "7d1c6326",
   "metadata": {
    "execution": {
     "iopub.execute_input": "2022-06-10T14:15:11.373445Z",
     "iopub.status.busy": "2022-06-10T14:15:11.372416Z",
     "iopub.status.idle": "2022-06-10T14:15:11.380333Z",
     "shell.execute_reply": "2022-06-10T14:15:11.379872Z"
    }
   },
   "outputs": [
    {
     "data": {
      "text/latex": [
       "$\\displaystyle \\ddot{\\psi}\\mathbf{\\hat{a}_y}$"
      ],
      "text/plain": [
       "ψ̈ a_y"
      ]
     },
     "execution_count": 40,
     "metadata": {},
     "output_type": "execute_result"
    }
   ],
   "source": [
    "A_alp_B = B.ang_acc_in(A)\n",
    "A_alp_B"
   ]
  },
  {
   "cell_type": "code",
   "execution_count": 41,
   "id": "3c3b3f10",
   "metadata": {
    "execution": {
     "iopub.execute_input": "2022-06-10T14:15:11.383009Z",
     "iopub.status.busy": "2022-06-10T14:15:11.382618Z",
     "iopub.status.idle": "2022-06-10T14:15:11.390053Z",
     "shell.execute_reply": "2022-06-10T14:15:11.389608Z"
    }
   },
   "outputs": [
    {
     "data": {
      "text/latex": [
       "$\\displaystyle \\ddot{\\theta}\\mathbf{\\hat{b}_x}$"
      ],
      "text/plain": [
       "θ̈ b_x"
      ]
     },
     "execution_count": 41,
     "metadata": {},
     "output_type": "execute_result"
    }
   ],
   "source": [
    "B_alp_C = C.ang_acc_in(B)\n",
    "B_alp_C"
   ]
  },
  {
   "cell_type": "code",
   "execution_count": 42,
   "id": "cef64021",
   "metadata": {
    "execution": {
     "iopub.execute_input": "2022-06-10T14:15:11.392419Z",
     "iopub.status.busy": "2022-06-10T14:15:11.392154Z",
     "iopub.status.idle": "2022-06-10T14:15:11.399265Z",
     "shell.execute_reply": "2022-06-10T14:15:11.398816Z"
    }
   },
   "outputs": [
    {
     "data": {
      "text/latex": [
       "$\\displaystyle \\ddot{\\varphi}\\mathbf{\\hat{c}_y}$"
      ],
      "text/plain": [
       "varp̈hi c_y"
      ]
     },
     "execution_count": 42,
     "metadata": {},
     "output_type": "execute_result"
    }
   ],
   "source": [
    "C_alp_D = D.ang_acc_in(C)\n",
    "C_alp_D"
   ]
  },
  {
   "cell_type": "code",
   "execution_count": 43,
   "id": "33e1e38f",
   "metadata": {
    "execution": {
     "iopub.execute_input": "2022-06-10T14:15:11.401604Z",
     "iopub.status.busy": "2022-06-10T14:15:11.401341Z",
     "iopub.status.idle": "2022-06-10T14:15:11.574434Z",
     "shell.execute_reply": "2022-06-10T14:15:11.573801Z"
    }
   },
   "outputs": [
    {
     "data": {
      "text/latex": [
       "$\\displaystyle (\\sin{\\left(\\theta \\right)} \\sin{\\left(\\varphi \\right)} \\ddot{\\psi} + \\cos{\\left(\\varphi \\right)} \\ddot{\\theta})\\mathbf{\\hat{d}_x} + (\\cos{\\left(\\theta \\right)} \\ddot{\\psi} + \\ddot{\\varphi})\\mathbf{\\hat{d}_y} + (- \\sin{\\left(\\theta \\right)} \\cos{\\left(\\varphi \\right)} \\ddot{\\psi} + \\sin{\\left(\\varphi \\right)} \\ddot{\\theta})\\mathbf{\\hat{d}_z}$"
      ],
      "text/plain": [
       "(sin(θ)⋅sin(varphi)⋅ψ̈ + cos(varphi)⋅θ̈) d_x + (cos(θ)⋅ψ̈ + varp̈hi) d_y + (-s\n",
       "in(θ)⋅cos(varphi)⋅ψ̈ + sin(varphi)⋅θ̈) d_z"
      ]
     },
     "execution_count": 43,
     "metadata": {},
     "output_type": "execute_result"
    }
   ],
   "source": [
    "A_alp_D = A_alp_B + B_alp_C + C_alp_D\n",
    "A_alp_D.express(D).simplify()"
   ]
  },
  {
   "cell_type": "code",
   "execution_count": 44,
   "id": "07e9aa30",
   "metadata": {
    "execution": {
     "iopub.execute_input": "2022-06-10T14:15:11.577543Z",
     "iopub.status.busy": "2022-06-10T14:15:11.577193Z",
     "iopub.status.idle": "2022-06-10T14:15:12.098881Z",
     "shell.execute_reply": "2022-06-10T14:15:12.098273Z"
    }
   },
   "outputs": [
    {
     "data": {
      "text/latex": [
       "$\\displaystyle (\\sin{\\left(\\theta \\right)} \\sin{\\left(\\varphi \\right)} \\ddot{\\psi} + \\sin{\\left(\\theta \\right)} \\cos{\\left(\\varphi \\right)} \\dot{\\psi} \\dot{\\varphi} + \\sin{\\left(\\varphi \\right)} \\cos{\\left(\\theta \\right)} \\dot{\\psi} \\dot{\\theta} - \\sin{\\left(\\varphi \\right)} \\dot{\\theta} \\dot{\\varphi} + \\cos{\\left(\\varphi \\right)} \\ddot{\\theta})\\mathbf{\\hat{d}_x} + (- \\sin{\\left(\\theta \\right)} \\dot{\\psi} \\dot{\\theta} + \\cos{\\left(\\theta \\right)} \\ddot{\\psi} + \\ddot{\\varphi})\\mathbf{\\hat{d}_y} + (\\sin{\\left(\\theta \\right)} \\sin{\\left(\\varphi \\right)} \\dot{\\psi} \\dot{\\varphi} - \\sin{\\left(\\theta \\right)} \\cos{\\left(\\varphi \\right)} \\ddot{\\psi} + \\sin{\\left(\\varphi \\right)} \\ddot{\\theta} - \\cos{\\left(\\theta \\right)} \\cos{\\left(\\varphi \\right)} \\dot{\\psi} \\dot{\\theta} + \\cos{\\left(\\varphi \\right)} \\dot{\\theta} \\dot{\\varphi})\\mathbf{\\hat{d}_z}$"
      ],
      "text/plain": [
       "(sin(θ)⋅sin(varphi)⋅ψ̈ + sin(θ)⋅cos(varphi)⋅ψ̇⋅varṗhi + sin(varphi)⋅cos(θ)⋅ψ̇\n",
       "⋅θ̇ - sin(varphi)⋅θ̇⋅varṗhi + cos(varphi)⋅θ̈) d_x + (-sin(θ)⋅ψ̇⋅θ̇ + cos(θ)⋅ψ\n",
       "̈ + varp̈hi) d_y + (sin(θ)⋅sin(varphi)⋅ψ̇⋅varṗhi - sin(θ)⋅cos(varphi)⋅ψ̈ + si\n",
       "n(varphi)⋅θ̈ - cos(θ)⋅cos(varphi)⋅ψ̇⋅θ̇ + cos(varphi)⋅θ̇⋅varṗhi) d_z"
      ]
     },
     "execution_count": 44,
     "metadata": {},
     "output_type": "execute_result"
    }
   ],
   "source": [
    "D.ang_acc_in(A).express(D).simplify()"
   ]
  }
 ],
 "metadata": {
  "kernelspec": {
   "display_name": "Python 3 (ipykernel)",
   "language": "python",
   "name": "python3"
  },
  "language_info": {
   "codemirror_mode": {
    "name": "ipython",
    "version": 3
   },
   "file_extension": ".py",
   "mimetype": "text/x-python",
   "name": "python",
   "nbconvert_exporter": "python",
   "pygments_lexer": "ipython3",
   "version": "3.9.13"
  }
 },
 "nbformat": 4,
 "nbformat_minor": 5
}