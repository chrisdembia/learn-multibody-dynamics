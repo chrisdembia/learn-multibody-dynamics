{
 "cells": [
  {
   "cell_type": "code",
   "execution_count": 1,
   "id": "22420f13",
   "metadata": {
    "execution": {
     "iopub.execute_input": "2022-06-10T14:18:12.334566Z",
     "iopub.status.busy": "2022-06-10T14:18:12.334243Z",
     "iopub.status.idle": "2022-06-10T14:18:12.811077Z",
     "shell.execute_reply": "2022-06-10T14:18:12.810382Z"
    }
   },
   "outputs": [],
   "source": [
    "import numpy as np\n",
    "import sympy as sm\n",
    "import sympy.physics.mechanics as me\n",
    "me.init_vprinting(use_latex='mathjax')"
   ]
  },
  {
   "cell_type": "code",
   "execution_count": 2,
   "id": "6b6996d4",
   "metadata": {
    "execution": {
     "iopub.execute_input": "2022-06-10T14:18:12.814825Z",
     "iopub.status.busy": "2022-06-10T14:18:12.814547Z",
     "iopub.status.idle": "2022-06-10T14:18:12.891836Z",
     "shell.execute_reply": "2022-06-10T14:18:12.891191Z"
    }
   },
   "outputs": [
    {
     "data": {
      "text/latex": [
       "$\\displaystyle \\left( \\left[\\begin{matrix}m_{1}\\\\m_{2}\\\\l_{1}\\\\l_{2}\\\\g\\end{matrix}\\right], \\  \\left[\\begin{matrix}q_{1}\\\\q_{2}\\end{matrix}\\right], \\  \\left[\\begin{matrix}u_{1}\\\\u_{2}\\end{matrix}\\right], \\  \\left[\\begin{matrix}T_{1}\\\\T_{2}\\end{matrix}\\right], \\  \\left[\\begin{matrix}\\dot{u}_{1}\\\\\\dot{u}_{2}\\end{matrix}\\right]\\right)$"
      ],
      "text/plain": [
       "⎛⎡m₁⎤                        ⎞\n",
       "⎜⎢  ⎥                        ⎟\n",
       "⎜⎢m₂⎥                        ⎟\n",
       "⎜⎢  ⎥  ⎡q₁⎤  ⎡u₁⎤  ⎡T₁⎤  ⎡u₁̇⎤⎟\n",
       "⎜⎢l₁⎥, ⎢  ⎥, ⎢  ⎥, ⎢  ⎥, ⎢  ⎥⎟\n",
       "⎜⎢  ⎥  ⎣q₂⎦  ⎣u₂⎦  ⎣T₂⎦  ⎣u₂̇⎦⎟\n",
       "⎜⎢l₂⎥                        ⎟\n",
       "⎜⎢  ⎥                        ⎟\n",
       "⎝⎣g ⎦                        ⎠"
      ]
     },
     "execution_count": 2,
     "metadata": {},
     "output_type": "execute_result"
    }
   ],
   "source": [
    "m1, m2, l1, l2, g = sm.symbols('m1, m2, l1, l2, g')\n",
    "q1, q2, u1, u2, T1, T2 = me.dynamicsymbols('q1, q2, u1, u2, T1, T2')\n",
    "t = me.dynamicsymbols._t\n",
    "\n",
    "p = sm.Matrix([m1, m2, l1, l2, g])\n",
    "q = sm.Matrix([q1, q2])\n",
    "u = sm.Matrix([u1, u2])\n",
    "r = sm.Matrix([T1, T2])\n",
    "\n",
    "ud = u.diff(t)\n",
    "\n",
    "p, q, u, r, ud"
   ]
  },
  {
   "cell_type": "code",
   "execution_count": 3,
   "id": "0993cec3",
   "metadata": {
    "execution": {
     "iopub.execute_input": "2022-06-10T14:18:12.894745Z",
     "iopub.status.busy": "2022-06-10T14:18:12.894299Z",
     "iopub.status.idle": "2022-06-10T14:18:12.910106Z",
     "shell.execute_reply": "2022-06-10T14:18:12.909536Z"
    }
   },
   "outputs": [],
   "source": [
    "N = me.ReferenceFrame('N')\n",
    "A = me.ReferenceFrame('A')\n",
    "B = me.ReferenceFrame('B')\n",
    "\n",
    "A.orient_axis(N, q1, N.z)\n",
    "B.orient_axis(N, q2, N.z)\n",
    "\n",
    "A.set_ang_vel(N, u1*N.z)\n",
    "B.set_ang_vel(N, u2*N.z)"
   ]
  },
  {
   "cell_type": "code",
   "execution_count": 4,
   "id": "ce67f95f",
   "metadata": {
    "execution": {
     "iopub.execute_input": "2022-06-10T14:18:12.912712Z",
     "iopub.status.busy": "2022-06-10T14:18:12.912374Z",
     "iopub.status.idle": "2022-06-10T14:18:12.923040Z",
     "shell.execute_reply": "2022-06-10T14:18:12.922508Z"
    }
   },
   "outputs": [
    {
     "data": {
      "text/latex": [
       "$\\displaystyle l_{1} u_{1}\\mathbf{\\hat{a}_x}$"
      ],
      "text/plain": [
       "l₁⋅u₁ a_x"
      ]
     },
     "execution_count": 4,
     "metadata": {},
     "output_type": "execute_result"
    }
   ],
   "source": [
    "O = me.Point('O')\n",
    "P1 = O.locatenew('P1', -l1*A.y)\n",
    "P2 = P1.locatenew('P2', -l2*B.y)\n",
    "\n",
    "O.set_vel(N, 0)\n",
    "P1.v2pt_theory(O, N, A)"
   ]
  },
  {
   "cell_type": "code",
   "execution_count": 5,
   "id": "0d2fb134",
   "metadata": {
    "execution": {
     "iopub.execute_input": "2022-06-10T14:18:12.925430Z",
     "iopub.status.busy": "2022-06-10T14:18:12.925110Z",
     "iopub.status.idle": "2022-06-10T14:18:12.933824Z",
     "shell.execute_reply": "2022-06-10T14:18:12.933280Z"
    }
   },
   "outputs": [
    {
     "data": {
      "text/latex": [
       "$\\displaystyle l_{1} u_{1}\\mathbf{\\hat{a}_x} + l_{2} u_{2}\\mathbf{\\hat{b}_x}$"
      ],
      "text/plain": [
       "l₁⋅u₁ a_x + l₂⋅u₂ b_x"
      ]
     },
     "execution_count": 5,
     "metadata": {},
     "output_type": "execute_result"
    }
   ],
   "source": [
    "P2.v2pt_theory(P1, N, B)"
   ]
  },
  {
   "cell_type": "code",
   "execution_count": 6,
   "id": "f5bd8529",
   "metadata": {
    "execution": {
     "iopub.execute_input": "2022-06-10T14:18:12.936072Z",
     "iopub.status.busy": "2022-06-10T14:18:12.935643Z",
     "iopub.status.idle": "2022-06-10T14:18:12.950622Z",
     "shell.execute_reply": "2022-06-10T14:18:12.950106Z"
    }
   },
   "outputs": [
    {
     "data": {
      "text/latex": [
       "$\\displaystyle l_{1} \\dot{u}_{1}\\mathbf{\\hat{a}_x} + l_{1} u_{1}^{2}\\mathbf{\\hat{a}_y}$"
      ],
      "text/plain": [
       "                 2\n",
       "l₁⋅u₁̇ a_x + l₁⋅u₁  a_y"
      ]
     },
     "execution_count": 6,
     "metadata": {},
     "output_type": "execute_result"
    }
   ],
   "source": [
    "P1.a2pt_theory(O, N, A)"
   ]
  },
  {
   "cell_type": "code",
   "execution_count": 7,
   "id": "8e2740a6",
   "metadata": {
    "execution": {
     "iopub.execute_input": "2022-06-10T14:18:12.952765Z",
     "iopub.status.busy": "2022-06-10T14:18:12.952354Z",
     "iopub.status.idle": "2022-06-10T14:18:12.964504Z",
     "shell.execute_reply": "2022-06-10T14:18:12.963995Z"
    }
   },
   "outputs": [
    {
     "data": {
      "text/latex": [
       "$\\displaystyle l_{1} \\dot{u}_{1}\\mathbf{\\hat{a}_x} + l_{1} u_{1}^{2}\\mathbf{\\hat{a}_y} + l_{2} \\dot{u}_{2}\\mathbf{\\hat{b}_x} + l_{2} u_{2}^{2}\\mathbf{\\hat{b}_y}$"
      ],
      "text/plain": [
       "                 2                        2\n",
       "l₁⋅u₁̇ a_x + l₁⋅u₁  a_y + l₂⋅u₂̇ b_x + l₂⋅u₂  b_y"
      ]
     },
     "execution_count": 7,
     "metadata": {},
     "output_type": "execute_result"
    }
   ],
   "source": [
    "P2.a2pt_theory(P1, N, B)"
   ]
  },
  {
   "cell_type": "code",
   "execution_count": 8,
   "id": "d2ec7350",
   "metadata": {
    "execution": {
     "iopub.execute_input": "2022-06-10T14:18:12.967034Z",
     "iopub.status.busy": "2022-06-10T14:18:12.966734Z",
     "iopub.status.idle": "2022-06-10T14:18:12.978097Z",
     "shell.execute_reply": "2022-06-10T14:18:12.977601Z"
    }
   },
   "outputs": [
    {
     "data": {
      "text/latex": [
       "$\\displaystyle (- T_{1} \\sin{\\left(q_{1} \\right)} + T_{2} \\sin{\\left(q_{2} \\right)})\\mathbf{\\hat{n}_x} + (- g m_{1} + T_{1} \\cos{\\left(q_{1} \\right)} - T_{2} \\cos{\\left(q_{2} \\right)})\\mathbf{\\hat{n}_y}$"
      ],
      "text/plain": [
       "(-T₁⋅sin(q₁) + T₂⋅sin(q₂)) n_x + (-g⋅m₁ + T₁⋅cos(q₁) - T₂⋅cos(q₂)) n_y"
      ]
     },
     "execution_count": 8,
     "metadata": {},
     "output_type": "execute_result"
    }
   ],
   "source": [
    "F_P1 = T1*A.y - T2*B.y - m1*g*N.y\n",
    "F_P1.express(N)"
   ]
  },
  {
   "cell_type": "code",
   "execution_count": 9,
   "id": "480316f5",
   "metadata": {
    "execution": {
     "iopub.execute_input": "2022-06-10T14:18:12.980174Z",
     "iopub.status.busy": "2022-06-10T14:18:12.979894Z",
     "iopub.status.idle": "2022-06-10T14:18:12.986803Z",
     "shell.execute_reply": "2022-06-10T14:18:12.986307Z"
    }
   },
   "outputs": [
    {
     "data": {
      "text/latex": [
       "$\\displaystyle -  T_{2} \\sin{\\left(q_{2} \\right)}\\mathbf{\\hat{n}_x} + (- g m_{2} + T_{2} \\cos{\\left(q_{2} \\right)})\\mathbf{\\hat{n}_y}$"
      ],
      "text/plain": [
       "-T₂⋅sin(q₂) n_x + (-g⋅m₂ + T₂⋅cos(q₂)) n_y"
      ]
     },
     "execution_count": 9,
     "metadata": {},
     "output_type": "execute_result"
    }
   ],
   "source": [
    "F_P2 = T2*B.y - m2*g*N.y\n",
    "F_P2.express(N)"
   ]
  },
  {
   "cell_type": "code",
   "execution_count": 10,
   "id": "1cde7acc",
   "metadata": {
    "execution": {
     "iopub.execute_input": "2022-06-10T14:18:12.989296Z",
     "iopub.status.busy": "2022-06-10T14:18:12.988888Z",
     "iopub.status.idle": "2022-06-10T14:18:12.993927Z",
     "shell.execute_reply": "2022-06-10T14:18:12.993411Z"
    }
   },
   "outputs": [],
   "source": [
    "zero_P1 = F_P1 - m1*P1.acc(N)\n",
    "zero_P2 = F_P2 - m2*P2.acc(N)"
   ]
  },
  {
   "cell_type": "code",
   "execution_count": 11,
   "id": "8049719b",
   "metadata": {
    "execution": {
     "iopub.execute_input": "2022-06-10T14:18:12.996109Z",
     "iopub.status.busy": "2022-06-10T14:18:12.995642Z",
     "iopub.status.idle": "2022-06-10T14:18:13.025558Z",
     "shell.execute_reply": "2022-06-10T14:18:13.024876Z"
    }
   },
   "outputs": [
    {
     "data": {
      "text/latex": [
       "$\\displaystyle \\left[\\begin{matrix}- l_{1} m_{1} \\cos{\\left(q_{1} \\right)} \\dot{u}_{1} - \\left(- l_{1} m_{1} u_{1}^{2} + T_{1}\\right) \\sin{\\left(q_{1} \\right)} + T_{2} \\sin{\\left(q_{2} \\right)}\\\\- g m_{1} - l_{1} m_{1} \\sin{\\left(q_{1} \\right)} \\dot{u}_{1} + \\left(- l_{1} m_{1} u_{1}^{2} + T_{1}\\right) \\cos{\\left(q_{1} \\right)} - T_{2} \\cos{\\left(q_{2} \\right)}\\\\l_{1} m_{2} u_{1}^{2} \\sin{\\left(q_{1} \\right)} - l_{1} m_{2} \\cos{\\left(q_{1} \\right)} \\dot{u}_{1} - l_{2} m_{2} \\cos{\\left(q_{2} \\right)} \\dot{u}_{2} - \\left(- l_{2} m_{2} u_{2}^{2} + T_{2}\\right) \\sin{\\left(q_{2} \\right)}\\\\- g m_{2} - l_{1} m_{2} u_{1}^{2} \\cos{\\left(q_{1} \\right)} - l_{1} m_{2} \\sin{\\left(q_{1} \\right)} \\dot{u}_{1} - l_{2} m_{2} \\sin{\\left(q_{2} \\right)} \\dot{u}_{2} + \\left(- l_{2} m_{2} u_{2}^{2} + T_{2}\\right) \\cos{\\left(q_{2} \\right)}\\end{matrix}\\right]$"
      ],
      "text/plain": [
       "⎡                                    ⎛          2     ⎞                       \n",
       "⎢                -l₁⋅m₁⋅cos(q₁)⋅u₁̇ - ⎝- l₁⋅m₁⋅u₁  + T₁⎠⋅sin(q₁) + T₂⋅sin(q₂) \n",
       "⎢                                                                             \n",
       "⎢                                        ⎛          2     ⎞                   \n",
       "⎢             -g⋅m₁ - l₁⋅m₁⋅sin(q₁)⋅u₁̇ + ⎝- l₁⋅m₁⋅u₁  + T₁⎠⋅cos(q₁) - T₂⋅cos(\n",
       "⎢                                                                             \n",
       "⎢            2                                                 ⎛          2   \n",
       "⎢    l₁⋅m₂⋅u₁ ⋅sin(q₁) - l₁⋅m₂⋅cos(q₁)⋅u₁̇ - l₂⋅m₂⋅cos(q₂)⋅u₂̇ - ⎝- l₂⋅m₂⋅u₂  \n",
       "⎢                                                                             \n",
       "⎢                2                                                 ⎛          \n",
       "⎣-g⋅m₂ - l₁⋅m₂⋅u₁ ⋅cos(q₁) - l₁⋅m₂⋅sin(q₁)⋅u₁̇ - l₂⋅m₂⋅sin(q₂)⋅u₂̇ + ⎝- l₂⋅m₂⋅\n",
       "\n",
       "               ⎤\n",
       "                ⎥\n",
       "               ⎥\n",
       "               ⎥\n",
       "q₂)             ⎥\n",
       "               ⎥\n",
       "  ⎞            ⎥\n",
       "+ T₂⎠⋅sin(q₂)    ⎥\n",
       "               ⎥\n",
       "2     ⎞        ⎥\n",
       "u₂  + T₂⎠⋅cos(q₂)⎦"
      ]
     },
     "execution_count": 11,
     "metadata": {},
     "output_type": "execute_result"
    }
   ],
   "source": [
    "fd = sm.Matrix([\n",
    "    zero_P1.dot(N.x),\n",
    "    zero_P1.dot(N.y),\n",
    "    zero_P2.dot(N.x),\n",
    "    zero_P2.dot(N.y),\n",
    "])\n",
    "fd"
   ]
  },
  {
   "cell_type": "code",
   "execution_count": 12,
   "id": "cbb1fa65",
   "metadata": {
    "execution": {
     "iopub.execute_input": "2022-06-10T14:18:13.028514Z",
     "iopub.status.busy": "2022-06-10T14:18:13.028153Z",
     "iopub.status.idle": "2022-06-10T14:18:13.037719Z",
     "shell.execute_reply": "2022-06-10T14:18:13.037264Z"
    }
   },
   "outputs": [
    {
     "data": {
      "text/latex": [
       "$\\displaystyle \\left( \\left\\{T_{1}, T_{2}, q_{1}, q_{2}, u_{1}, \\dot{u}_{1}\\right\\}, \\  \\left\\{T_{1}, T_{2}, q_{1}, q_{2}, u_{1}, \\dot{u}_{1}\\right\\}, \\  \\left\\{T_{2}, q_{1}, q_{2}, u_{1}, u_{2}, \\dot{u}_{1}, \\dot{u}_{2}\\right\\}, \\  \\left\\{T_{2}, q_{1}, q_{2}, u_{1}, u_{2}, \\dot{u}_{1}, \\dot{u}_{2}\\right\\}\\right)$"
      ],
      "text/plain": [
       "({T₁, T₂, q₁, q₂, u₁, u₁̇}, {T₁, T₂, q₁, q₂, u₁, u₁̇}, {T₂, q₁, q₂, u₁, u₂, u₁\n",
       "̇, u₂̇}, {T₂, q₁, q₂, u₁, u₂, u₁̇, u₂̇})"
      ]
     },
     "execution_count": 12,
     "metadata": {},
     "output_type": "execute_result"
    }
   ],
   "source": [
    "(me.find_dynamicsymbols(fd[0]), me.find_dynamicsymbols(fd[1]),\n",
    " me.find_dynamicsymbols(fd[2]), me.find_dynamicsymbols(fd[3]))"
   ]
  },
  {
   "cell_type": "code",
   "execution_count": 13,
   "id": "315e536b",
   "metadata": {
    "execution": {
     "iopub.execute_input": "2022-06-10T14:18:13.040153Z",
     "iopub.status.busy": "2022-06-10T14:18:13.039755Z",
     "iopub.status.idle": "2022-06-10T14:18:13.046116Z",
     "shell.execute_reply": "2022-06-10T14:18:13.045665Z"
    }
   },
   "outputs": [
    {
     "data": {
      "text/latex": [
       "$\\displaystyle \\left( \\left[\\begin{matrix}\\dot{u}_{1}\\\\\\dot{u}_{2}\\end{matrix}\\right], \\  \\left[\\begin{matrix}T_{1}\\\\T_{2}\\end{matrix}\\right]\\right)$"
      ],
      "text/plain": [
       "⎛⎡u₁̇⎤  ⎡T₁⎤⎞\n",
       "⎜⎢  ⎥, ⎢  ⎥⎟\n",
       "⎝⎣u₂̇⎦  ⎣T₂⎦⎠"
      ]
     },
     "execution_count": 13,
     "metadata": {},
     "output_type": "execute_result"
    }
   ],
   "source": [
    "ud, r"
   ]
  },
  {
   "cell_type": "code",
   "execution_count": 14,
   "id": "6f8b55a1",
   "metadata": {
    "execution": {
     "iopub.execute_input": "2022-06-10T14:18:13.048382Z",
     "iopub.status.busy": "2022-06-10T14:18:13.048117Z",
     "iopub.status.idle": "2022-06-10T14:18:13.099722Z",
     "shell.execute_reply": "2022-06-10T14:18:13.099145Z"
    }
   },
   "outputs": [
    {
     "data": {
      "text/latex": [
       "$\\displaystyle \\left( \\left[\\begin{matrix}- l_{1} m_{1} \\cos{\\left(q_{1} \\right)} & 0 & - \\sin{\\left(q_{1} \\right)} & \\sin{\\left(q_{2} \\right)}\\\\- l_{1} m_{1} \\sin{\\left(q_{1} \\right)} & 0 & \\cos{\\left(q_{1} \\right)} & - \\cos{\\left(q_{2} \\right)}\\\\- l_{1} m_{2} \\cos{\\left(q_{1} \\right)} & - l_{2} m_{2} \\cos{\\left(q_{2} \\right)} & 0 & - \\sin{\\left(q_{2} \\right)}\\\\- l_{1} m_{2} \\sin{\\left(q_{1} \\right)} & - l_{2} m_{2} \\sin{\\left(q_{2} \\right)} & 0 & \\cos{\\left(q_{2} \\right)}\\end{matrix}\\right], \\  \\left[\\begin{matrix}\\dot{u}_{1}\\\\\\dot{u}_{2}\\\\T_{1}\\\\T_{2}\\end{matrix}\\right], \\  \\left[\\begin{matrix}l_{1} m_{1} u_{1}^{2} \\sin{\\left(q_{1} \\right)}\\\\- g m_{1} - l_{1} m_{1} u_{1}^{2} \\cos{\\left(q_{1} \\right)}\\\\l_{1} m_{2} u_{1}^{2} \\sin{\\left(q_{1} \\right)} + l_{2} m_{2} u_{2}^{2} \\sin{\\left(q_{2} \\right)}\\\\- g m_{2} - l_{1} m_{2} u_{1}^{2} \\cos{\\left(q_{1} \\right)} - l_{2} m_{2} u_{2}^{2} \\cos{\\left(q_{2} \\right)}\\end{matrix}\\right]\\right)$"
      ],
      "text/plain": [
       "⎛                                                            ⎡                \n",
       "⎜                                                            ⎢              l₁\n",
       "⎜⎡-l₁⋅m₁⋅cos(q₁)        0         -sin(q₁)  sin(q₂) ⎤  ⎡u₁̇⎤  ⎢               \n",
       "⎜⎢                                                  ⎥  ⎢  ⎥  ⎢                \n",
       "⎜⎢-l₁⋅m₁⋅sin(q₁)        0         cos(q₁)   -cos(q₂)⎥  ⎢u₂̇⎥  ⎢          -g⋅m₁\n",
       "⎜⎢                                                  ⎥, ⎢  ⎥, ⎢                \n",
       "⎜⎢-l₁⋅m₂⋅cos(q₁)  -l₂⋅m₂⋅cos(q₂)     0      -sin(q₂)⎥  ⎢T₁⎥  ⎢            2   \n",
       "⎜⎢                                                  ⎥  ⎢  ⎥  ⎢    l₁⋅m₂⋅u₁ ⋅si\n",
       "⎜⎣-l₁⋅m₂⋅sin(q₁)  -l₂⋅m₂⋅sin(q₂)     0      cos(q₂) ⎦  ⎣T₂⎦  ⎢                \n",
       "⎜                                                            ⎢                \n",
       "⎝                                                            ⎣-g⋅m₂ - l₁⋅m₂⋅u₁\n",
       "\n",
       "      2                      ⎤⎞\n",
       "⋅m₁⋅u₁ ⋅sin(q₁)              ⎥⎟\n",
       "                              ⎥⎟\n",
       "          2                  ⎥⎟\n",
       " - l₁⋅m₁⋅u₁ ⋅cos(q₁)          ⎥⎟\n",
       "                             ⎥⎟\n",
       "                2            ⎥⎟\n",
       "n(q₁) + l₂⋅m₂⋅u₂ ⋅sin(q₂)    ⎥⎟\n",
       "                             ⎥⎟\n",
       "2                   2        ⎥⎟\n",
       " ⋅cos(q₁) - l₂⋅m₂⋅u₂ ⋅cos(q₂)⎦⎠"
      ]
     },
     "execution_count": 14,
     "metadata": {},
     "output_type": "execute_result"
    }
   ],
   "source": [
    "udr = ud.col_join(r)\n",
    "udr_zero = {v: 0 for v in udr}\n",
    "\n",
    "Md = fd.jacobian(udr)\n",
    "gd = fd.xreplace(udr_zero)\n",
    "\n",
    "Md, udr, gd"
   ]
  },
  {
   "cell_type": "code",
   "execution_count": 15,
   "id": "311e8c68",
   "metadata": {
    "execution": {
     "iopub.execute_input": "2022-06-10T14:18:13.102502Z",
     "iopub.status.busy": "2022-06-10T14:18:13.102191Z",
     "iopub.status.idle": "2022-06-10T14:18:13.110060Z",
     "shell.execute_reply": "2022-06-10T14:18:13.109580Z"
    }
   },
   "outputs": [
    {
     "data": {
      "text/latex": [
       "$\\displaystyle l_{1} u_{1}\\mathbf{\\hat{a}_x} -  u_{3}\\mathbf{\\hat{a}_y}$"
      ],
      "text/plain": [
       "l₁⋅u₁ a_x + -u₃ a_y"
      ]
     },
     "execution_count": 15,
     "metadata": {},
     "output_type": "execute_result"
    }
   ],
   "source": [
    "u3, u4 = me.dynamicsymbols('u3, u4')\n",
    "\n",
    "N_v_P1a = P1.vel(N) - u3*A.y\n",
    "N_v_P1a"
   ]
  },
  {
   "cell_type": "code",
   "execution_count": 16,
   "id": "bc8499c0",
   "metadata": {
    "execution": {
     "iopub.execute_input": "2022-06-10T14:18:13.112450Z",
     "iopub.status.busy": "2022-06-10T14:18:13.112175Z",
     "iopub.status.idle": "2022-06-10T14:18:13.121606Z",
     "shell.execute_reply": "2022-06-10T14:18:13.121142Z"
    }
   },
   "outputs": [
    {
     "data": {
      "text/latex": [
       "$\\displaystyle l_{1} u_{1}\\mathbf{\\hat{a}_x} -  u_{3}\\mathbf{\\hat{a}_y} + l_{2} u_{2}\\mathbf{\\hat{b}_x} -  u_{4}\\mathbf{\\hat{b}_y}$"
      ],
      "text/plain": [
       "l₁⋅u₁ a_x + -u₃ a_y + l₂⋅u₂ b_x + -u₄ b_y"
      ]
     },
     "execution_count": 16,
     "metadata": {},
     "output_type": "execute_result"
    }
   ],
   "source": [
    "N_v_P2a = N_v_P1a + me.cross(B.ang_vel_in(N), P2.pos_from(P1)) - u4*B.y\n",
    "N_v_P2a"
   ]
  },
  {
   "cell_type": "code",
   "execution_count": 17,
   "id": "47a92bfd",
   "metadata": {
    "execution": {
     "iopub.execute_input": "2022-06-10T14:18:13.124670Z",
     "iopub.status.busy": "2022-06-10T14:18:13.123715Z",
     "iopub.status.idle": "2022-06-10T14:18:13.128951Z",
     "shell.execute_reply": "2022-06-10T14:18:13.128346Z"
    }
   },
   "outputs": [],
   "source": [
    "R_P1 = -m1*g*N.y\n",
    "R_P2 = -m2*g*N.y"
   ]
  },
  {
   "cell_type": "code",
   "execution_count": 18,
   "id": "335556b2",
   "metadata": {
    "execution": {
     "iopub.execute_input": "2022-06-10T14:18:13.131305Z",
     "iopub.status.busy": "2022-06-10T14:18:13.130962Z",
     "iopub.status.idle": "2022-06-10T14:18:13.144892Z",
     "shell.execute_reply": "2022-06-10T14:18:13.144403Z"
    }
   },
   "outputs": [
    {
     "data": {
      "text/latex": [
       "$\\displaystyle - g l_{1} m_{1} \\sin{\\left(q_{1} \\right)} - g l_{1} m_{2} \\sin{\\left(q_{1} \\right)}$"
      ],
      "text/plain": [
       "-g⋅l₁⋅m₁⋅sin(q₁) - g⋅l₁⋅m₂⋅sin(q₁)"
      ]
     },
     "execution_count": 18,
     "metadata": {},
     "output_type": "execute_result"
    }
   ],
   "source": [
    "F1 = P1.vel(N).diff(u1, N).dot(R_P1) + P2.vel(N).diff(u1, N).dot(R_P2)\n",
    "F1"
   ]
  },
  {
   "cell_type": "code",
   "execution_count": 19,
   "id": "f3009222",
   "metadata": {
    "execution": {
     "iopub.execute_input": "2022-06-10T14:18:13.147198Z",
     "iopub.status.busy": "2022-06-10T14:18:13.147011Z",
     "iopub.status.idle": "2022-06-10T14:18:13.156300Z",
     "shell.execute_reply": "2022-06-10T14:18:13.155813Z"
    }
   },
   "outputs": [
    {
     "data": {
      "text/latex": [
       "$\\displaystyle - g l_{2} m_{2} \\sin{\\left(q_{2} \\right)}$"
      ],
      "text/plain": [
       "-g⋅l₂⋅m₂⋅sin(q₂)"
      ]
     },
     "execution_count": 19,
     "metadata": {},
     "output_type": "execute_result"
    }
   ],
   "source": [
    "F2 = P1.vel(N).diff(u2, N).dot(R_P1) + P2.vel(N).diff(u2, N).dot(R_P2)\n",
    "F2"
   ]
  },
  {
   "cell_type": "code",
   "execution_count": 20,
   "id": "72b2f20e",
   "metadata": {
    "execution": {
     "iopub.execute_input": "2022-06-10T14:18:13.158617Z",
     "iopub.status.busy": "2022-06-10T14:18:13.158322Z",
     "iopub.status.idle": "2022-06-10T14:18:13.162876Z",
     "shell.execute_reply": "2022-06-10T14:18:13.162412Z"
    }
   },
   "outputs": [],
   "source": [
    "R_P1_aux = R_P1 + T1*A.y - T2*B.y\n",
    "R_P2_aux = R_P2 + T2*B.y"
   ]
  },
  {
   "cell_type": "code",
   "execution_count": 21,
   "id": "80e43e9e",
   "metadata": {
    "execution": {
     "iopub.execute_input": "2022-06-10T14:18:13.165201Z",
     "iopub.status.busy": "2022-06-10T14:18:13.164926Z",
     "iopub.status.idle": "2022-06-10T14:18:13.183375Z",
     "shell.execute_reply": "2022-06-10T14:18:13.182894Z"
    }
   },
   "outputs": [
    {
     "data": {
      "text/latex": [
       "$\\displaystyle g m_{1} \\cos{\\left(q_{1} \\right)} + g m_{2} \\cos{\\left(q_{1} \\right)} - T_{1}$"
      ],
      "text/plain": [
       "g⋅m₁⋅cos(q₁) + g⋅m₂⋅cos(q₁) - T₁"
      ]
     },
     "execution_count": 21,
     "metadata": {},
     "output_type": "execute_result"
    }
   ],
   "source": [
    "F3 = N_v_P1a.diff(u3, N).dot(R_P1_aux) + N_v_P2a.diff(u3, N).dot(R_P2_aux)\n",
    "F3"
   ]
  },
  {
   "cell_type": "code",
   "execution_count": 22,
   "id": "cf17ad61",
   "metadata": {
    "execution": {
     "iopub.execute_input": "2022-06-10T14:18:13.185893Z",
     "iopub.status.busy": "2022-06-10T14:18:13.185475Z",
     "iopub.status.idle": "2022-06-10T14:18:13.195374Z",
     "shell.execute_reply": "2022-06-10T14:18:13.194855Z"
    }
   },
   "outputs": [
    {
     "data": {
      "text/latex": [
       "$\\displaystyle g m_{2} \\cos{\\left(q_{2} \\right)} - T_{2}$"
      ],
      "text/plain": [
       "g⋅m₂⋅cos(q₂) - T₂"
      ]
     },
     "execution_count": 22,
     "metadata": {},
     "output_type": "execute_result"
    }
   ],
   "source": [
    "F4 = N_v_P1a.diff(u4, N).dot(R_P1_aux) + N_v_P2a.diff(u4, N).dot(R_P2_aux)\n",
    "F4"
   ]
  },
  {
   "cell_type": "code",
   "execution_count": 23,
   "id": "45fadc98",
   "metadata": {
    "execution": {
     "iopub.execute_input": "2022-06-10T14:18:13.198982Z",
     "iopub.status.busy": "2022-06-10T14:18:13.198584Z",
     "iopub.status.idle": "2022-06-10T14:18:13.208854Z",
     "shell.execute_reply": "2022-06-10T14:18:13.208397Z"
    }
   },
   "outputs": [
    {
     "data": {
      "text/latex": [
       "$\\displaystyle \\left[\\begin{matrix}- g l_{1} m_{1} \\sin{\\left(q_{1} \\right)} - g l_{1} m_{2} \\sin{\\left(q_{1} \\right)}\\\\- g l_{2} m_{2} \\sin{\\left(q_{2} \\right)}\\\\g m_{1} \\cos{\\left(q_{1} \\right)} + g m_{2} \\cos{\\left(q_{1} \\right)} - T_{1}\\\\g m_{2} \\cos{\\left(q_{2} \\right)} - T_{2}\\end{matrix}\\right]$"
      ],
      "text/plain": [
       "⎡-g⋅l₁⋅m₁⋅sin(q₁) - g⋅l₁⋅m₂⋅sin(q₁)⎤\n",
       "⎢                                  ⎥\n",
       "⎢         -g⋅l₂⋅m₂⋅sin(q₂)         ⎥\n",
       "⎢                                  ⎥\n",
       "⎢ g⋅m₁⋅cos(q₁) + g⋅m₂⋅cos(q₁) - T₁ ⎥\n",
       "⎢                                  ⎥\n",
       "⎣        g⋅m₂⋅cos(q₂) - T₂         ⎦"
      ]
     },
     "execution_count": 23,
     "metadata": {},
     "output_type": "execute_result"
    }
   ],
   "source": [
    "Fr = sm.Matrix([F1, F2, F3, F4])\n",
    "Fr"
   ]
  },
  {
   "cell_type": "code",
   "execution_count": 24,
   "id": "20912129",
   "metadata": {
    "execution": {
     "iopub.execute_input": "2022-06-10T14:18:13.211146Z",
     "iopub.status.busy": "2022-06-10T14:18:13.210877Z",
     "iopub.status.idle": "2022-06-10T14:18:13.216318Z",
     "shell.execute_reply": "2022-06-10T14:18:13.215368Z"
    }
   },
   "outputs": [],
   "source": [
    "Rs_P1 = -m1*P1.acc(N)\n",
    "Rs_P2 = -m2*P2.acc(N)"
   ]
  },
  {
   "cell_type": "code",
   "execution_count": 25,
   "id": "05f76322",
   "metadata": {
    "execution": {
     "iopub.execute_input": "2022-06-10T14:18:13.218540Z",
     "iopub.status.busy": "2022-06-10T14:18:13.218334Z",
     "iopub.status.idle": "2022-06-10T14:18:13.241707Z",
     "shell.execute_reply": "2022-06-10T14:18:13.241206Z"
    }
   },
   "outputs": [
    {
     "data": {
      "text/latex": [
       "$\\displaystyle - l_{1}^{2} m_{1} \\dot{u}_{1} - l_{1}^{2} m_{2} \\dot{u}_{1} + l_{1} \\left(- l_{2} m_{2} \\left(\\sin{\\left(q_{1} \\right)} \\sin{\\left(q_{2} \\right)} + \\cos{\\left(q_{1} \\right)} \\cos{\\left(q_{2} \\right)}\\right) \\dot{u}_{2} - l_{2} m_{2} \\left(\\sin{\\left(q_{1} \\right)} \\cos{\\left(q_{2} \\right)} - \\sin{\\left(q_{2} \\right)} \\cos{\\left(q_{1} \\right)}\\right) u_{2}^{2}\\right)$"
      ],
      "text/plain": [
       "    2           2            ⎛                                                \n",
       "- l₁ ⋅m₁⋅u₁̇ - l₁ ⋅m₂⋅u₁̇ + l₁⋅⎝-l₂⋅m₂⋅(sin(q₁)⋅sin(q₂) + cos(q₁)⋅cos(q₂))⋅u₂̇\n",
       "\n",
       "                                            2⎞\n",
       " - l₂⋅m₂⋅(sin(q₁)⋅cos(q₂) - sin(q₂)⋅cos(q₁))⋅u₂ ⎠"
      ]
     },
     "execution_count": 25,
     "metadata": {},
     "output_type": "execute_result"
    }
   ],
   "source": [
    "F1s = P1.vel(N).diff(u1, N).dot(Rs_P1) + P2.vel(N).diff(u1, N).dot(Rs_P2)\n",
    "F1s"
   ]
  },
  {
   "cell_type": "code",
   "execution_count": 26,
   "id": "5897e235",
   "metadata": {
    "execution": {
     "iopub.execute_input": "2022-06-10T14:18:13.244203Z",
     "iopub.status.busy": "2022-06-10T14:18:13.243854Z",
     "iopub.status.idle": "2022-06-10T14:18:13.263485Z",
     "shell.execute_reply": "2022-06-10T14:18:13.263008Z"
    }
   },
   "outputs": [
    {
     "data": {
      "text/latex": [
       "$\\displaystyle - l_{2}^{2} m_{2} \\dot{u}_{2} + l_{2} \\left(- l_{1} m_{2} \\left(\\sin{\\left(q_{1} \\right)} \\sin{\\left(q_{2} \\right)} + \\cos{\\left(q_{1} \\right)} \\cos{\\left(q_{2} \\right)}\\right) \\dot{u}_{1} - l_{1} m_{2} \\left(- \\sin{\\left(q_{1} \\right)} \\cos{\\left(q_{2} \\right)} + \\sin{\\left(q_{2} \\right)} \\cos{\\left(q_{1} \\right)}\\right) u_{1}^{2}\\right)$"
      ],
      "text/plain": [
       "    2            ⎛                                                            \n",
       "- l₂ ⋅m₂⋅u₂̇ + l₂⋅⎝-l₁⋅m₂⋅(sin(q₁)⋅sin(q₂) + cos(q₁)⋅cos(q₂))⋅u₁̇ - l₁⋅m₂⋅(-si\n",
       "\n",
       "                                 2⎞\n",
       "n(q₁)⋅cos(q₂) + sin(q₂)⋅cos(q₁))⋅u₁ ⎠"
      ]
     },
     "execution_count": 26,
     "metadata": {},
     "output_type": "execute_result"
    }
   ],
   "source": [
    "F2s = P1.vel(N).diff(u2, N).dot(Rs_P1) + P2.vel(N).diff(u2, N).dot(Rs_P2)\n",
    "F2s"
   ]
  },
  {
   "cell_type": "code",
   "execution_count": 27,
   "id": "0c52eba2",
   "metadata": {
    "execution": {
     "iopub.execute_input": "2022-06-10T14:18:13.265733Z",
     "iopub.status.busy": "2022-06-10T14:18:13.265307Z",
     "iopub.status.idle": "2022-06-10T14:18:13.281307Z",
     "shell.execute_reply": "2022-06-10T14:18:13.280377Z"
    }
   },
   "outputs": [
    {
     "data": {
      "text/latex": [
       "$\\displaystyle l_{1} m_{1} u_{1}^{2} + l_{1} m_{2} u_{1}^{2} + l_{2} m_{2} \\left(\\sin{\\left(q_{1} \\right)} \\sin{\\left(q_{2} \\right)} + \\cos{\\left(q_{1} \\right)} \\cos{\\left(q_{2} \\right)}\\right) u_{2}^{2} + l_{2} m_{2} \\left(- \\sin{\\left(q_{1} \\right)} \\cos{\\left(q_{2} \\right)} + \\sin{\\left(q_{2} \\right)} \\cos{\\left(q_{1} \\right)}\\right) \\dot{u}_{2}$"
      ],
      "text/plain": [
       "        2           2                                               2         \n",
       "l₁⋅m₁⋅u₁  + l₁⋅m₂⋅u₁  + l₂⋅m₂⋅(sin(q₁)⋅sin(q₂) + cos(q₁)⋅cos(q₂))⋅u₂  + l₂⋅m₂⋅\n",
       "\n",
       "                                       \n",
       "(-sin(q₁)⋅cos(q₂) + sin(q₂)⋅cos(q₁))⋅u₂̇"
      ]
     },
     "execution_count": 27,
     "metadata": {},
     "output_type": "execute_result"
    }
   ],
   "source": [
    "F3s = N_v_P1a.diff(u3, N).dot(Rs_P1) + N_v_P2a.diff(u3, N).dot(Rs_P2)\n",
    "F3s"
   ]
  },
  {
   "cell_type": "code",
   "execution_count": 28,
   "id": "3017b53f",
   "metadata": {
    "execution": {
     "iopub.execute_input": "2022-06-10T14:18:13.283764Z",
     "iopub.status.busy": "2022-06-10T14:18:13.283355Z",
     "iopub.status.idle": "2022-06-10T14:18:13.297525Z",
     "shell.execute_reply": "2022-06-10T14:18:13.296951Z"
    }
   },
   "outputs": [
    {
     "data": {
      "text/latex": [
       "$\\displaystyle l_{1} m_{2} \\left(\\sin{\\left(q_{1} \\right)} \\sin{\\left(q_{2} \\right)} + \\cos{\\left(q_{1} \\right)} \\cos{\\left(q_{2} \\right)}\\right) u_{1}^{2} + l_{1} m_{2} \\left(\\sin{\\left(q_{1} \\right)} \\cos{\\left(q_{2} \\right)} - \\sin{\\left(q_{2} \\right)} \\cos{\\left(q_{1} \\right)}\\right) \\dot{u}_{1} + l_{2} m_{2} u_{2}^{2}$"
      ],
      "text/plain": [
       "                                            2                                 \n",
       "l₁⋅m₂⋅(sin(q₁)⋅sin(q₂) + cos(q₁)⋅cos(q₂))⋅u₁  + l₁⋅m₂⋅(sin(q₁)⋅cos(q₂) - sin(q\n",
       "\n",
       "                         2\n",
       "₂)⋅cos(q₁))⋅u₁̇ + l₂⋅m₂⋅u₂ "
      ]
     },
     "execution_count": 28,
     "metadata": {},
     "output_type": "execute_result"
    }
   ],
   "source": [
    "F4s = N_v_P1a.diff(u4, N).dot(Rs_P1) + N_v_P2a.diff(u4, N).dot(Rs_P2)\n",
    "F4s"
   ]
  },
  {
   "cell_type": "code",
   "execution_count": 29,
   "id": "a8750544",
   "metadata": {
    "execution": {
     "iopub.execute_input": "2022-06-10T14:18:13.299929Z",
     "iopub.status.busy": "2022-06-10T14:18:13.299493Z",
     "iopub.status.idle": "2022-06-10T14:18:14.556781Z",
     "shell.execute_reply": "2022-06-10T14:18:14.556167Z"
    }
   },
   "outputs": [
    {
     "data": {
      "text/latex": [
       "$\\displaystyle \\left[\\begin{matrix}- l_{1} \\left(l_{1} m_{1} \\dot{u}_{1} + l_{1} m_{2} \\dot{u}_{1} + l_{2} m_{2} u_{2}^{2} \\sin{\\left(q_{1} - q_{2} \\right)} + l_{2} m_{2} \\cos{\\left(q_{1} - q_{2} \\right)} \\dot{u}_{2}\\right)\\\\l_{2} m_{2} \\left(l_{1} u_{1}^{2} \\sin{\\left(q_{1} - q_{2} \\right)} - l_{1} \\cos{\\left(q_{1} - q_{2} \\right)} \\dot{u}_{1} - l_{2} \\dot{u}_{2}\\right)\\\\l_{1} m_{1} u_{1}^{2} + l_{1} m_{2} u_{1}^{2} + l_{2} m_{2} u_{2}^{2} \\cos{\\left(q_{1} - q_{2} \\right)} - l_{2} m_{2} \\sin{\\left(q_{1} - q_{2} \\right)} \\dot{u}_{2}\\\\m_{2} \\left(l_{1} u_{1}^{2} \\cos{\\left(q_{1} - q_{2} \\right)} + l_{1} \\sin{\\left(q_{1} - q_{2} \\right)} \\dot{u}_{1} + l_{2} u_{2}^{2}\\right)\\end{matrix}\\right]$"
      ],
      "text/plain": [
       "⎡    ⎛                              2                                     ⎞⎤\n",
       "⎢-l₁⋅⎝l₁⋅m₁⋅u₁̇ + l₁⋅m₂⋅u₁̇ + l₂⋅m₂⋅u₂ ⋅sin(q₁ - q₂) + l₂⋅m₂⋅cos(q₁ - q₂)⋅u₂̇⎠⎥\n",
       "⎢                                                                          ⎥\n",
       "⎢               ⎛     2                                          ⎞         ⎥\n",
       "⎢         l₂⋅m₂⋅⎝l₁⋅u₁ ⋅sin(q₁ - q₂) - l₁⋅cos(q₁ - q₂)⋅u₁̇ - l₂⋅u₂̇⎠         ⎥\n",
       "⎢                                                                          ⎥\n",
       "⎢          2           2           2                                       ⎥\n",
       "⎢  l₁⋅m₁⋅u₁  + l₁⋅m₂⋅u₁  + l₂⋅m₂⋅u₂ ⋅cos(q₁ - q₂) - l₂⋅m₂⋅sin(q₁ - q₂)⋅u₂̇  ⎥\n",
       "⎢                                                                          ⎥\n",
       "⎢             ⎛     2                                          2⎞          ⎥\n",
       "⎣          m₂⋅⎝l₁⋅u₁ ⋅cos(q₁ - q₂) + l₁⋅sin(q₁ - q₂)⋅u₁̇ + l₂⋅u₂ ⎠          ⎦"
      ]
     },
     "execution_count": 29,
     "metadata": {},
     "output_type": "execute_result"
    }
   ],
   "source": [
    "Frs = sm.Matrix([F1s, F2s, F3s, F4s])\n",
    "Frs = sm.trigsimp(Frs)\n",
    "Frs"
   ]
  },
  {
   "cell_type": "code",
   "execution_count": 30,
   "id": "a6c3c685",
   "metadata": {
    "execution": {
     "iopub.execute_input": "2022-06-10T14:18:14.559597Z",
     "iopub.status.busy": "2022-06-10T14:18:14.559260Z",
     "iopub.status.idle": "2022-06-10T14:18:14.567127Z",
     "shell.execute_reply": "2022-06-10T14:18:14.566664Z"
    }
   },
   "outputs": [
    {
     "data": {
      "text/latex": [
       "$\\displaystyle \\left\\{T_{1}, T_{2}, q_{1}, q_{2}, u_{1}, u_{2}, \\dot{u}_{1}, \\dot{u}_{2}\\right\\}$"
      ],
      "text/plain": [
       "{T₁, T₂, q₁, q₂, u₁, u₂, u₁̇, u₂̇}"
      ]
     },
     "execution_count": 30,
     "metadata": {},
     "output_type": "execute_result"
    }
   ],
   "source": [
    "fa = Frs + Fr\n",
    "me.find_dynamicsymbols(fa)"
   ]
  },
  {
   "cell_type": "code",
   "execution_count": 31,
   "id": "b87560aa",
   "metadata": {
    "execution": {
     "iopub.execute_input": "2022-06-10T14:18:14.569401Z",
     "iopub.status.busy": "2022-06-10T14:18:14.568999Z",
     "iopub.status.idle": "2022-06-10T14:18:14.626238Z",
     "shell.execute_reply": "2022-06-10T14:18:14.625568Z"
    }
   },
   "outputs": [
    {
     "data": {
      "text/latex": [
       "$\\displaystyle \\left( \\left[\\begin{matrix}- l_{1} \\left(l_{1} m_{1} + l_{1} m_{2}\\right) & - l_{1} l_{2} m_{2} \\cos{\\left(q_{1} - q_{2} \\right)} & 0 & 0\\\\- l_{1} l_{2} m_{2} \\cos{\\left(q_{1} - q_{2} \\right)} & - l_{2}^{2} m_{2} & 0 & 0\\\\0 & - l_{2} m_{2} \\sin{\\left(q_{1} - q_{2} \\right)} & -1 & 0\\\\l_{1} m_{2} \\sin{\\left(q_{1} - q_{2} \\right)} & 0 & 0 & -1\\end{matrix}\\right], \\  \\left[\\begin{matrix}\\dot{u}_{1}\\\\\\dot{u}_{2}\\\\T_{1}\\\\T_{2}\\end{matrix}\\right], \\  \\left[\\begin{matrix}- g l_{1} m_{1} \\sin{\\left(q_{1} \\right)} - g l_{1} m_{2} \\sin{\\left(q_{1} \\right)} - l_{1} l_{2} m_{2} u_{2}^{2} \\sin{\\left(q_{1} - q_{2} \\right)}\\\\- g l_{2} m_{2} \\sin{\\left(q_{2} \\right)} + l_{1} l_{2} m_{2} u_{1}^{2} \\sin{\\left(q_{1} - q_{2} \\right)}\\\\g m_{1} \\cos{\\left(q_{1} \\right)} + g m_{2} \\cos{\\left(q_{1} \\right)} + l_{1} m_{1} u_{1}^{2} + l_{1} m_{2} u_{1}^{2} + l_{2} m_{2} u_{2}^{2} \\cos{\\left(q_{1} - q_{2} \\right)}\\\\g m_{2} \\cos{\\left(q_{2} \\right)} + m_{2} \\left(l_{1} u_{1}^{2} \\cos{\\left(q_{1} - q_{2} \\right)} + l_{2} u_{2}^{2}\\right)\\end{matrix}\\right]\\right)$"
      ],
      "text/plain": [
       "⎛                                                                ⎡            \n",
       "⎜⎡ -l₁⋅(l₁⋅m₁ + l₁⋅m₂)    -l₁⋅l₂⋅m₂⋅cos(q₁ - q₂)  0   0 ⎤        ⎢       -g⋅l₁\n",
       "⎜⎢                                                      ⎥  ⎡u₁̇⎤  ⎢           \n",
       "⎜⎢                                  2                   ⎥  ⎢  ⎥  ⎢            \n",
       "⎜⎢-l₁⋅l₂⋅m₂⋅cos(q₁ - q₂)         -l₂ ⋅m₂          0   0 ⎥  ⎢u₂̇⎥  ⎢           \n",
       "⎜⎢                                                      ⎥, ⎢  ⎥, ⎢            \n",
       "⎜⎢          0              -l₂⋅m₂⋅sin(q₁ - q₂)    -1  0 ⎥  ⎢T₁⎥  ⎢            \n",
       "⎜⎢                                                      ⎥  ⎢  ⎥  ⎢g⋅m₁⋅cos(q₁)\n",
       "⎜⎣  l₁⋅m₂⋅sin(q₁ - q₂)              0             0   -1⎦  ⎣T₂⎦  ⎢            \n",
       "⎜                                                                ⎢            \n",
       "⎝                                                                ⎣            \n",
       "\n",
       "                                           2                    ⎤⎞\n",
       "⋅m₁⋅sin(q₁) - g⋅l₁⋅m₂⋅sin(q₁) - l₁⋅l₂⋅m₂⋅u₂ ⋅sin(q₁ - q₂)       ⎥⎟\n",
       "                                                                 ⎥⎟\n",
       "                                  2                             ⎥⎟\n",
       "     -g⋅l₂⋅m₂⋅sin(q₂) + l₁⋅l₂⋅m₂⋅u₁ ⋅sin(q₁ - q₂)                ⎥⎟\n",
       "                                                                ⎥⎟\n",
       "                          2           2           2             ⎥⎟\n",
       " + g⋅m₂⋅cos(q₁) + l₁⋅m₁⋅u₁  + l₁⋅m₂⋅u₁  + l₂⋅m₂⋅u₂ ⋅cos(q₁ - q₂)⎥⎟\n",
       "                                                                ⎥⎟\n",
       "                    ⎛     2                     2⎞              ⎥⎟\n",
       "  g⋅m₂⋅cos(q₂) + m₂⋅⎝l₁⋅u₁ ⋅cos(q₁ - q₂) + l₂⋅u₂ ⎠              ⎦⎠"
      ]
     },
     "execution_count": 31,
     "metadata": {},
     "output_type": "execute_result"
    }
   ],
   "source": [
    "Ma = fa.jacobian(udr)\n",
    "ga = fa.xreplace(udr_zero)\n",
    "\n",
    "Ma, udr, ga"
   ]
  },
  {
   "cell_type": "code",
   "execution_count": 32,
   "id": "580ad889",
   "metadata": {
    "execution": {
     "iopub.execute_input": "2022-06-10T14:18:14.629240Z",
     "iopub.status.busy": "2022-06-10T14:18:14.628915Z",
     "iopub.status.idle": "2022-06-10T14:18:14.655422Z",
     "shell.execute_reply": "2022-06-10T14:18:14.654899Z"
    }
   },
   "outputs": [],
   "source": [
    "udr_sol = -Ma.LUsolve(ga)"
   ]
  },
  {
   "cell_type": "code",
   "execution_count": 33,
   "id": "95611c58",
   "metadata": {
    "execution": {
     "iopub.execute_input": "2022-06-10T14:18:14.657986Z",
     "iopub.status.busy": "2022-06-10T14:18:14.657553Z",
     "iopub.status.idle": "2022-06-10T14:18:18.497943Z",
     "shell.execute_reply": "2022-06-10T14:18:18.497354Z"
    }
   },
   "outputs": [
    {
     "data": {
      "text/latex": [
       "$\\displaystyle g m_{1} \\cos{\\left(q_{1} \\right)} + g m_{2} \\cos{\\left(q_{1} \\right)} + l_{1} m_{1} u_{1}^{2} + l_{1} m_{2} u_{1}^{2} + l_{2} m_{2} u_{2}^{2} \\cos{\\left(q_{1} - q_{2} \\right)} + \\frac{l_{2} m_{2} \\left(- g l_{2} m_{2} \\sin{\\left(q_{2} \\right)} + l_{1} l_{2} m_{2} u_{1}^{2} \\sin{\\left(q_{1} - q_{2} \\right)} + \\frac{l_{1} l_{2} m_{2} \\left(g m_{1} \\sin{\\left(q_{1} \\right)} + g m_{2} \\sin{\\left(q_{1} \\right)} + l_{2} m_{2} u_{2}^{2} \\sin{\\left(q_{1} - q_{2} \\right)}\\right) \\cos{\\left(q_{1} - q_{2} \\right)}}{l_{1} m_{1} + l_{1} m_{2}}\\right) \\sin{\\left(q_{1} - q_{2} \\right)}}{\\frac{l_{1} l_{2}^{2} m_{2}^{2} \\cos^{2}{\\left(q_{1} - q_{2} \\right)}}{l_{1} m_{1} + l_{1} m_{2}} - l_{2}^{2} m_{2}}$"
      ],
      "text/plain": [
       "                                                                              \n",
       "                                                                              \n",
       "                                                                              \n",
       "                                      2           2           2               \n",
       "g⋅m₁⋅cos(q₁) + g⋅m₂⋅cos(q₁) + l₁⋅m₁⋅u₁  + l₁⋅m₂⋅u₁  + l₂⋅m₂⋅u₂ ⋅cos(q₁ - q₂) +\n",
       "                                                                              \n",
       "                                                                              \n",
       "                                                                              \n",
       "                                                                              \n",
       "\n",
       "       ⎛                                                        ⎛             \n",
       "       ⎜                              2                l₁⋅l₂⋅m₂⋅⎝g⋅m₁⋅sin(q₁) \n",
       " l₂⋅m₂⋅⎜-g⋅l₂⋅m₂⋅sin(q₂) + l₁⋅l₂⋅m₂⋅u₁ ⋅sin(q₁ - q₂) + ───────────────────────\n",
       "       ⎝                                                                      \n",
       " ─────────────────────────────────────────────────────────────────────────────\n",
       "                                                             2   2    2       \n",
       "                                                        l₁⋅l₂ ⋅m₂ ⋅cos (q₁ - q\n",
       "                                                        ──────────────────────\n",
       "                                                             l₁⋅m₁ + l₁⋅m₂    \n",
       "\n",
       "                         2             ⎞             ⎞             \n",
       "+ g⋅m₂⋅sin(q₁) + l₂⋅m₂⋅u₂ ⋅sin(q₁ - q₂)⎠⋅cos(q₁ - q₂)⎟             \n",
       "─────────────────────────────────────────────────────⎟⋅sin(q₁ - q₂)\n",
       "        l₁⋅m₁ + l₁⋅m₂                                ⎠             \n",
       "───────────────────────────────────────────────────────────────────\n",
       "                                                                   \n",
       "₂)     2                                                           \n",
       "── - l₂ ⋅m₂                                                        \n",
       "                                                                   "
      ]
     },
     "execution_count": 33,
     "metadata": {},
     "output_type": "execute_result"
    }
   ],
   "source": [
    "T1_sol = sm.trigsimp(udr_sol[2])\n",
    "T1_sol"
   ]
  },
  {
   "cell_type": "code",
   "execution_count": 34,
   "id": "59269146",
   "metadata": {
    "execution": {
     "iopub.execute_input": "2022-06-10T14:18:18.500593Z",
     "iopub.status.busy": "2022-06-10T14:18:18.500253Z",
     "iopub.status.idle": "2022-06-10T14:18:21.958110Z",
     "shell.execute_reply": "2022-06-10T14:18:21.957326Z"
    }
   },
   "outputs": [
    {
     "data": {
      "text/latex": [
       "$\\displaystyle g m_{2} \\cos{\\left(q_{2} \\right)} + \\frac{l_{1} l_{2} m_{2}^{2} \\left(- g l_{2} m_{2} \\sin{\\left(q_{2} \\right)} + l_{1} l_{2} m_{2} u_{1}^{2} \\sin{\\left(q_{1} - q_{2} \\right)} + \\frac{l_{1} l_{2} m_{2} \\left(g m_{1} \\sin{\\left(q_{1} \\right)} + g m_{2} \\sin{\\left(q_{1} \\right)} + l_{2} m_{2} u_{2}^{2} \\sin{\\left(q_{1} - q_{2} \\right)}\\right) \\cos{\\left(q_{1} - q_{2} \\right)}}{l_{1} m_{1} + l_{1} m_{2}}\\right) \\sin{\\left(q_{1} - q_{2} \\right)} \\cos{\\left(q_{1} - q_{2} \\right)}}{\\left(l_{1} m_{1} + l_{1} m_{2}\\right) \\left(\\frac{l_{1} l_{2}^{2} m_{2}^{2} \\cos^{2}{\\left(q_{1} - q_{2} \\right)}}{l_{1} m_{1} + l_{1} m_{2}} - l_{2}^{2} m_{2}\\right)} - \\frac{l_{1} m_{2} \\left(g m_{1} \\sin{\\left(q_{1} \\right)} + g m_{2} \\sin{\\left(q_{1} \\right)} + l_{2} m_{2} u_{2}^{2} \\sin{\\left(q_{1} - q_{2} \\right)}\\right) \\sin{\\left(q_{1} - q_{2} \\right)}}{l_{1} m_{1} + l_{1} m_{2}} + m_{2} \\left(l_{1} u_{1}^{2} \\cos{\\left(q_{1} - q_{2} \\right)} + l_{2} u_{2}^{2}\\right)$"
      ],
      "text/plain": [
       "                         ⎛                                                    \n",
       "                       2 ⎜                              2                l₁⋅l₂\n",
       "               l₁⋅l₂⋅m₂ ⋅⎜-g⋅l₂⋅m₂⋅sin(q₂) + l₁⋅l₂⋅m₂⋅u₁ ⋅sin(q₁ - q₂) + ─────\n",
       "                         ⎝                                                    \n",
       "g⋅m₂⋅cos(q₂) + ───────────────────────────────────────────────────────────────\n",
       "                                                                              \n",
       "                                                                              \n",
       "                                                                      (l₁⋅m₁ +\n",
       "                                                                              \n",
       "\n",
       "    ⎛                                      2             ⎞             ⎞      \n",
       "⋅m₂⋅⎝g⋅m₁⋅sin(q₁) + g⋅m₂⋅sin(q₁) + l₂⋅m₂⋅u₂ ⋅sin(q₁ - q₂)⎠⋅cos(q₁ - q₂)⎟      \n",
       "───────────────────────────────────────────────────────────────────────⎟⋅sin(q\n",
       "                          l₁⋅m₁ + l₁⋅m₂                                ⎠      \n",
       "──────────────────────────────────────────────────────────────────────────────\n",
       "        ⎛     2   2    2                  ⎞                                   \n",
       "        ⎜l₁⋅l₂ ⋅m₂ ⋅cos (q₁ - q₂)     2   ⎟                                   \n",
       " l₁⋅m₂)⋅⎜──────────────────────── - l₂ ⋅m₂⎟                                   \n",
       "        ⎝     l₁⋅m₁ + l₁⋅m₂               ⎠                                   \n",
       "\n",
       "                                                                              \n",
       "                                                                              \n",
       "₁ - q₂)⋅cos(q₁ - q₂)         ⎛                                      2         \n",
       "                       l₁⋅m₂⋅⎝g⋅m₁⋅sin(q₁) + g⋅m₂⋅sin(q₁) + l₂⋅m₂⋅u₂ ⋅sin(q₁ -\n",
       "──────────────────── - ───────────────────────────────────────────────────────\n",
       "                                                     l₁⋅m₁ + l₁⋅m₂            \n",
       "                                                                              \n",
       "                                                                              \n",
       "                                                                              \n",
       "\n",
       "                                                      \n",
       "                                                      \n",
       "    ⎞                                                 \n",
       " q₂)⎠⋅sin(q₁ - q₂)      ⎛     2                     2⎞\n",
       "────────────────── + m₂⋅⎝l₁⋅u₁ ⋅cos(q₁ - q₂) + l₂⋅u₂ ⎠\n",
       "                                                      \n",
       "                                                      \n",
       "                                                      \n",
       "                                                      "
      ]
     },
     "execution_count": 34,
     "metadata": {},
     "output_type": "execute_result"
    }
   ],
   "source": [
    "T2_sol = sm.trigsimp(udr_sol[3])\n",
    "T2_sol"
   ]
  },
  {
   "cell_type": "code",
   "execution_count": 35,
   "id": "99203238",
   "metadata": {
    "execution": {
     "iopub.execute_input": "2022-06-10T14:18:21.961221Z",
     "iopub.status.busy": "2022-06-10T14:18:21.960866Z",
     "iopub.status.idle": "2022-06-10T14:18:21.965998Z",
     "shell.execute_reply": "2022-06-10T14:18:21.965504Z"
    }
   },
   "outputs": [],
   "source": [
    "q0 = np.array([\n",
    "    np.deg2rad(15.0),  # q1 [rad]\n",
    "    np.deg2rad(25.0),  # q2 [rad]\n",
    "])\n",
    "\n",
    "u0 = np.array([\n",
    "    np.deg2rad(123.0),  # u1 [rad/s]\n",
    "    np.deg2rad(-41.0),  # u2 [rad/s]\n",
    "])\n",
    "\n",
    "p_vals = np.array([\n",
    "    1.2,  # m1 [kg]\n",
    "    5.6,  # m2 [kg]\n",
    "    1.34,  # l1 [m]\n",
    "    6.7,  # l2 [m]\n",
    "    9.81,  # g [m/2^2]\n",
    "])"
   ]
  },
  {
   "cell_type": "code",
   "execution_count": 36,
   "id": "7d5d5058",
   "metadata": {
    "execution": {
     "iopub.execute_input": "2022-06-10T14:18:21.968243Z",
     "iopub.status.busy": "2022-06-10T14:18:21.967938Z",
     "iopub.status.idle": "2022-06-10T14:18:22.050943Z",
     "shell.execute_reply": "2022-06-10T14:18:22.050283Z"
    }
   },
   "outputs": [],
   "source": [
    "eval_d = sm.lambdify((q, u, p), (Md, gd))\n",
    "eval_a = sm.lambdify((q, u, p), (Ma, ga))\n",
    "\n",
    "Md_vals, gd_vals = eval_d(q0, u0, p_vals)\n",
    "Ma_vals, ga_vals = eval_a(q0, u0, p_vals)"
   ]
  },
  {
   "cell_type": "code",
   "execution_count": 37,
   "id": "a2cefa4c",
   "metadata": {
    "execution": {
     "iopub.execute_input": "2022-06-10T14:18:22.054222Z",
     "iopub.status.busy": "2022-06-10T14:18:22.053824Z",
     "iopub.status.idle": "2022-06-10T14:18:22.058201Z",
     "shell.execute_reply": "2022-06-10T14:18:22.057811Z"
    }
   },
   "outputs": [
    {
     "data": {
      "text/plain": [
       "array([  8.09538007,  -2.37332094, 109.88598116,  92.50997719])"
      ]
     },
     "execution_count": 37,
     "metadata": {},
     "output_type": "execute_result"
    }
   ],
   "source": [
    "-np.linalg.solve(Md_vals, np.squeeze(gd_vals))"
   ]
  },
  {
   "cell_type": "code",
   "execution_count": 38,
   "id": "75fb7f7c",
   "metadata": {
    "execution": {
     "iopub.execute_input": "2022-06-10T14:18:22.060388Z",
     "iopub.status.busy": "2022-06-10T14:18:22.060034Z",
     "iopub.status.idle": "2022-06-10T14:18:22.064157Z",
     "shell.execute_reply": "2022-06-10T14:18:22.063650Z"
    }
   },
   "outputs": [
    {
     "data": {
      "text/plain": [
       "array([  8.09538007,  -2.37332094, 109.88598116,  92.50997719])"
      ]
     },
     "execution_count": 38,
     "metadata": {},
     "output_type": "execute_result"
    }
   ],
   "source": [
    "-np.linalg.solve(Ma_vals, np.squeeze(ga_vals))"
   ]
  },
  {
   "cell_type": "code",
   "execution_count": 39,
   "id": "1c5528ba",
   "metadata": {
    "execution": {
     "iopub.execute_input": "2022-06-10T14:18:22.066799Z",
     "iopub.status.busy": "2022-06-10T14:18:22.066452Z",
     "iopub.status.idle": "2022-06-10T14:18:22.107601Z",
     "shell.execute_reply": "2022-06-10T14:18:22.106984Z"
    }
   },
   "outputs": [
    {
     "data": {
      "text/latex": [
       "$\\displaystyle \\left( 109.885981161619, \\  92.5099771909879\\right)$"
      ],
      "text/plain": [
       "(109.88598116161896, 92.50997719098791)"
      ]
     },
     "execution_count": 39,
     "metadata": {},
     "output_type": "execute_result"
    }
   ],
   "source": [
    "eval_forces = sm.lambdify((q, u, p), (T1_sol, T2_sol))\n",
    "eval_forces(q0, u0, p_vals)"
   ]
  },
  {
   "cell_type": "code",
   "execution_count": 40,
   "id": "df3d5d62",
   "metadata": {
    "execution": {
     "iopub.execute_input": "2022-06-10T14:18:22.110491Z",
     "iopub.status.busy": "2022-06-10T14:18:22.109953Z",
     "iopub.status.idle": "2022-06-10T14:18:22.114662Z",
     "shell.execute_reply": "2022-06-10T14:18:22.114183Z"
    }
   },
   "outputs": [],
   "source": [
    "def eval_rhs_newton(t, x, p):\n",
    "\n",
    "    q = x[:2]\n",
    "    u = x[2:]\n",
    "\n",
    "    Md, gd = eval_d(q, u, p)\n",
    "    udr = -np.linalg.solve(Md, np.squeeze(gd))\n",
    "\n",
    "    qd = u\n",
    "    ud = sol[:2]\n",
    "    r = sol[2:]\n",
    "\n",
    "    return np.hstack((qd, ud))"
   ]
  }
 ],
 "metadata": {
  "kernelspec": {
   "display_name": "Python 3 (ipykernel)",
   "language": "python",
   "name": "python3"
  },
  "language_info": {
   "codemirror_mode": {
    "name": "ipython",
    "version": 3
   },
   "file_extension": ".py",
   "mimetype": "text/x-python",
   "name": "python",
   "nbconvert_exporter": "python",
   "pygments_lexer": "ipython3",
   "version": "3.9.13"
  }
 },
 "nbformat": 4,
 "nbformat_minor": 5
}