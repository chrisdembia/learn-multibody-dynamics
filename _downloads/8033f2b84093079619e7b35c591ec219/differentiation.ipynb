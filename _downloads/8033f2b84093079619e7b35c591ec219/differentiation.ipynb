{
 "cells": [
  {
   "cell_type": "code",
   "execution_count": 1,
   "id": "94e86ed8",
   "metadata": {
    "execution": {
     "iopub.execute_input": "2022-06-10T14:15:18.268070Z",
     "iopub.status.busy": "2022-06-10T14:15:18.267824Z",
     "iopub.status.idle": "2022-06-10T14:15:18.719881Z",
     "shell.execute_reply": "2022-06-10T14:15:18.719166Z"
    }
   },
   "outputs": [],
   "source": [
    "import sympy as sm\n",
    "import sympy.physics.mechanics as me\n",
    "sm.init_printing(use_latex='mathjax')"
   ]
  },
  {
   "cell_type": "code",
   "execution_count": 2,
   "id": "d87e22d8",
   "metadata": {
    "execution": {
     "iopub.execute_input": "2022-06-10T14:15:18.723323Z",
     "iopub.status.busy": "2022-06-10T14:15:18.722929Z",
     "iopub.status.idle": "2022-06-10T14:15:18.741506Z",
     "shell.execute_reply": "2022-06-10T14:15:18.740954Z"
    }
   },
   "outputs": [
    {
     "data": {
      "text/latex": [
       "$\\displaystyle a\\mathbf{\\hat{a}_x} + b\\mathbf{\\hat{a}_y} + c\\mathbf{\\hat{b}_x} + d\\mathbf{\\hat{b}_y} + e\\mathbf{\\hat{c}_x} + f\\mathbf{\\hat{c}_y}$"
      ],
      "text/plain": [
       "a a_x + b a_y + c b_x + d b_y + e c_x + f c_y"
      ]
     },
     "execution_count": 2,
     "metadata": {},
     "output_type": "execute_result"
    }
   ],
   "source": [
    "alpha, beta = sm.symbols('alpha, beta')\n",
    "a, b, c, d, e, f = sm.symbols('a, b, c, d, e, f')\n",
    "\n",
    "A = me.ReferenceFrame('A')\n",
    "B = me.ReferenceFrame('B')\n",
    "C = me.ReferenceFrame('C')\n",
    "\n",
    "B.orient_axis(A, alpha, A.x)\n",
    "C.orient_axis(B, beta, B.y)\n",
    "\n",
    "v = a*A.x + b*A.y + c*B.x + d*B.y + e*C.x + f*C.y\n",
    "v"
   ]
  },
  {
   "cell_type": "code",
   "execution_count": 3,
   "id": "216648ab",
   "metadata": {
    "execution": {
     "iopub.execute_input": "2022-06-10T14:15:18.743806Z",
     "iopub.status.busy": "2022-06-10T14:15:18.743618Z",
     "iopub.status.idle": "2022-06-10T14:15:18.750758Z",
     "shell.execute_reply": "2022-06-10T14:15:18.750226Z"
    }
   },
   "outputs": [
    {
     "data": {
      "text/latex": [
       "$\\displaystyle 0$"
      ],
      "text/plain": [
       "0"
      ]
     },
     "execution_count": 3,
     "metadata": {},
     "output_type": "execute_result"
    }
   ],
   "source": [
    "dvdax = v.dot(A.x).diff(alpha)\n",
    "dvdax"
   ]
  },
  {
   "cell_type": "code",
   "execution_count": 4,
   "id": "81da7cb4",
   "metadata": {
    "execution": {
     "iopub.execute_input": "2022-06-10T14:15:18.753631Z",
     "iopub.status.busy": "2022-06-10T14:15:18.753323Z",
     "iopub.status.idle": "2022-06-10T14:15:18.764903Z",
     "shell.execute_reply": "2022-06-10T14:15:18.764380Z"
    }
   },
   "outputs": [
    {
     "data": {
      "text/latex": [
       "$\\displaystyle - d \\sin{\\left(\\alpha \\right)} + e \\sin{\\left(\\beta \\right)} \\cos{\\left(\\alpha \\right)} - f \\sin{\\left(\\alpha \\right)}$"
      ],
      "text/plain": [
       "-d⋅sin(α) + e⋅sin(β)⋅cos(α) - f⋅sin(α)"
      ]
     },
     "execution_count": 4,
     "metadata": {},
     "output_type": "execute_result"
    }
   ],
   "source": [
    "dvday = v.dot(A.y).diff(alpha)\n",
    "dvday"
   ]
  },
  {
   "cell_type": "code",
   "execution_count": 5,
   "id": "f62289dc",
   "metadata": {
    "execution": {
     "iopub.execute_input": "2022-06-10T14:15:18.767108Z",
     "iopub.status.busy": "2022-06-10T14:15:18.766815Z",
     "iopub.status.idle": "2022-06-10T14:15:18.777741Z",
     "shell.execute_reply": "2022-06-10T14:15:18.777212Z"
    }
   },
   "outputs": [
    {
     "data": {
      "text/latex": [
       "$\\displaystyle d \\cos{\\left(\\alpha \\right)} + e \\sin{\\left(\\alpha \\right)} \\sin{\\left(\\beta \\right)} + f \\cos{\\left(\\alpha \\right)}$"
      ],
      "text/plain": [
       "d⋅cos(α) + e⋅sin(α)⋅sin(β) + f⋅cos(α)"
      ]
     },
     "execution_count": 5,
     "metadata": {},
     "output_type": "execute_result"
    }
   ],
   "source": [
    "dvdaz = v.dot(A.z).diff(alpha)\n",
    "dvdaz"
   ]
  },
  {
   "cell_type": "code",
   "execution_count": 6,
   "id": "3c3e2a71",
   "metadata": {
    "execution": {
     "iopub.execute_input": "2022-06-10T14:15:18.780691Z",
     "iopub.status.busy": "2022-06-10T14:15:18.780353Z",
     "iopub.status.idle": "2022-06-10T14:15:18.787838Z",
     "shell.execute_reply": "2022-06-10T14:15:18.787318Z"
    }
   },
   "outputs": [
    {
     "data": {
      "text/latex": [
       "$\\displaystyle (- d \\sin{\\left(\\alpha \\right)} + e \\sin{\\left(\\beta \\right)} \\cos{\\left(\\alpha \\right)} - f \\sin{\\left(\\alpha \\right)})\\mathbf{\\hat{a}_y} + (d \\cos{\\left(\\alpha \\right)} + e \\sin{\\left(\\alpha \\right)} \\sin{\\left(\\beta \\right)} + f \\cos{\\left(\\alpha \\right)})\\mathbf{\\hat{a}_z}$"
      ],
      "text/plain": [
       "(-d⋅sin(α) + e⋅sin(β)⋅cos(α) - f⋅sin(α)) a_y + (d⋅cos(α) + e⋅sin(α)⋅sin(β) + f\n",
       "⋅cos(α)) a_z"
      ]
     },
     "execution_count": 6,
     "metadata": {},
     "output_type": "execute_result"
    }
   ],
   "source": [
    "dvda = dvdax*A.x + dvday*A.y + dvdaz*A.z\n",
    "dvda"
   ]
  },
  {
   "cell_type": "code",
   "execution_count": 7,
   "id": "c0c0abbd",
   "metadata": {
    "execution": {
     "iopub.execute_input": "2022-06-10T14:15:18.790465Z",
     "iopub.status.busy": "2022-06-10T14:15:18.790221Z",
     "iopub.status.idle": "2022-06-10T14:15:18.823423Z",
     "shell.execute_reply": "2022-06-10T14:15:18.822843Z"
    }
   },
   "outputs": [
    {
     "data": {
      "text/latex": [
       "$\\displaystyle (d \\sin^{2}{\\left(\\alpha \\right)} + d \\cos^{2}{\\left(\\alpha \\right)})\\mathbf{\\hat{b}_z} + (- \\left(e \\sin{\\left(\\alpha \\right)} \\sin{\\left(\\beta \\right)} + f \\cos{\\left(\\alpha \\right)}\\right) \\sin{\\left(\\beta \\right)} \\cos{\\left(\\alpha \\right)} + \\left(e \\sin{\\left(\\beta \\right)} \\cos{\\left(\\alpha \\right)} - f \\sin{\\left(\\alpha \\right)}\\right) \\sin{\\left(\\alpha \\right)} \\sin{\\left(\\beta \\right)})\\mathbf{\\hat{c}_x} + (\\left(e \\sin{\\left(\\alpha \\right)} \\sin{\\left(\\beta \\right)} + f \\cos{\\left(\\alpha \\right)}\\right) \\sin{\\left(\\alpha \\right)} + \\left(e \\sin{\\left(\\beta \\right)} \\cos{\\left(\\alpha \\right)} - f \\sin{\\left(\\alpha \\right)}\\right) \\cos{\\left(\\alpha \\right)})\\mathbf{\\hat{c}_y} + (\\left(e \\sin{\\left(\\alpha \\right)} \\sin{\\left(\\beta \\right)} + f \\cos{\\left(\\alpha \\right)}\\right) \\cos{\\left(\\alpha \\right)} \\cos{\\left(\\beta \\right)} - \\left(e \\sin{\\left(\\beta \\right)} \\cos{\\left(\\alpha \\right)} - f \\sin{\\left(\\alpha \\right)}\\right) \\sin{\\left(\\alpha \\right)} \\cos{\\left(\\beta \\right)})\\mathbf{\\hat{c}_z}$"
      ],
      "text/plain": [
       "⎛     2           2   ⎞\n",
       "⎝d⋅sin (α) + d⋅cos (α)⎠ b_z + (-(e⋅sin(α)⋅sin(β) + f⋅cos(α))⋅sin(β)⋅cos(α) + (\n",
       "\n",
       "\n",
       "e⋅sin(β)⋅cos(α) - f⋅sin(α))⋅sin(α)⋅sin(β)) c_x + ((e⋅sin(α)⋅sin(β) + f⋅cos(α))\n",
       "\n",
       "\n",
       "⋅sin(α) + (e⋅sin(β)⋅cos(α) - f⋅sin(α))⋅cos(α)) c_y + ((e⋅sin(α)⋅sin(β) + f⋅cos\n",
       "\n",
       "\n",
       "(α))⋅cos(α)⋅cos(β) - (e⋅sin(β)⋅cos(α) - f⋅sin(α))⋅sin(α)⋅cos(β)) c_z"
      ]
     },
     "execution_count": 7,
     "metadata": {},
     "output_type": "execute_result"
    }
   ],
   "source": [
    "dvdalpha = v.diff(alpha, A)\n",
    "dvdalpha"
   ]
  },
  {
   "cell_type": "code",
   "execution_count": 8,
   "id": "14eddd11",
   "metadata": {
    "execution": {
     "iopub.execute_input": "2022-06-10T14:15:18.825997Z",
     "iopub.status.busy": "2022-06-10T14:15:18.825624Z",
     "iopub.status.idle": "2022-06-10T14:15:18.996703Z",
     "shell.execute_reply": "2022-06-10T14:15:18.995996Z"
    }
   },
   "outputs": [
    {
     "data": {
      "text/latex": [
       "$\\displaystyle d\\mathbf{\\hat{b}_z} -  f \\sin{\\left(\\beta \\right)}\\mathbf{\\hat{c}_x} + e \\sin{\\left(\\beta \\right)}\\mathbf{\\hat{c}_y} + f \\cos{\\left(\\beta \\right)}\\mathbf{\\hat{c}_z}$"
      ],
      "text/plain": [
       "d b_z + -f⋅sin(β) c_x + e⋅sin(β) c_y + f⋅cos(β) c_z"
      ]
     },
     "execution_count": 8,
     "metadata": {},
     "output_type": "execute_result"
    }
   ],
   "source": [
    "v.diff(alpha, A).simplify()"
   ]
  },
  {
   "cell_type": "code",
   "execution_count": 9,
   "id": "a090b19e",
   "metadata": {
    "execution": {
     "iopub.execute_input": "2022-06-10T14:15:18.999359Z",
     "iopub.status.busy": "2022-06-10T14:15:18.999031Z",
     "iopub.status.idle": "2022-06-10T14:15:19.727701Z",
     "shell.execute_reply": "2022-06-10T14:15:19.726991Z"
    }
   },
   "outputs": [
    {
     "data": {
      "text/latex": [
       "$\\displaystyle (- d \\sin{\\left(\\alpha \\right)} + e \\sin{\\left(\\beta \\right)} \\cos{\\left(\\alpha \\right)} - f \\sin{\\left(\\alpha \\right)})\\mathbf{\\hat{a}_y} + (d \\cos{\\left(\\alpha \\right)} + e \\sin{\\left(\\alpha \\right)} \\sin{\\left(\\beta \\right)} + f \\cos{\\left(\\alpha \\right)})\\mathbf{\\hat{a}_z}$"
      ],
      "text/plain": [
       "(-d⋅sin(α) + e⋅sin(β)⋅cos(α) - f⋅sin(α)) a_y + (d⋅cos(α) + e⋅sin(α)⋅sin(β) + f\n",
       "⋅cos(α)) a_z"
      ]
     },
     "execution_count": 9,
     "metadata": {},
     "output_type": "execute_result"
    }
   ],
   "source": [
    "v.diff(alpha, A).express(A).simplify()"
   ]
  },
  {
   "cell_type": "code",
   "execution_count": 10,
   "id": "ae2356c2",
   "metadata": {
    "execution": {
     "iopub.execute_input": "2022-06-10T14:15:19.730863Z",
     "iopub.status.busy": "2022-06-10T14:15:19.730470Z",
     "iopub.status.idle": "2022-06-10T14:15:19.736158Z",
     "shell.execute_reply": "2022-06-10T14:15:19.735600Z"
    }
   },
   "outputs": [
    {
     "data": {
      "text/latex": [
       "$\\displaystyle q{\\left(t \\right)}$"
      ],
      "text/plain": [
       "q(t)"
      ]
     },
     "execution_count": 10,
     "metadata": {},
     "output_type": "execute_result"
    }
   ],
   "source": [
    "t = sm.symbols('t')\n",
    "q_of = sm.Function('q')\n",
    "\n",
    "q = q_of(t)\n",
    "q"
   ]
  },
  {
   "cell_type": "code",
   "execution_count": 11,
   "id": "93e5a865",
   "metadata": {
    "execution": {
     "iopub.execute_input": "2022-06-10T14:15:19.739169Z",
     "iopub.status.busy": "2022-06-10T14:15:19.738643Z",
     "iopub.status.idle": "2022-06-10T14:15:19.743337Z",
     "shell.execute_reply": "2022-06-10T14:15:19.742826Z"
    }
   },
   "outputs": [
    {
     "data": {
      "text/latex": [
       "$\\displaystyle \\frac{d}{d t} q{\\left(t \\right)}$"
      ],
      "text/plain": [
       "d       \n",
       "──(q(t))\n",
       "dt      "
      ]
     },
     "execution_count": 11,
     "metadata": {},
     "output_type": "execute_result"
    }
   ],
   "source": [
    "q.diff(t)"
   ]
  },
  {
   "cell_type": "code",
   "execution_count": 12,
   "id": "d619a3b6",
   "metadata": {
    "execution": {
     "iopub.execute_input": "2022-06-10T14:15:19.745597Z",
     "iopub.status.busy": "2022-06-10T14:15:19.745174Z",
     "iopub.status.idle": "2022-06-10T14:15:19.750066Z",
     "shell.execute_reply": "2022-06-10T14:15:19.749548Z"
    }
   },
   "outputs": [
    {
     "data": {
      "text/latex": [
       "$\\displaystyle \\left( \\operatorname{q_{1}}{\\left(t \\right)}, \\  \\operatorname{q_{2}}{\\left(t \\right)}, \\  \\operatorname{q_{3}}{\\left(t \\right)}\\right)$"
      ],
      "text/plain": [
       "(q₁(t), q₂(t), q₃(t))"
      ]
     },
     "execution_count": 12,
     "metadata": {},
     "output_type": "execute_result"
    }
   ],
   "source": [
    "q1, q2, q3 = me.dynamicsymbols('q1, q2, q3')\n",
    "q1, q2, q3"
   ]
  },
  {
   "cell_type": "code",
   "execution_count": 13,
   "id": "1c7048c9",
   "metadata": {
    "execution": {
     "iopub.execute_input": "2022-06-10T14:15:19.752641Z",
     "iopub.status.busy": "2022-06-10T14:15:19.752339Z",
     "iopub.status.idle": "2022-06-10T14:15:19.754981Z",
     "shell.execute_reply": "2022-06-10T14:15:19.754461Z"
    }
   },
   "outputs": [],
   "source": [
    "t = me.dynamicsymbols._t"
   ]
  },
  {
   "cell_type": "code",
   "execution_count": 14,
   "id": "ed90dcc6",
   "metadata": {
    "execution": {
     "iopub.execute_input": "2022-06-10T14:15:19.757163Z",
     "iopub.status.busy": "2022-06-10T14:15:19.756748Z",
     "iopub.status.idle": "2022-06-10T14:15:19.763950Z",
     "shell.execute_reply": "2022-06-10T14:15:19.763438Z"
    }
   },
   "outputs": [
    {
     "data": {
      "text/latex": [
       "$\\displaystyle \\left( \\dot{q}_{1}, \\  \\ddot{q}_{2}, \\  \\dddot{q}_{3}\\right)$"
      ],
      "text/plain": [
       "(q₁̇, q₂̈, q₃⃛)"
      ]
     },
     "execution_count": 14,
     "metadata": {},
     "output_type": "execute_result"
    }
   ],
   "source": [
    "me.init_vprinting(use_latex='mathjax')\n",
    "q1.diff(t), q2.diff(t, 2), q3.diff(t, 3)"
   ]
  },
  {
   "cell_type": "code",
   "execution_count": 15,
   "id": "baaa3fb6",
   "metadata": {
    "execution": {
     "iopub.execute_input": "2022-06-10T14:15:19.766550Z",
     "iopub.status.busy": "2022-06-10T14:15:19.766189Z",
     "iopub.status.idle": "2022-06-10T14:15:19.941361Z",
     "shell.execute_reply": "2022-06-10T14:15:19.940715Z"
    }
   },
   "outputs": [
    {
     "data": {
      "text/latex": [
       "$\\displaystyle q_{1}\\mathbf{\\hat{a}_x} + q_{2}\\mathbf{\\hat{a}_y} + t^{2}\\mathbf{\\hat{a}_z}$"
      ],
      "text/plain": [
       "                   2\n",
       "q₁ a_x + q₂ a_y + t  a_z"
      ]
     },
     "execution_count": 15,
     "metadata": {},
     "output_type": "execute_result"
    }
   ],
   "source": [
    "A = me.ReferenceFrame('A')\n",
    "B = me.ReferenceFrame('B')\n",
    "B.orient_body_fixed(A, (q1, q2, q3), 'ZXZ')\n",
    "v = q1*A.x + q2*A.y + t**2*A.z\n",
    "v"
   ]
  },
  {
   "cell_type": "code",
   "execution_count": 16,
   "id": "63d5e869",
   "metadata": {
    "execution": {
     "iopub.execute_input": "2022-06-10T14:15:19.944173Z",
     "iopub.status.busy": "2022-06-10T14:15:19.943835Z",
     "iopub.status.idle": "2022-06-10T14:15:19.954290Z",
     "shell.execute_reply": "2022-06-10T14:15:19.953762Z"
    }
   },
   "outputs": [
    {
     "data": {
      "text/latex": [
       "$\\displaystyle \\dot{q}_{1}\\mathbf{\\hat{a}_x} + \\dot{q}_{2}\\mathbf{\\hat{a}_y} + 2 t\\mathbf{\\hat{a}_z}$"
      ],
      "text/plain": [
       "q₁̇ a_x + q₂̇ a_y + 2⋅t a_z"
      ]
     },
     "execution_count": 16,
     "metadata": {},
     "output_type": "execute_result"
    }
   ],
   "source": [
    "v.diff(t, A)"
   ]
  },
  {
   "cell_type": "code",
   "execution_count": 17,
   "id": "54569205",
   "metadata": {
    "execution": {
     "iopub.execute_input": "2022-06-10T14:15:19.957295Z",
     "iopub.status.busy": "2022-06-10T14:15:19.957116Z",
     "iopub.status.idle": "2022-06-10T14:15:19.963236Z",
     "shell.execute_reply": "2022-06-10T14:15:19.962663Z"
    }
   },
   "outputs": [
    {
     "data": {
      "text/latex": [
       "$\\displaystyle \\dot{q}_{1}\\mathbf{\\hat{a}_x} + \\dot{q}_{2}\\mathbf{\\hat{a}_y} + 2 t\\mathbf{\\hat{a}_z}$"
      ],
      "text/plain": [
       "q₁̇ a_x + q₂̇ a_y + 2⋅t a_z"
      ]
     },
     "execution_count": 17,
     "metadata": {},
     "output_type": "execute_result"
    }
   ],
   "source": [
    "v.dt(A)"
   ]
  }
 ],
 "metadata": {
  "kernelspec": {
   "display_name": "Python 3 (ipykernel)",
   "language": "python",
   "name": "python3"
  },
  "language_info": {
   "codemirror_mode": {
    "name": "ipython",
    "version": 3
   },
   "file_extension": ".py",
   "mimetype": "text/x-python",
   "name": "python",
   "nbconvert_exporter": "python",
   "pygments_lexer": "ipython3",
   "version": "3.9.13"
  }
 },
 "nbformat": 4,
 "nbformat_minor": 5
}